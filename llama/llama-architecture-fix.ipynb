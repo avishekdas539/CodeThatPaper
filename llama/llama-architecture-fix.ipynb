{
 "cells": [
  {
   "cell_type": "code",
   "execution_count": 1,
   "id": "a2f8c240",
   "metadata": {
    "_cell_guid": "b1076dfc-b9ad-4769-8c92-a6c4dae69d19",
    "_uuid": "8f2839f25d086af736a60e9eeb907d3b93b6e0e5",
    "execution": {
     "iopub.execute_input": "2025-07-25T04:35:25.425728Z",
     "iopub.status.busy": "2025-07-25T04:35:25.425530Z",
     "iopub.status.idle": "2025-07-25T04:35:33.146870Z",
     "shell.execute_reply": "2025-07-25T04:35:33.146252Z"
    },
    "papermill": {
     "duration": 7.73061,
     "end_time": "2025-07-25T04:35:33.148280",
     "exception": false,
     "start_time": "2025-07-25T04:35:25.417670",
     "status": "completed"
    },
    "tags": []
   },
   "outputs": [],
   "source": [
    "import torch\n",
    "import torch.nn as nn\n",
    "import torch.nn.functional as F\n",
    "from torch.utils.data import Dataset, DataLoader\n",
    "import numpy as np\n",
    "import pandas as pd\n",
    "from datasets import load_dataset\n",
    "from dataclasses import dataclass\n",
    "import math\n",
    "import matplotlib.pyplot as plt\n",
    "import tiktoken\n",
    "import transformers"
   ]
  },
  {
   "cell_type": "code",
   "execution_count": 2,
   "id": "21c3b074",
   "metadata": {
    "execution": {
     "iopub.execute_input": "2025-07-25T04:35:33.163690Z",
     "iopub.status.busy": "2025-07-25T04:35:33.163359Z",
     "iopub.status.idle": "2025-07-25T04:35:33.216500Z",
     "shell.execute_reply": "2025-07-25T04:35:33.215768Z"
    },
    "papermill": {
     "duration": 0.061764,
     "end_time": "2025-07-25T04:35:33.217665",
     "exception": false,
     "start_time": "2025-07-25T04:35:33.155901",
     "status": "completed"
    },
    "tags": []
   },
   "outputs": [
    {
     "data": {
      "text/plain": [
       "'cuda'"
      ]
     },
     "execution_count": 2,
     "metadata": {},
     "output_type": "execute_result"
    }
   ],
   "source": [
    "device = 'cuda' if torch.cuda.is_available() else 'cpu'\n",
    "device"
   ]
  },
  {
   "cell_type": "code",
   "execution_count": 3,
   "id": "bd7f5ea1",
   "metadata": {
    "execution": {
     "iopub.execute_input": "2025-07-25T04:35:33.230911Z",
     "iopub.status.busy": "2025-07-25T04:35:33.230663Z",
     "iopub.status.idle": "2025-07-25T04:35:40.204579Z",
     "shell.execute_reply": "2025-07-25T04:35:40.203861Z"
    },
    "papermill": {
     "duration": 6.981803,
     "end_time": "2025-07-25T04:35:40.205755",
     "exception": false,
     "start_time": "2025-07-25T04:35:33.223952",
     "status": "completed"
    },
    "tags": []
   },
   "outputs": [
    {
     "data": {
      "application/vnd.jupyter.widget-view+json": {
       "model_id": "1ca12aba07614ad0966e7acffb45de82",
       "version_major": 2,
       "version_minor": 0
      },
      "text/plain": [
       "README.md: 0.00B [00:00, ?B/s]"
      ]
     },
     "metadata": {},
     "output_type": "display_data"
    },
    {
     "data": {
      "application/vnd.jupyter.widget-view+json": {
       "model_id": "743e39057bed4c15b86bfb07aab9e2de",
       "version_major": 2,
       "version_minor": 0
      },
      "text/plain": [
       "combined_reasoning.json:   0%|          | 0.00/307M [00:00<?, ?B/s]"
      ]
     },
     "metadata": {},
     "output_type": "display_data"
    },
    {
     "data": {
      "application/vnd.jupyter.widget-view+json": {
       "model_id": "15e6d64643f64bd4aa7364781f363ce5",
       "version_major": 2,
       "version_minor": 0
      },
      "text/plain": [
       "Generating train split:   0%|          | 0/19944 [00:00<?, ? examples/s]"
      ]
     },
     "metadata": {},
     "output_type": "display_data"
    }
   ],
   "source": [
    "ds = load_dataset(\"KingNish/reasoning-base-20k\")\n",
    "ds = ds['train'].train_test_split(test_size=0.1)"
   ]
  },
  {
   "cell_type": "code",
   "execution_count": 4,
   "id": "772aafdd",
   "metadata": {
    "execution": {
     "iopub.execute_input": "2025-07-25T04:35:40.220703Z",
     "iopub.status.busy": "2025-07-25T04:35:40.220280Z",
     "iopub.status.idle": "2025-07-25T04:35:40.224758Z",
     "shell.execute_reply": "2025-07-25T04:35:40.224098Z"
    },
    "papermill": {
     "duration": 0.01259,
     "end_time": "2025-07-25T04:35:40.225958",
     "exception": false,
     "start_time": "2025-07-25T04:35:40.213368",
     "status": "completed"
    },
    "tags": []
   },
   "outputs": [
    {
     "data": {
      "text/plain": [
       "DatasetDict({\n",
       "    train: Dataset({\n",
       "        features: ['user', 'reasoning', 'assistant', 'template', 'conversations'],\n",
       "        num_rows: 17949\n",
       "    })\n",
       "    test: Dataset({\n",
       "        features: ['user', 'reasoning', 'assistant', 'template', 'conversations'],\n",
       "        num_rows: 1995\n",
       "    })\n",
       "})"
      ]
     },
     "execution_count": 4,
     "metadata": {},
     "output_type": "execute_result"
    }
   ],
   "source": [
    "ds"
   ]
  },
  {
   "cell_type": "code",
   "execution_count": 5,
   "id": "7f1cb201",
   "metadata": {
    "execution": {
     "iopub.execute_input": "2025-07-25T04:35:40.239370Z",
     "iopub.status.busy": "2025-07-25T04:35:40.239150Z",
     "iopub.status.idle": "2025-07-25T04:35:41.530719Z",
     "shell.execute_reply": "2025-07-25T04:35:41.530035Z"
    },
    "papermill": {
     "duration": 1.299382,
     "end_time": "2025-07-25T04:35:41.531799",
     "exception": false,
     "start_time": "2025-07-25T04:35:40.232417",
     "status": "completed"
    },
    "tags": []
   },
   "outputs": [
    {
     "data": {
      "text/plain": [
       "50263"
      ]
     },
     "execution_count": 5,
     "metadata": {},
     "output_type": "execute_result"
    }
   ],
   "source": [
    "model = tiktoken.encoding_for_model('gpt-2')\n",
    "special_token_list = ['<|im_start|>', '<|im_end|>', \"user\", \"reasoning\", 'assistant', '<|PAD|>']\n",
    "sp_tokens = {token : model.n_vocab+i for i, token in enumerate(special_token_list)}\n",
    "sp_tokens.update(model._special_tokens)\n",
    "model = tiktoken.Encoding(\n",
    "    name=\"p50k_with_custom\",\n",
    "    pat_str=model._pat_str,\n",
    "    mergeable_ranks=model._mergeable_ranks,\n",
    "    special_tokens=sp_tokens\n",
    ")\n",
    "model.n_vocab"
   ]
  },
  {
   "cell_type": "code",
   "execution_count": 6,
   "id": "04edf7f1",
   "metadata": {
    "execution": {
     "iopub.execute_input": "2025-07-25T04:35:41.545614Z",
     "iopub.status.busy": "2025-07-25T04:35:41.545385Z",
     "iopub.status.idle": "2025-07-25T04:35:41.549993Z",
     "shell.execute_reply": "2025-07-25T04:35:41.549319Z"
    },
    "papermill": {
     "duration": 0.012625,
     "end_time": "2025-07-25T04:35:41.551104",
     "exception": false,
     "start_time": "2025-07-25T04:35:41.538479",
     "status": "completed"
    },
    "tags": []
   },
   "outputs": [
    {
     "data": {
      "text/plain": [
       "{'<|im_start|>': 50257,\n",
       " '<|im_end|>': 50258,\n",
       " 'user': 50259,\n",
       " 'reasoning': 50260,\n",
       " 'assistant': 50261,\n",
       " '<|PAD|>': 50262,\n",
       " '<|endoftext|>': 50256}"
      ]
     },
     "execution_count": 6,
     "metadata": {},
     "output_type": "execute_result"
    }
   ],
   "source": [
    "model._special_tokens"
   ]
  },
  {
   "cell_type": "code",
   "execution_count": 7,
   "id": "516c7674",
   "metadata": {
    "execution": {
     "iopub.execute_input": "2025-07-25T04:35:41.565040Z",
     "iopub.status.busy": "2025-07-25T04:35:41.564592Z",
     "iopub.status.idle": "2025-07-25T04:35:41.568931Z",
     "shell.execute_reply": "2025-07-25T04:35:41.568207Z"
    },
    "papermill": {
     "duration": 0.012509,
     "end_time": "2025-07-25T04:35:41.570105",
     "exception": false,
     "start_time": "2025-07-25T04:35:41.557596",
     "status": "completed"
    },
    "tags": []
   },
   "outputs": [],
   "source": [
    "def encode(text, append_eot = False):\n",
    "    tokens = model.encode(text, allowed_special = set(model._special_tokens.keys())) # forcefully allowing every special tokens\n",
    "    if append_eot == True:\n",
    "        tokens.append(50256)\n",
    "    return tokens\n",
    "\n",
    "def decode(tokens : list[int]):\n",
    "    return model.decode(tokens)"
   ]
  },
  {
   "cell_type": "code",
   "execution_count": 8,
   "id": "9be9d37e",
   "metadata": {
    "execution": {
     "iopub.execute_input": "2025-07-25T04:35:41.583746Z",
     "iopub.status.busy": "2025-07-25T04:35:41.583364Z",
     "iopub.status.idle": "2025-07-25T04:35:41.587950Z",
     "shell.execute_reply": "2025-07-25T04:35:41.587267Z"
    },
    "papermill": {
     "duration": 0.012501,
     "end_time": "2025-07-25T04:35:41.589019",
     "exception": false,
     "start_time": "2025-07-25T04:35:41.576518",
     "status": "completed"
    },
    "tags": []
   },
   "outputs": [],
   "source": [
    "@dataclass\n",
    "class ModelArgs:\n",
    "    vocab_size : int = model.n_vocab\n",
    "    max_seq_len : int = 1280\n",
    "    model_dim : int = 768\n",
    "    padding_idx : int = 50262\n",
    "    num_hidden_layers : int = 6\n",
    "    intermediate_dim: int = 768\n",
    "    n_kv_heads: int = 4\n",
    "    n_head: int = 8\n",
    "    rms_norm_eps : float = 1e-6\n",
    "    bias : bool = False\n",
    "    lr : float = 8e-4"
   ]
  },
  {
   "cell_type": "code",
   "execution_count": 9,
   "id": "053651a4",
   "metadata": {
    "execution": {
     "iopub.execute_input": "2025-07-25T04:35:41.602857Z",
     "iopub.status.busy": "2025-07-25T04:35:41.602197Z",
     "iopub.status.idle": "2025-07-25T04:35:41.605795Z",
     "shell.execute_reply": "2025-07-25T04:35:41.605221Z"
    },
    "papermill": {
     "duration": 0.011559,
     "end_time": "2025-07-25T04:35:41.606885",
     "exception": false,
     "start_time": "2025-07-25T04:35:41.595326",
     "status": "completed"
    },
    "tags": []
   },
   "outputs": [],
   "source": [
    "class ReasoningDataset(Dataset):\n",
    "    def __init__(self, data):\n",
    "        self.data = data\n",
    "\n",
    "    def __getitem__(self, i):\n",
    "        return self.data[i]['template']\n",
    "\n",
    "    def __len__(self):\n",
    "        return self.data.num_rows"
   ]
  },
  {
   "cell_type": "code",
   "execution_count": 10,
   "id": "bdb5f430",
   "metadata": {
    "execution": {
     "iopub.execute_input": "2025-07-25T04:35:41.620508Z",
     "iopub.status.busy": "2025-07-25T04:35:41.620334Z",
     "iopub.status.idle": "2025-07-25T04:35:41.624374Z",
     "shell.execute_reply": "2025-07-25T04:35:41.623881Z"
    },
    "papermill": {
     "duration": 0.011917,
     "end_time": "2025-07-25T04:35:41.625339",
     "exception": false,
     "start_time": "2025-07-25T04:35:41.613422",
     "status": "completed"
    },
    "tags": []
   },
   "outputs": [],
   "source": [
    "def collate_fn(batch : list[str], max_seq_len : int = 1024, pad_id : int = 50262):\n",
    "    batch_tokens = []\n",
    "    for text in batch:\n",
    "        tokens = encode(text, True)[:max_seq_len+1]\n",
    "        token_len = len(tokens)\n",
    "        pad_len = max(0, max_seq_len+1-token_len)\n",
    "        if pad_len:\n",
    "            tokens = tokens + [pad_id] * pad_len\n",
    "        batch_tokens.append(tokens)\n",
    "    return torch.tensor(batch_tokens, dtype=torch.long).to(device)\n",
    "        "
   ]
  },
  {
   "cell_type": "code",
   "execution_count": 11,
   "id": "a84c8f88",
   "metadata": {
    "execution": {
     "iopub.execute_input": "2025-07-25T04:35:41.638721Z",
     "iopub.status.busy": "2025-07-25T04:35:41.638546Z",
     "iopub.status.idle": "2025-07-25T04:35:41.642495Z",
     "shell.execute_reply": "2025-07-25T04:35:41.641876Z"
    },
    "papermill": {
     "duration": 0.011766,
     "end_time": "2025-07-25T04:35:41.643490",
     "exception": false,
     "start_time": "2025-07-25T04:35:41.631724",
     "status": "completed"
    },
    "tags": []
   },
   "outputs": [],
   "source": [
    "def calculate_mask(batch_x : torch.Tensor, pad_id : int = 50262):\n",
    "    B, T = batch_x.shape\n",
    "    causal_mask = torch.tril(torch.ones(1, T, T)).to(device)\n",
    "    pad_mask = (batch_x!=pad_id).to(device)\n",
    "    key_mask = pad_mask[:, None, :] # B, 1, T\n",
    "    query_mask = pad_mask[:, :, None] # B, T, 1\n",
    "    final_mask = causal_mask  * key_mask * query_mask\n",
    "    return final_mask.to(device)"
   ]
  },
  {
   "cell_type": "code",
   "execution_count": 12,
   "id": "04b6e0b6",
   "metadata": {
    "execution": {
     "iopub.execute_input": "2025-07-25T04:35:41.657276Z",
     "iopub.status.busy": "2025-07-25T04:35:41.656853Z",
     "iopub.status.idle": "2025-07-25T04:35:41.660501Z",
     "shell.execute_reply": "2025-07-25T04:35:41.659889Z"
    },
    "papermill": {
     "duration": 0.011619,
     "end_time": "2025-07-25T04:35:41.661441",
     "exception": false,
     "start_time": "2025-07-25T04:35:41.649822",
     "status": "completed"
    },
    "tags": []
   },
   "outputs": [],
   "source": [
    "dataset = ReasoningDataset(ds['train'])\n",
    "dataloader = DataLoader(dataset, batch_size = 8, collate_fn = lambda x: collate_fn(x, max_seq_len = 1280, pad_id = 50262), shuffle=True)"
   ]
  },
  {
   "cell_type": "code",
   "execution_count": 13,
   "id": "55fa3aad",
   "metadata": {
    "execution": {
     "iopub.execute_input": "2025-07-25T04:35:41.674666Z",
     "iopub.status.busy": "2025-07-25T04:35:41.674492Z",
     "iopub.status.idle": "2025-07-25T04:35:41.677908Z",
     "shell.execute_reply": "2025-07-25T04:35:41.677365Z"
    },
    "papermill": {
     "duration": 0.011162,
     "end_time": "2025-07-25T04:35:41.678892",
     "exception": false,
     "start_time": "2025-07-25T04:35:41.667730",
     "status": "completed"
    },
    "tags": []
   },
   "outputs": [],
   "source": [
    "val_dataset = ReasoningDataset(ds['test'])\n",
    "val_dataloader = DataLoader(val_dataset, batch_size = 8, collate_fn = lambda x: collate_fn(x, max_seq_len = 1280, pad_id = 50262), shuffle=True)"
   ]
  },
  {
   "cell_type": "code",
   "execution_count": 14,
   "id": "6c53a75f",
   "metadata": {
    "execution": {
     "iopub.execute_input": "2025-07-25T04:35:41.692588Z",
     "iopub.status.busy": "2025-07-25T04:35:41.692217Z",
     "iopub.status.idle": "2025-07-25T04:35:41.695100Z",
     "shell.execute_reply": "2025-07-25T04:35:41.694556Z"
    },
    "papermill": {
     "duration": 0.010735,
     "end_time": "2025-07-25T04:35:41.696097",
     "exception": false,
     "start_time": "2025-07-25T04:35:41.685362",
     "status": "completed"
    },
    "tags": []
   },
   "outputs": [],
   "source": [
    "# for batch in dataloader:\n",
    "#     break"
   ]
  },
  {
   "cell_type": "code",
   "execution_count": 15,
   "id": "833a6723",
   "metadata": {
    "execution": {
     "iopub.execute_input": "2025-07-25T04:35:41.709422Z",
     "iopub.status.busy": "2025-07-25T04:35:41.709230Z",
     "iopub.status.idle": "2025-07-25T04:35:41.712094Z",
     "shell.execute_reply": "2025-07-25T04:35:41.711523Z"
    },
    "papermill": {
     "duration": 0.010733,
     "end_time": "2025-07-25T04:35:41.713067",
     "exception": false,
     "start_time": "2025-07-25T04:35:41.702334",
     "status": "completed"
    },
    "tags": []
   },
   "outputs": [],
   "source": [
    "# batch[3].tolist()[800:]"
   ]
  },
  {
   "cell_type": "code",
   "execution_count": 16,
   "id": "e52d58f6",
   "metadata": {
    "execution": {
     "iopub.execute_input": "2025-07-25T04:35:41.769377Z",
     "iopub.status.busy": "2025-07-25T04:35:41.769138Z",
     "iopub.status.idle": "2025-07-25T04:35:41.772068Z",
     "shell.execute_reply": "2025-07-25T04:35:41.771519Z"
    },
    "papermill": {
     "duration": 0.0538,
     "end_time": "2025-07-25T04:35:41.773191",
     "exception": false,
     "start_time": "2025-07-25T04:35:41.719391",
     "status": "completed"
    },
    "tags": []
   },
   "outputs": [],
   "source": [
    "# batch.shape"
   ]
  },
  {
   "cell_type": "code",
   "execution_count": 17,
   "id": "4598a02e",
   "metadata": {
    "execution": {
     "iopub.execute_input": "2025-07-25T04:35:41.787031Z",
     "iopub.status.busy": "2025-07-25T04:35:41.786800Z",
     "iopub.status.idle": "2025-07-25T04:35:41.789579Z",
     "shell.execute_reply": "2025-07-25T04:35:41.789064Z"
    },
    "papermill": {
     "duration": 0.010746,
     "end_time": "2025-07-25T04:35:41.790599",
     "exception": false,
     "start_time": "2025-07-25T04:35:41.779853",
     "status": "completed"
    },
    "tags": []
   },
   "outputs": [],
   "source": [
    "# mask = calculate_mask(batch)"
   ]
  },
  {
   "cell_type": "code",
   "execution_count": 18,
   "id": "ee0d6cd1",
   "metadata": {
    "execution": {
     "iopub.execute_input": "2025-07-25T04:35:41.804256Z",
     "iopub.status.busy": "2025-07-25T04:35:41.803734Z",
     "iopub.status.idle": "2025-07-25T04:35:41.806936Z",
     "shell.execute_reply": "2025-07-25T04:35:41.806244Z"
    },
    "papermill": {
     "duration": 0.011047,
     "end_time": "2025-07-25T04:35:41.808045",
     "exception": false,
     "start_time": "2025-07-25T04:35:41.796998",
     "status": "completed"
    },
    "tags": []
   },
   "outputs": [],
   "source": [
    "# mask.shape"
   ]
  },
  {
   "cell_type": "code",
   "execution_count": 19,
   "id": "1c1a4fe8",
   "metadata": {
    "execution": {
     "iopub.execute_input": "2025-07-25T04:35:41.821562Z",
     "iopub.status.busy": "2025-07-25T04:35:41.821393Z",
     "iopub.status.idle": "2025-07-25T04:35:41.824280Z",
     "shell.execute_reply": "2025-07-25T04:35:41.823754Z"
    },
    "papermill": {
     "duration": 0.010882,
     "end_time": "2025-07-25T04:35:41.825326",
     "exception": false,
     "start_time": "2025-07-25T04:35:41.814444",
     "status": "completed"
    },
    "tags": []
   },
   "outputs": [],
   "source": [
    "# plt.imshow(mask[1].detach().cpu().numpy())"
   ]
  },
  {
   "cell_type": "code",
   "execution_count": 20,
   "id": "65eb1306",
   "metadata": {
    "execution": {
     "iopub.execute_input": "2025-07-25T04:35:41.838688Z",
     "iopub.status.busy": "2025-07-25T04:35:41.838519Z",
     "iopub.status.idle": "2025-07-25T04:35:41.842558Z",
     "shell.execute_reply": "2025-07-25T04:35:41.842078Z"
    },
    "papermill": {
     "duration": 0.011881,
     "end_time": "2025-07-25T04:35:41.843588",
     "exception": false,
     "start_time": "2025-07-25T04:35:41.831707",
     "status": "completed"
    },
    "tags": []
   },
   "outputs": [],
   "source": [
    "class RMSNorm(nn.Module):\n",
    "    def __init__(self, dim : int, eps : float=1e-6):\n",
    "        super().__init__()\n",
    "        self.eps = eps\n",
    "        self.weight = nn.Parameter(data=torch.ones(dim))\n",
    "    def forward(self, x : torch.Tensor):\n",
    "        variance = x.pow(2).mean(dim=-1, keepdims=True).type_as(x)\n",
    "        return x * torch.rsqrt(variance+self.eps) * self.weight # rsqrt is same as 1/sqrt"
   ]
  },
  {
   "cell_type": "code",
   "execution_count": 21,
   "id": "d85aa613",
   "metadata": {
    "execution": {
     "iopub.execute_input": "2025-07-25T04:35:41.857911Z",
     "iopub.status.busy": "2025-07-25T04:35:41.857695Z",
     "iopub.status.idle": "2025-07-25T04:35:41.864747Z",
     "shell.execute_reply": "2025-07-25T04:35:41.864231Z"
    },
    "papermill": {
     "duration": 0.015547,
     "end_time": "2025-07-25T04:35:41.865769",
     "exception": false,
     "start_time": "2025-07-25T04:35:41.850222",
     "status": "completed"
    },
    "tags": []
   },
   "outputs": [],
   "source": [
    "class RoPE(nn.Module):\n",
    "    def __init__(self, max_seq_len : int = 1024, d : int = 256, k : float = 10000.0, device : str = 'cpu'):\n",
    "        super().__init__()\n",
    "        self.d = d\n",
    "        self.max_seq_len = max_seq_len\n",
    "        self.device=device\n",
    "        freqs, sin, cos = self.precompute_freqs(k=k)\n",
    "        self.register_buffer('freqs', freqs.to(device))\n",
    "        self.register_buffer('sin', sin.to(device))\n",
    "        self.register_buffer('cos', cos.to(device))\n",
    "\n",
    "    @torch.no_grad()\n",
    "    def precompute_freqs(self, k : float = 10000.0):\n",
    "        theta = 1/(k**(torch.arange(0, self.d, 2.0)/self.d))\n",
    "        pos = torch.arange(self.max_seq_len).unsqueeze(1)\n",
    "        freqs = pos*theta\n",
    "        cos = torch.cos(freqs).to(self.device)\n",
    "        sin = torch.sin(freqs).to(self.device)\n",
    "        # print(theta.shape, pos.shape, freqs.shape)\n",
    "        # print(theta, pos, freqs, sin, cos)\n",
    "        return freqs, sin, cos\n",
    "    def apply_rope(self, x : torch.Tensor):\n",
    "        \"\"\"Assumes x to be B, H, T,D\"\"\"\n",
    "        B, H, T, D = x.shape\n",
    "        x_reshaped = x.view(*x.shape[:-1], self.d//2, 2)\n",
    "        x1 = x_reshaped[...,0]\n",
    "        x2 = x_reshaped[...,1]\n",
    "\n",
    "        cos = self.cos[:T, ...]\n",
    "        sin = self.sin[:T, ...]\n",
    "        stacked = torch.stack([x1 * cos - x2 * sin, \n",
    "                              x1 * sin + x2 * cos], dim=-1) # stack on last dimension\n",
    "        out = stacked.view(x.shape)\n",
    "        return out\n",
    "    def forward(self, x : torch.Tensor):\n",
    "        return self.apply_rope(x)"
   ]
  },
  {
   "cell_type": "code",
   "execution_count": 22,
   "id": "831fafbb",
   "metadata": {
    "execution": {
     "iopub.execute_input": "2025-07-25T04:35:41.879641Z",
     "iopub.status.busy": "2025-07-25T04:35:41.879191Z",
     "iopub.status.idle": "2025-07-25T04:35:41.884041Z",
     "shell.execute_reply": "2025-07-25T04:35:41.883348Z"
    },
    "papermill": {
     "duration": 0.012854,
     "end_time": "2025-07-25T04:35:41.885183",
     "exception": false,
     "start_time": "2025-07-25T04:35:41.872329",
     "status": "completed"
    },
    "tags": []
   },
   "outputs": [],
   "source": [
    "class LlamaMLP(nn.Module):\n",
    "    def __init__(self, dim : int = 256, intermediate_dim : int = 256, bias : bool = True):\n",
    "        super(LlamaMLP, self).__init__()\n",
    "        self.d = dim\n",
    "        self.intermediate_dim = intermediate_dim\n",
    "        self.gate = nn.Linear(dim, intermediate_dim, bias=bias)\n",
    "        self.up = nn.Linear(dim, intermediate_dim, bias=bias)\n",
    "        self.down = nn.Linear(intermediate_dim, dim, bias=bias)\n",
    "        self.activation_fn = F.silu\n",
    "\n",
    "    def forward(self, x : torch.Tensor):\n",
    "        # SwigLU(q, b) = SiLU(a) * b\n",
    "        # final layer is W*(SwiGLU(x)) = W * (SiLU(x) * (W*x))\n",
    "        return self.down(self.activation_fn(self.gate(x)) * self.up(x))"
   ]
  },
  {
   "cell_type": "code",
   "execution_count": 23,
   "id": "7a84f894",
   "metadata": {
    "execution": {
     "iopub.execute_input": "2025-07-25T04:35:41.898419Z",
     "iopub.status.busy": "2025-07-25T04:35:41.898215Z",
     "iopub.status.idle": "2025-07-25T04:35:41.901623Z",
     "shell.execute_reply": "2025-07-25T04:35:41.901178Z"
    },
    "papermill": {
     "duration": 0.011204,
     "end_time": "2025-07-25T04:35:41.902665",
     "exception": false,
     "start_time": "2025-07-25T04:35:41.891461",
     "status": "completed"
    },
    "tags": []
   },
   "outputs": [],
   "source": [
    "def repeat_kv(module : nn.Module, x : torch.Tensor, n_reps : int):\n",
    "    B, H, T, D = x.shape\n",
    "    if n_reps == 1:\n",
    "        return x\n",
    "    else:\n",
    "        return x[:, :, None, :, :].expand(B, H, n_reps, T, D).reshape(B, H*n_reps, T, D)"
   ]
  },
  {
   "cell_type": "code",
   "execution_count": 24,
   "id": "263ad6c1",
   "metadata": {
    "execution": {
     "iopub.execute_input": "2025-07-25T04:35:41.916451Z",
     "iopub.status.busy": "2025-07-25T04:35:41.916284Z",
     "iopub.status.idle": "2025-07-25T04:35:41.924530Z",
     "shell.execute_reply": "2025-07-25T04:35:41.923663Z"
    },
    "papermill": {
     "duration": 0.016185,
     "end_time": "2025-07-25T04:35:41.925619",
     "exception": false,
     "start_time": "2025-07-25T04:35:41.909434",
     "status": "completed"
    },
    "tags": []
   },
   "outputs": [],
   "source": [
    "class LlamaAttention(nn.Module):\n",
    "    def __init__(self, dim : int = 256, n_kv_heads : int = 4, n_head : int = 8, max_seq_len : int = 1024):\n",
    "        super(LlamaAttention, self).__init__()\n",
    "        self.dim = dim\n",
    "        self.n_kv_heads = n_kv_heads\n",
    "        self.n_head = n_head\n",
    "        self.head_dim = dim // n_head\n",
    "\n",
    "        self.w_q = nn.Linear(dim, self.head_dim * self.n_head, bias=False)\n",
    "        self.w_k = nn.Linear(dim, self.head_dim * self.n_kv_heads, bias=False)\n",
    "        self.w_v = nn.Linear(dim, self.head_dim * self.n_kv_heads, bias=False)\n",
    "        self.w_o = nn.Linear(self.head_dim * self.n_head, dim, bias=False)\n",
    "        self.rotary_embedding = RoPE(max_seq_len = max_seq_len, d = self.head_dim)\n",
    "    \n",
    "    def forward(self, x : torch.Tensor, mask : torch.Tensor = None):\n",
    "        \"\"\"mask is filled with -inf at the position where the attn to be ignored\n",
    "        x is of shape, B, T, D\n",
    "        mask is of shape B, T, T\"\"\"\n",
    "        B, T, D = x.shape\n",
    "        \n",
    "        # make all as shape B, H, T, head_dim\n",
    "        Q = self.w_q(x).view(B, T, self.n_head, self.head_dim).transpose(1,2)\n",
    "        K = self.w_k(x).view(B, T, self.n_kv_heads, self.head_dim).transpose(1,2) # on top of this repeatations are needed\n",
    "        V = self.w_v(x).view(B, T, self.n_kv_heads, self.head_dim).transpose(1,2) # on top of this repeatations are needed\n",
    "\n",
    "        Q = self.rotary_embedding(Q)\n",
    "        K = self.rotary_embedding(K)\n",
    "        \n",
    "        n_reps = self.n_head // self.n_kv_heads\n",
    "        K = repeat_kv(self, K, n_reps)\n",
    "        V = repeat_kv(self, V, n_reps) \n",
    "\n",
    "        attn_scores = torch.matmul(Q, K.transpose(2,3)) / math.sqrt(self.head_dim) # B, H, T, D * B, H, D, T => B, H, T, T\n",
    "        if mask is not None:\n",
    "            mask = mask[:, :T, :T] # forcefully making of time steps equal to x\n",
    "            attn_scores = attn_scores.masked_fill(mask.unsqueeze(1)==0, -1e9)\n",
    "        \n",
    "        attn_scores = F.softmax(attn_scores.float(), dim=-1)\n",
    "        attn_output = torch.matmul(attn_scores, V) # B, H, T, T * B, H, T, D => B, H, T, D\n",
    "        \n",
    "        attn_output = attn_output.transpose(1,2)\n",
    "        attn_output = attn_output.reshape(B, T, -1).contiguous() # reshape back to B, T, D from B, H, T, D\n",
    "        \n",
    "        attn_output = self.w_o(attn_output)\n",
    "        return attn_output, attn_scores"
   ]
  },
  {
   "cell_type": "code",
   "execution_count": 25,
   "id": "81989432",
   "metadata": {
    "execution": {
     "iopub.execute_input": "2025-07-25T04:35:41.939274Z",
     "iopub.status.busy": "2025-07-25T04:35:41.938879Z",
     "iopub.status.idle": "2025-07-25T04:35:41.941776Z",
     "shell.execute_reply": "2025-07-25T04:35:41.941136Z"
    },
    "papermill": {
     "duration": 0.010915,
     "end_time": "2025-07-25T04:35:41.942928",
     "exception": false,
     "start_time": "2025-07-25T04:35:41.932013",
     "status": "completed"
    },
    "tags": []
   },
   "outputs": [],
   "source": [
    "# attn = LlamaAttention()"
   ]
  },
  {
   "cell_type": "code",
   "execution_count": 26,
   "id": "146f6c83",
   "metadata": {
    "execution": {
     "iopub.execute_input": "2025-07-25T04:35:41.956398Z",
     "iopub.status.busy": "2025-07-25T04:35:41.956208Z",
     "iopub.status.idle": "2025-07-25T04:35:41.959434Z",
     "shell.execute_reply": "2025-07-25T04:35:41.958895Z"
    },
    "papermill": {
     "duration": 0.011145,
     "end_time": "2025-07-25T04:35:41.960392",
     "exception": false,
     "start_time": "2025-07-25T04:35:41.949247",
     "status": "completed"
    },
    "tags": []
   },
   "outputs": [],
   "source": [
    "def count_params(module):\n",
    "    total = 0\n",
    "    for p in module.parameters():\n",
    "        v = 1\n",
    "        for d in p.shape:\n",
    "            v *= d\n",
    "        total += v\n",
    "    return total"
   ]
  },
  {
   "cell_type": "code",
   "execution_count": 27,
   "id": "675edabf",
   "metadata": {
    "execution": {
     "iopub.execute_input": "2025-07-25T04:35:41.974161Z",
     "iopub.status.busy": "2025-07-25T04:35:41.973962Z",
     "iopub.status.idle": "2025-07-25T04:35:41.976595Z",
     "shell.execute_reply": "2025-07-25T04:35:41.976103Z"
    },
    "papermill": {
     "duration": 0.010776,
     "end_time": "2025-07-25T04:35:41.977564",
     "exception": false,
     "start_time": "2025-07-25T04:35:41.966788",
     "status": "completed"
    },
    "tags": []
   },
   "outputs": [],
   "source": [
    "# x = torch.rand(32, 1024, 256)\n",
    "# y, att_s = attn(x)"
   ]
  },
  {
   "cell_type": "code",
   "execution_count": 28,
   "id": "e1c9d0c2",
   "metadata": {
    "execution": {
     "iopub.execute_input": "2025-07-25T04:35:41.991184Z",
     "iopub.status.busy": "2025-07-25T04:35:41.991015Z",
     "iopub.status.idle": "2025-07-25T04:35:41.993769Z",
     "shell.execute_reply": "2025-07-25T04:35:41.993269Z"
    },
    "papermill": {
     "duration": 0.010699,
     "end_time": "2025-07-25T04:35:41.994766",
     "exception": false,
     "start_time": "2025-07-25T04:35:41.984067",
     "status": "completed"
    },
    "tags": []
   },
   "outputs": [],
   "source": [
    "# y.shape, att_s.shape"
   ]
  },
  {
   "cell_type": "code",
   "execution_count": 29,
   "id": "29732141",
   "metadata": {
    "execution": {
     "iopub.execute_input": "2025-07-25T04:35:42.008228Z",
     "iopub.status.busy": "2025-07-25T04:35:42.008032Z",
     "iopub.status.idle": "2025-07-25T04:35:42.013326Z",
     "shell.execute_reply": "2025-07-25T04:35:42.012644Z"
    },
    "papermill": {
     "duration": 0.013176,
     "end_time": "2025-07-25T04:35:42.014388",
     "exception": false,
     "start_time": "2025-07-25T04:35:42.001212",
     "status": "completed"
    },
    "tags": []
   },
   "outputs": [],
   "source": [
    "class LlamaDecoder(nn.Module):\n",
    "    def __init__(self, hidden_dim : int = 256, intermediate_dim : int = 256, n_kv_heads : int = 4, n_head : int = 8, max_seq_len : int = 1024):\n",
    "        super(LlamaDecoder, self).__init__()\n",
    "        self.rms_norm = RMSNorm(dim = hidden_dim) # eps needed\n",
    "        self.self_attn = LlamaAttention(dim = hidden_dim, n_kv_heads = n_kv_heads, n_head = n_head, max_seq_len = max_seq_len)\n",
    "        self.mlp = LlamaMLP(dim = hidden_dim, intermediate_dim = intermediate_dim) # bias needed\n",
    "        self.hidden_dim = hidden_dim\n",
    "        self.n_kv_heads = n_kv_heads\n",
    "        self.n_head = n_head\n",
    "\n",
    "    def forward(self, hidden_states : torch.Tensor, mask : torch.Tensor = None):\n",
    "        \"\"\"hidden_steps of shape B, T, D\"\"\"\n",
    "        # print(torch.isnan(hidden_states).any())\n",
    "        state = self.rms_norm(hidden_states)\n",
    "        # print(torch.isnan(state).any())\n",
    "        attn_output, attn_scores = self.self_attn(state, mask)\n",
    "        # print(torch.isnan(attn_output).any())\n",
    "\n",
    "        hidden_states = hidden_states + attn_output\n",
    "        # print(torch.isnan(hidden_states).any())\n",
    "        \n",
    "\n",
    "        state = self.rms_norm(hidden_states)\n",
    "        # print(torch.isnan(state).any())\n",
    "        \n",
    "        state = self.mlp(state)\n",
    "        # print(torch.isnan(state).any())\n",
    "\n",
    "        hidden_states = hidden_states + state\n",
    "        # print(torch.isnan(hidden_states).any())\n",
    "        # print('========================================')\n",
    "        return hidden_states"
   ]
  },
  {
   "cell_type": "code",
   "execution_count": 30,
   "id": "6ffd4c6a",
   "metadata": {
    "execution": {
     "iopub.execute_input": "2025-07-25T04:35:42.027798Z",
     "iopub.status.busy": "2025-07-25T04:35:42.027604Z",
     "iopub.status.idle": "2025-07-25T04:35:42.030419Z",
     "shell.execute_reply": "2025-07-25T04:35:42.029880Z"
    },
    "papermill": {
     "duration": 0.01078,
     "end_time": "2025-07-25T04:35:42.031470",
     "exception": false,
     "start_time": "2025-07-25T04:35:42.020690",
     "status": "completed"
    },
    "tags": []
   },
   "outputs": [],
   "source": [
    "# decoder = LlamaDecoder()\n",
    "# count_params(decoder)"
   ]
  },
  {
   "cell_type": "code",
   "execution_count": 31,
   "id": "f9dd0113",
   "metadata": {
    "execution": {
     "iopub.execute_input": "2025-07-25T04:35:42.045174Z",
     "iopub.status.busy": "2025-07-25T04:35:42.044727Z",
     "iopub.status.idle": "2025-07-25T04:35:42.047492Z",
     "shell.execute_reply": "2025-07-25T04:35:42.046968Z"
    },
    "papermill": {
     "duration": 0.01069,
     "end_time": "2025-07-25T04:35:42.048490",
     "exception": false,
     "start_time": "2025-07-25T04:35:42.037800",
     "status": "completed"
    },
    "tags": []
   },
   "outputs": [],
   "source": [
    "# y = decoder(x)\n",
    "# y.shape"
   ]
  },
  {
   "cell_type": "code",
   "execution_count": 32,
   "id": "4c4044a7",
   "metadata": {
    "execution": {
     "iopub.execute_input": "2025-07-25T04:35:42.062100Z",
     "iopub.status.busy": "2025-07-25T04:35:42.061879Z",
     "iopub.status.idle": "2025-07-25T04:35:42.069097Z",
     "shell.execute_reply": "2025-07-25T04:35:42.068499Z"
    },
    "papermill": {
     "duration": 0.015292,
     "end_time": "2025-07-25T04:35:42.070187",
     "exception": false,
     "start_time": "2025-07-25T04:35:42.054895",
     "status": "completed"
    },
    "tags": []
   },
   "outputs": [],
   "source": [
    "class Llama(nn.Module):\n",
    "    def __init__(self, config : ModelArgs):\n",
    "        super(Llama, self).__init__()\n",
    "        self.config = config\n",
    "        self.embedding_table = nn.Embedding(num_embeddings = config.vocab_size, embedding_dim = config.model_dim, padding_idx = config.padding_idx)\n",
    "        self.decoder_layers = nn.ModuleList([\n",
    "                                                LlamaDecoder(hidden_dim = config.model_dim, intermediate_dim = config.intermediate_dim,\n",
    "                                                          n_kv_heads = config.n_kv_heads, n_head = config.n_head, max_seq_len = config.max_seq_len)\n",
    "                                                for _ in range(config.num_hidden_layers)\n",
    "                                            ])\n",
    "        self.rms_norm = RMSNorm(dim = config.model_dim, eps = config.rms_norm_eps)\n",
    "        self.mlp = LlamaMLP(dim = config.model_dim, intermediate_dim = config.intermediate_dim, bias = config.bias)\n",
    "        self.proj_head = nn.Linear(config.model_dim, config.vocab_size, bias=False)\n",
    "\n",
    "    def forward(self, x : torch.Tensor, mask : torch.Tensor = None):\n",
    "        \"\"\"X is in shape B, T\n",
    "        mask is in shape B, T, T\"\"\"\n",
    "        state = self.embedding_table(x)\n",
    "        for dec_layer in self.decoder_layers:\n",
    "            state = dec_layer(state, mask)\n",
    "        \n",
    "        state = self.rms_norm(state)\n",
    "        state = self.mlp(state)\n",
    "        state = self.proj_head(state)\n",
    "        return state\n",
    "    def generate(self, x : torch.Tensor, max_token : int = 1024):\n",
    "        \"\"\"x is of shape B, T\"\"\"\n",
    "        for _ in range(max_token):\n",
    "            x = x[:, -self.config.max_seq_len:]\n",
    "            mask = calculate_mask(x, pad_id = 50262)\n",
    "            state = self.embedding_table(x)\n",
    "            for dec_layer in self.decoder_layers:\n",
    "                state = dec_layer(state, mask)\n",
    "            \n",
    "            state = self.rms_norm(state)\n",
    "            \n",
    "            last_step_pred = state[:, -1, :] # B, 1, Vocab_size\n",
    "            last_step_pred = self.mlp(last_step_pred)\n",
    "            last_step_pred = self.proj_head(last_step_pred)\n",
    "            probs = F.softmax(last_step_pred, dim=-1)\n",
    "            idx_next = torch.multinomial(probs, num_samples=1)\n",
    "            x = torch.cat((x, idx_next), dim=1) # (B, T+1)\n",
    "            yield idx_next"
   ]
  },
  {
   "cell_type": "code",
   "execution_count": 33,
   "id": "23884f00",
   "metadata": {
    "execution": {
     "iopub.execute_input": "2025-07-25T04:35:42.083575Z",
     "iopub.status.busy": "2025-07-25T04:35:42.083382Z",
     "iopub.status.idle": "2025-07-25T04:35:43.344397Z",
     "shell.execute_reply": "2025-07-25T04:35:43.343474Z"
    },
    "papermill": {
     "duration": 1.268997,
     "end_time": "2025-07-25T04:35:43.345565",
     "exception": false,
     "start_time": "2025-07-25T04:35:42.076568",
     "status": "completed"
    },
    "tags": []
   },
   "outputs": [
    {
     "name": "stdout",
     "output_type": "stream",
     "text": [
      "Model size: 100.226304M parameters\n"
     ]
    }
   ],
   "source": [
    "llama_model = Llama(config = ModelArgs).to(device)\n",
    "print(f\"Model size: {count_params(llama_model)/10**6}M parameters\")"
   ]
  },
  {
   "cell_type": "code",
   "execution_count": 34,
   "id": "83a6c9f9",
   "metadata": {
    "execution": {
     "iopub.execute_input": "2025-07-25T04:35:43.360562Z",
     "iopub.status.busy": "2025-07-25T04:35:43.359973Z",
     "iopub.status.idle": "2025-07-25T04:35:48.191882Z",
     "shell.execute_reply": "2025-07-25T04:35:48.191269Z"
    },
    "papermill": {
     "duration": 4.840685,
     "end_time": "2025-07-25T04:35:48.193335",
     "exception": false,
     "start_time": "2025-07-25T04:35:43.352650",
     "status": "completed"
    },
    "tags": []
   },
   "outputs": [],
   "source": [
    "optimizer = torch.optim.AdamW(llama_model.parameters(), lr = ModelArgs.lr, betas = (0.9, 0.95), weight_decay = 0.2)"
   ]
  },
  {
   "cell_type": "code",
   "execution_count": 35,
   "id": "dc8f2fd4",
   "metadata": {
    "execution": {
     "iopub.execute_input": "2025-07-25T04:35:48.207596Z",
     "iopub.status.busy": "2025-07-25T04:35:48.207243Z",
     "iopub.status.idle": "2025-07-25T04:35:48.252395Z",
     "shell.execute_reply": "2025-07-25T04:35:48.251631Z"
    },
    "papermill": {
     "duration": 0.053442,
     "end_time": "2025-07-25T04:35:48.253599",
     "exception": false,
     "start_time": "2025-07-25T04:35:48.200157",
     "status": "completed"
    },
    "tags": []
   },
   "outputs": [],
   "source": [
    "scheduler = transformers.get_cosine_schedule_with_warmup(optimizer, num_warmup_steps=1000, num_training_steps = 5625)"
   ]
  },
  {
   "cell_type": "code",
   "execution_count": 36,
   "id": "9a661038",
   "metadata": {
    "execution": {
     "iopub.execute_input": "2025-07-25T04:35:48.267700Z",
     "iopub.status.busy": "2025-07-25T04:35:48.267140Z",
     "iopub.status.idle": "2025-07-25T04:35:48.270354Z",
     "shell.execute_reply": "2025-07-25T04:35:48.269568Z"
    },
    "papermill": {
     "duration": 0.011349,
     "end_time": "2025-07-25T04:35:48.271508",
     "exception": false,
     "start_time": "2025-07-25T04:35:48.260159",
     "status": "completed"
    },
    "tags": []
   },
   "outputs": [],
   "source": [
    "# for idx in llama_model.generate(torch.tensor([[50257]], dtype=torch.long, device=device), max_token=50):\n",
    "#     print(decode(idx[0].tolist()), end='|')"
   ]
  },
  {
   "cell_type": "code",
   "execution_count": 37,
   "id": "c4816cff",
   "metadata": {
    "execution": {
     "iopub.execute_input": "2025-07-25T04:35:48.285254Z",
     "iopub.status.busy": "2025-07-25T04:35:48.285049Z",
     "iopub.status.idle": "2025-07-25T04:35:48.288777Z",
     "shell.execute_reply": "2025-07-25T04:35:48.288292Z"
    },
    "papermill": {
     "duration": 0.01176,
     "end_time": "2025-07-25T04:35:48.289749",
     "exception": false,
     "start_time": "2025-07-25T04:35:48.277989",
     "status": "completed"
    },
    "tags": []
   },
   "outputs": [],
   "source": [
    "def answer(question, max_token=1280, end = '|'):\n",
    "    f_text = f\"<|im_start|>user\\n{question}<|im_end|>\\n\"\n",
    "    tokens = encode(f_text)\n",
    "    print(f_text)\n",
    "    llama_model.eval()\n",
    "    for idx in llama_model.generate(torch.tensor([tokens], dtype=torch.long, device=device), max_token=1280):\n",
    "        print(decode(idx[0].tolist()), end=end)"
   ]
  },
  {
   "cell_type": "code",
   "execution_count": 38,
   "id": "fbe6a59f",
   "metadata": {
    "execution": {
     "iopub.execute_input": "2025-07-25T04:35:48.303324Z",
     "iopub.status.busy": "2025-07-25T04:35:48.303128Z",
     "iopub.status.idle": "2025-07-25T04:35:48.306151Z",
     "shell.execute_reply": "2025-07-25T04:35:48.305573Z"
    },
    "papermill": {
     "duration": 0.010962,
     "end_time": "2025-07-25T04:35:48.307191",
     "exception": false,
     "start_time": "2025-07-25T04:35:48.296229",
     "status": "completed"
    },
    "tags": []
   },
   "outputs": [],
   "source": [
    "# answer('Prove that the difference between two consecutive cubes cannot be divisible by 5, using the fact that the only possible remainders when a cube is divided by 5 are 0, 1, and -1.')"
   ]
  },
  {
   "cell_type": "code",
   "execution_count": 39,
   "id": "2eb3968f",
   "metadata": {
    "execution": {
     "iopub.execute_input": "2025-07-25T04:35:48.320459Z",
     "iopub.status.busy": "2025-07-25T04:35:48.320260Z",
     "iopub.status.idle": "2025-07-25T04:35:48.323337Z",
     "shell.execute_reply": "2025-07-25T04:35:48.322662Z"
    },
    "papermill": {
     "duration": 0.010918,
     "end_time": "2025-07-25T04:35:48.324409",
     "exception": false,
     "start_time": "2025-07-25T04:35:48.313491",
     "status": "completed"
    },
    "tags": []
   },
   "outputs": [],
   "source": [
    "# y = llama_model(batch[:, :-1], mask[:, :-1, :-1])"
   ]
  },
  {
   "cell_type": "code",
   "execution_count": 40,
   "id": "b8571e2d",
   "metadata": {
    "execution": {
     "iopub.execute_input": "2025-07-25T04:35:48.338033Z",
     "iopub.status.busy": "2025-07-25T04:35:48.337573Z",
     "iopub.status.idle": "2025-07-25T04:35:48.340534Z",
     "shell.execute_reply": "2025-07-25T04:35:48.339857Z"
    },
    "papermill": {
     "duration": 0.010742,
     "end_time": "2025-07-25T04:35:48.341551",
     "exception": false,
     "start_time": "2025-07-25T04:35:48.330809",
     "status": "completed"
    },
    "tags": []
   },
   "outputs": [],
   "source": [
    "# y.shape"
   ]
  },
  {
   "cell_type": "code",
   "execution_count": 41,
   "id": "2de1cae3",
   "metadata": {
    "execution": {
     "iopub.execute_input": "2025-07-25T04:35:48.355154Z",
     "iopub.status.busy": "2025-07-25T04:35:48.354957Z"
    },
    "papermill": {
     "duration": null,
     "end_time": null,
     "exception": false,
     "start_time": "2025-07-25T04:35:48.348049",
     "status": "running"
    },
    "tags": []
   },
   "outputs": [
    {
     "name": "stdout",
     "output_type": "stream",
     "text": [
      "EPOCH: 1 / 40\n"
     ]
    },
    {
     "name": "stdout",
     "output_type": "stream",
     "text": [
      "TRAIN Batch 0 => Loss: 10.82988\n"
     ]
    },
    {
     "name": "stdout",
     "output_type": "stream",
     "text": [
      "TRAIN Batch 48 => Loss: 10.83492\n"
     ]
    },
    {
     "name": "stdout",
     "output_type": "stream",
     "text": [
      "TRAIN Batch 96 => Loss: 10.82574\n"
     ]
    },
    {
     "name": "stdout",
     "output_type": "stream",
     "text": [
      "TRAIN Batch 144 => Loss: 10.82212\n"
     ]
    },
    {
     "name": "stdout",
     "output_type": "stream",
     "text": [
      "TRAIN Batch 192 => Loss: 10.79964\n"
     ]
    },
    {
     "name": "stdout",
     "output_type": "stream",
     "text": [
      "TRAIN Batch 240 => Loss: 10.76805\n"
     ]
    },
    {
     "name": "stdout",
     "output_type": "stream",
     "text": [
      "TRAIN Batch 288 => Loss: 10.69819\n"
     ]
    },
    {
     "name": "stdout",
     "output_type": "stream",
     "text": [
      "TRAIN Batch 336 => Loss: 10.69046\n"
     ]
    },
    {
     "name": "stdout",
     "output_type": "stream",
     "text": [
      "TRAIN Batch 384 => Loss: 10.60977\n"
     ]
    },
    {
     "name": "stdout",
     "output_type": "stream",
     "text": [
      "TRAIN Batch 432 => Loss: 10.59281\n"
     ]
    },
    {
     "name": "stdout",
     "output_type": "stream",
     "text": [
      "TRAIN Batch 480 => Loss: 10.23936\n"
     ]
    },
    {
     "name": "stdout",
     "output_type": "stream",
     "text": [
      "TRAIN Batch 528 => Loss: 10.37484\n"
     ]
    },
    {
     "name": "stdout",
     "output_type": "stream",
     "text": [
      "TRAIN Batch 576 => Loss: 10.39001\n"
     ]
    },
    {
     "name": "stdout",
     "output_type": "stream",
     "text": [
      "TRAIN Batch 624 => Loss: 10.13213\n"
     ]
    },
    {
     "name": "stdout",
     "output_type": "stream",
     "text": [
      "TRAIN Batch 672 => Loss: 9.71446\n"
     ]
    },
    {
     "name": "stdout",
     "output_type": "stream",
     "text": [
      "TRAIN Batch 720 => Loss: 10.58068\n"
     ]
    },
    {
     "name": "stdout",
     "output_type": "stream",
     "text": [
      "TRAIN Batch 768 => Loss: 9.6219\n"
     ]
    },
    {
     "name": "stdout",
     "output_type": "stream",
     "text": [
      "TRAIN Batch 816 => Loss: 9.83157\n"
     ]
    },
    {
     "name": "stdout",
     "output_type": "stream",
     "text": [
      "TRAIN Batch 864 => Loss: 10.294\n"
     ]
    },
    {
     "name": "stdout",
     "output_type": "stream",
     "text": [
      "TRAIN Batch 912 => Loss: 9.50871\n"
     ]
    },
    {
     "name": "stdout",
     "output_type": "stream",
     "text": [
      "TRAIN Batch 960 => Loss: 7.89422\n"
     ]
    },
    {
     "name": "stdout",
     "output_type": "stream",
     "text": [
      "TRAIN Batch 1008 => Loss: 9.26675\n"
     ]
    },
    {
     "name": "stdout",
     "output_type": "stream",
     "text": [
      "TRAIN Batch 1056 => Loss: 8.4037\n"
     ]
    },
    {
     "name": "stdout",
     "output_type": "stream",
     "text": [
      "TRAIN Batch 1104 => Loss: 8.35322\n"
     ]
    },
    {
     "name": "stdout",
     "output_type": "stream",
     "text": [
      "TRAIN Batch 1152 => Loss: 7.37035\n"
     ]
    },
    {
     "name": "stdout",
     "output_type": "stream",
     "text": [
      "TRAIN Batch 1200 => Loss: 7.3295\n"
     ]
    },
    {
     "name": "stdout",
     "output_type": "stream",
     "text": [
      "TRAIN Batch 1248 => Loss: 6.53454\n"
     ]
    },
    {
     "name": "stdout",
     "output_type": "stream",
     "text": [
      "TRAIN Batch 1296 => Loss: 6.38332\n"
     ]
    },
    {
     "name": "stdout",
     "output_type": "stream",
     "text": [
      "TRAIN Batch 1344 => Loss: 6.22518\n"
     ]
    },
    {
     "name": "stdout",
     "output_type": "stream",
     "text": [
      "TRAIN Batch 1392 => Loss: 5.87376\n"
     ]
    },
    {
     "name": "stdout",
     "output_type": "stream",
     "text": [
      "TRAIN Batch 1440 => Loss: 5.74397\n"
     ]
    },
    {
     "name": "stdout",
     "output_type": "stream",
     "text": [
      "TRAIN Batch 1488 => Loss: 5.63782\n"
     ]
    },
    {
     "name": "stdout",
     "output_type": "stream",
     "text": [
      "TRAIN Batch 1536 => Loss: 5.86146\n"
     ]
    },
    {
     "name": "stdout",
     "output_type": "stream",
     "text": [
      "TRAIN Batch 1584 => Loss: 5.35029\n"
     ]
    },
    {
     "name": "stdout",
     "output_type": "stream",
     "text": [
      "TRAIN Batch 1632 => Loss: 5.53183\n"
     ]
    },
    {
     "name": "stdout",
     "output_type": "stream",
     "text": [
      "TRAIN Batch 1680 => Loss: 5.7372\n"
     ]
    },
    {
     "name": "stdout",
     "output_type": "stream",
     "text": [
      "TRAIN Batch 1728 => Loss: 5.0813\n"
     ]
    },
    {
     "name": "stdout",
     "output_type": "stream",
     "text": [
      "TRAIN Batch 1776 => Loss: 5.37183\n"
     ]
    },
    {
     "name": "stdout",
     "output_type": "stream",
     "text": [
      "TRAIN Batch 1824 => Loss: 5.47683\n"
     ]
    },
    {
     "name": "stdout",
     "output_type": "stream",
     "text": [
      "TRAIN Batch 1872 => Loss: 5.18501\n"
     ]
    },
    {
     "name": "stdout",
     "output_type": "stream",
     "text": [
      "TRAIN Batch 1920 => Loss: 4.84319\n"
     ]
    },
    {
     "name": "stdout",
     "output_type": "stream",
     "text": [
      "TRAIN Batch 1968 => Loss: 5.04611\n"
     ]
    },
    {
     "name": "stdout",
     "output_type": "stream",
     "text": [
      "TRAIN Batch 2016 => Loss: 5.10749\n"
     ]
    },
    {
     "name": "stdout",
     "output_type": "stream",
     "text": [
      "TRAIN Batch 2064 => Loss: 5.32307\n"
     ]
    },
    {
     "name": "stdout",
     "output_type": "stream",
     "text": [
      "TRAIN Batch 2112 => Loss: 5.18027\n"
     ]
    },
    {
     "name": "stdout",
     "output_type": "stream",
     "text": [
      "TRAIN Batch 2160 => Loss: 4.7151\n"
     ]
    },
    {
     "name": "stdout",
     "output_type": "stream",
     "text": [
      "TRAIN Batch 2208 => Loss: 5.12972\n"
     ]
    },
    {
     "name": "stdout",
     "output_type": "stream",
     "text": [
      "EVAL Batch 0 => Loss: 4.93406\n"
     ]
    },
    {
     "name": "stdout",
     "output_type": "stream",
     "text": [
      "EVAL Batch 50 => Loss: 4.82594\n"
     ]
    },
    {
     "name": "stdout",
     "output_type": "stream",
     "text": [
      "EVAL Batch 100 => Loss: 4.70273\n"
     ]
    },
    {
     "name": "stdout",
     "output_type": "stream",
     "text": [
      "EVAL Batch 150 => Loss: 4.84053\n"
     ]
    },
    {
     "name": "stdout",
     "output_type": "stream",
     "text": [
      "EVAL Batch 200 => Loss: 4.54457\n"
     ]
    },
    {
     "name": "stdout",
     "output_type": "stream",
     "text": [
      "<|im_start|>user\n",
      "Prove that the difference between two consecutive cubes cannot be divisible by 5, using the fact that the only possible remainders when a cube is divided by 5 are 0, 1, and -1.<|im_end|>\n",
      "\n"
     ]
    },
    {
     "name": "stdout",
     "output_type": "stream",
     "text": [
      "Let is (sin in a calculate down twoParis2 = x toC variation is $a = our"
     ]
    },
    {
     "name": "stdout",
     "output_type": "stream",
     "text": [
      " diss also friction that are insignificant. Npol initially polyg can varieties and that the equal to handle the attention"
     ]
    },
    {
     "name": "stdout",
     "output_type": "stream",
     "text": [
      ". ** Dianism)$. Join individually to find the number inposed quad and y$. **\n",
      "\n",
      "*"
     ]
    },
    {
     "name": "stdout",
     "output_type": "stream",
     "text": [
      "   **hand to the two human using three lowly the context of density verturing means that the'"
     ]
    },
    {
     "name": "stdout",
     "output_type": "stream",
     "text": [
      "-**Step that tobfate the proper Guard degree^{\n",
      "We can beance mat Weekendote c term"
     ]
    },
    {
     "name": "stdout",
     "output_type": "stream",
     "text": [
      " withAS.\n",
      "\n",
      "4. We need to primitiveose x^apeakeaints + � projects analy this"
     ]
    },
    {
     "name": "stdout",
     "output_type": "stream",
     "text": [
      " case our Ratesatey5 the square forgetting down can or Be/x) ='t Ins conclusiond^"
     ]
    },
    {
     "name": "stdout",
     "output_type": "stream",
     "text": [
      "2^{ interpol Alt)x_n} = 0$,.\n",
      "TheMail't in negative: For it"
     ]
    },
    {
     "name": "stdout",
     "output_type": "stream",
     "text": [
      " space of a Alt examiningive increase Sun x}$$ molecules principal a sample get:clim of 5"
     ]
    },
    {
     "name": "stdout",
     "output_type": "stream",
     "text": [
      ")\n",
      "2\\ f understand the integral -).\n",
      "\n",
      "\n",
      "\n",
      "**Advanced52's Ae: Right"
     ]
    },
    {
     "name": "stdout",
     "output_type": "stream",
     "text": [
      "N constant sets recounted on solve and start inalpha.  su(x).\n",
      "3(n"
     ]
    },
    {
     "name": "stdout",
     "output_type": "stream",
     "text": [
      "<|im_start|>\n",
      "To both current false conve radiation angles is to about the space to equilibrium�� of crucial the sum"
     ]
    },
    {
     "name": "stdout",
     "output_type": "stream",
     "text": [
      " of the balance groups)/}$, gives variable. The3-inatedline |-hler kg strong unfor"
     ]
    },
    {
     "name": "stdout",
     "output_type": "stream",
     "text": [
      " asking follow traveled 5, let's contains roots and $G$. Our them and amount states. ** mistakenly"
     ]
    },
    {
     "name": "stdout",
     "output_type": "stream",
     "text": [
      " that a of 0,(- 3(x)\n",
      ": Wephi\n",
      "In$$2T. solution and"
     ]
    },
    {
     "name": "stdout",
     "output_type": "stream",
     "text": [
      " the right fractions but a for combine $| horizontallyges- environment\n",
      "\n",
      "Now, this problem were `"
     ]
    },
    {
     "name": "stdout",
     "output_type": "stream",
     "text": [
      " variable of experiment Role the expression of the concept of theangan are it D ( For.\n",
      "\n",
      "*"
     ]
    },
    {
     "name": "stdout",
     "output_type": "stream",
     "text": [
      "   Let:insj doesn series{x^{=2 = ( BE, as the component of"
     ]
    },
    {
     "name": "stdout",
     "output_type": "stream",
     "text": [
      " symmetry of natural Vari 8 1 + 2 it is a integer by at itUSER. **Obs 10 have"
     ]
    },
    {
     "name": "stdout",
     "output_type": "stream",
     "text": [
      " thisance is to the distance directly guarantee convert \\ still, such this division consider the importance, which boundary"
     ]
    },
    {
     "name": "stdout",
     "output_type": "stream",
     "text": [
      "**ials ofva\n",
      "\n",
      "$$\n",
      "We canaspersomial at the wedge in describestext exists of the"
     ]
    },
    {
     "name": "stdout",
     "output_type": "stream",
     "text": [
      " equation.\n",
      "\n",
      "\n",
      "whereorg atassistant\\ Details break this`w terms of the denomin that$."
     ]
    },
    {
     "name": "stdout",
     "output_type": "stream",
     "text": [
      "derived > f(3^2 + f = 0$ and short is aotedisin, which"
     ]
    },
    {
     "name": "stdout",
     "output_type": "stream",
     "text": [
      " base (n-1)^.,assistant\\math express're approaches by operational of criticalic ="
     ]
    },
    {
     "name": "stdout",
     "output_type": "stream",
     "text": [
      " \\pi. symmrix change is 6reasoning}$ativity and the triangle dx to determine and child"
     ]
    },
    {
     "name": "stdout",
     "output_type": "stream",
     "text": [
      " property and the difference r has confusion-RefArea, y)$. We can beigen"
     ]
    },
    {
     "name": "stdout",
     "output_type": "stream",
     "text": [
      " while Cal a agreementering/2 against factor- desired at the inequality, we Python"
     ]
    },
    {
     "name": "stdout",
     "output_type": "stream",
     "text": [
      " through partitions coales of original item:\n",
      "\n",
      "However_{begin]\n",
      "Therefore, the mixture"
     ]
    },
    {
     "name": "stdout",
     "output_type": "stream",
     "text": [
      " conve+#where true's A)-:\n",
      "\n",
      "\n",
      "6_{k = 0"
     ]
    },
    {
     "name": "stdout",
     "output_type": "stream",
     "text": [
      " is satisfies is an duration}-\\n) and obtain\". sub genome\\ context"
     ]
    },
    {
     "name": "stdout",
     "output_type": "stream",
     "text": [
      " vertex:\n",
      "\n",
      "\n",
      "Using on and the expression moment. provide arithmetic from avector"
     ]
    },
    {
     "name": "stdout",
     "output_type": "stream",
     "text": [
      " simplified by**: **3. ** Mods arrangements this3 -3k$"
     ]
    },
    {
     "name": "stdout",
     "output_type": "stream",
     "text": [
      " are digital and fixed of Sox to a 8**Reason you touctive in form"
     ]
    },
    {
     "name": "stdout",
     "output_type": "stream",
     "text": [
      " what factor use a suitable with the circumference meanGrandummy{1.\n",
      "To"
     ]
    },
    {
     "name": "stdout",
     "output_type": "stream",
     "text": [
      " detail. By bound #)!$. **Msg**Stepute e that this problem"
     ]
    },
    {
     "name": "stdout",
     "output_type": "stream",
     "text": [
      " is: mashed DetailsAlthough(\\ consider the juniorifyingHator is resulting coordinates"
     ]
    },
    {
     "name": "stdout",
     "output_type": "stream",
     "text": [
      " theadjusted incorporating resistor 6. The7 -left( \\frac{2"
     ]
    },
    {
     "name": "stdout",
     "output_type": "stream",
     "text": [
      "x + \\cdx$. We}) that reason(yot, we"
     ]
    },
    {
     "name": "stdout",
     "output_type": "stream",
     "text": [
      " need toarrow an valuesari)) ofy)ator**\n",
      "**"
     ]
    },
    {
     "name": "stdout",
     "output_type": "stream",
     "text": [
      "Step, we can hydrogenitude into theained smart of a not"
     ]
    },
    {
     "name": "stdout",
     "output_type": "stream",
     "text": [
      " calculate wall | Deter commonCub complex=y**\n",
      "The ashinite"
     ]
    },
    {
     "name": "stdout",
     "output_type": "stream",
     "text": [
      " B( triple Therefore=1, it{\\ also 406^ us at"
     ]
    },
    {
     "name": "stdout",
     "output_type": "stream",
     "text": [
      ".\n",
      "\n",
      "We in think**: Thetimes $\\{\\ However"
     ]
    },
    {
     "name": "stdout",
     "output_type": "stream",
     "text": [
      ", this Sal of the eConsider_NW ( x_"
     ]
    },
    {
     "name": "stdout",
     "output_type": "stream",
     "text": [
      "ftyc able eachPa_{nx$, anBu analyze but"
     ]
    },
    {
     "name": "stdout",
     "output_type": "stream",
     "text": [
      ", where<|endoftext|> in Barnes each $\\ disturbances equationseq theory the natural"
     ]
    },
    {
     "name": "stdout",
     "output_type": "stream",
     "text": [
      " with an such in the result the component of a variable ="
     ]
    },
    {
     "name": "stdout",
     "output_type": "stream",
     "text": [
      " 1$.\n",
      "\n",
      "\n",
      "Using this problem, this problem,"
     ]
    },
    {
     "name": "stdout",
     "output_type": "stream",
     "text": [
      " 2 down contains b.\n",
      "\n",
      "**Understanding $f ="
     ]
    },
    {
     "name": "stdout",
     "output_type": "stream",
     "text": [
      " [ need to Forbiddenar=1^{\n",
      "Finally with satellites"
     ]
    },
    {
     "name": "stdout",
     "output_type": "stream",
     "text": [
      " each 0,X^, where, 3 thatals,"
     ]
    },
    {
     "name": "stdout",
     "output_type": "stream",
     "text": [
      " which. Further, we need to cellul Consider years we"
     ]
    },
    {
     "name": "stdout",
     "output_type": "stream",
     "text": [
      " canceled count parts and source}- Warsaw. We."
     ]
    },
    {
     "name": "stdout",
     "output_type": "stream",
     "text": [
      "\n",
      "* Taylorer ($q{ric passages and tackle"
     ]
    },
    {
     "name": "stdout",
     "output_type": "stream",
     "text": [
      " the (- 0}_nfty.\n",
      "* The"
     ]
    },
    {
     "name": "stdout",
     "output_type": "stream",
     "text": [
      " IV not tackle temperatures involving the problem, which × Dir"
     ]
    },
    {
     "name": "stdout",
     "output_type": "stream",
     "text": [
      "'s break continuous hom mustorderedations**Using finding the"
     ]
    },
    {
     "name": "stdout",
     "output_type": "stream",
     "text": [
      " first) and the wavegence# However on 6"
     ]
    },
    {
     "name": "stdout",
     "output_type": "stream",
     "text": [
      "/**\n",
      "2 kre $x)"
     ]
    },
    {
     "name": "stdout",
     "output_type": "stream",
     "text": [
      " probability of into of a remainder, $C"
     ]
    },
    {
     "name": "stdout",
     "output_type": "stream",
     "text": [
      " $T as the metric, we can use"
     ]
    },
    {
     "name": "stdout",
     "output_type": "stream",
     "text": [
      "talying the\\ge exp impedance the function"
     ]
    },
    {
     "name": "stdout",
     "output_type": "stream",
     "text": [
      ", each equation ( soldHow resolve?\n"
     ]
    },
    {
     "name": "stdout",
     "output_type": "stream",
     "text": [
      "*1$ #A$ is the exponent"
     ]
    },
    {
     "name": "stdout",
     "output_type": "stream",
     "text": [
      " tool for to aff $(x \\times of"
     ]
    },
    {
     "name": "stdout",
     "output_type": "stream",
     "text": [
      " hydro by neut continuousges}}02x"
     ]
    },
    {
     "name": "stdout",
     "output_type": "stream",
     "text": [
      "_n+\\n<|im_start|>assistant\\cos"
     ]
    },
    {
     "name": "stdout",
     "output_type": "stream",
     "text": [
      "?\n",
      "\n",
      "where $0.80 and"
     ]
    },
    {
     "name": "stdout",
     "output_type": "stream",
     "text": [
      " approach equation of a specific compute fact of implements"
     ]
    },
    {
     "name": "stdout",
     "output_type": "stream",
     "text": [
      " to the relationships is an obsolete is an specific"
     ]
    },
    {
     "name": "stdout",
     "output_type": "stream",
     "text": [
      " raisedometric this_{n}#, $"
     ]
    },
    {
     "name": "stdout",
     "output_type": "stream",
     "text": [
      " acting sense. The� the empty-"
     ]
    },
    {
     "name": "stdout",
     "output_type": "stream",
     "text": [
      " expand at accurately pointologyains further dice"
     ]
    },
    {
     "name": "stdout",
     "output_type": "stream",
     "text": [
      " formula.\n",
      "\n",
      "\n",
      "**Step1"
     ]
    },
    {
     "name": "stdout",
     "output_type": "stream",
     "text": [
      "}icatedator from the inequality**Step"
     ]
    },
    {
     "name": "stdout",
     "output_type": "stream",
     "text": [
      " areach}\\ edge, and $x"
     ]
    },
    {
     "name": "stdout",
     "output_type": "stream",
     "text": [
      "_1(x) 5 on the"
     ]
    },
    {
     "name": "stdout",
     "output_type": "stream",
     "text": [
      " productz divmod, we cor,"
     ]
    },
    {
     "name": "stdout",
     "output_type": "stream",
     "text": [
      " let's break#\n",
      "\n",
      "R}"
     ]
    },
    {
     "name": "stdout",
     "output_type": "stream",
     "text": [
      "$. try of always step.\n",
      "\n"
     ]
    },
    {
     "name": "stdout",
     "output_type": "stream",
     "text": [
      "\n",
      "**: If $R dimension"
     ]
    },
    {
     "name": "stdout",
     "output_type": "stream",
     "text": [
      " 4 between $\\ results#, andensis"
     ]
    },
    {
     "name": "stdout",
     "output_type": "stream",
     "text": [
      " create to prove and soils tep they"
     ]
    },
    {
     "name": "stdout",
     "output_type": "stream",
     "text": [
      "ang is acolor into.\n"
     ]
    },
    {
     "name": "stdout",
     "output_type": "stream",
     "text": [
      "\n",
      "\n",
      "Based $\\ subtract real set"
     ]
    },
    {
     "name": "stdout",
     "output_type": "stream",
     "text": [
      " of Y Caseslyn together the total"
     ]
    },
    {
     "name": "stdout",
     "output_type": "stream",
     "text": [
      "(ftyCasez\n",
      "\n",
      "1"
     ]
    },
    {
     "name": "stdout",
     "output_type": "stream",
     "text": [
      "$.\n",
      "3.\n",
      "Now that"
     ]
    },
    {
     "name": "stdout",
     "output_type": "stream",
     "text": [
      " the set $b) code energy $"
     ]
    },
    {
     "name": "stdout",
     "output_type": "stream",
     "text": [
      "We_{ Conditions smaller**Breakingitional directory"
     ]
    },
    {
     "name": "stdout",
     "output_type": "stream",
     "text": [
      ". The case ofEdit involved derivedreasoning"
     ]
    },
    {
     "name": "stdout",
     "output_type": "stream",
     "text": [
      " x \\]\n",
      "\n",
      "Herez}"
     ]
    },
    {
     "name": "stdout",
     "output_type": "stream",
     "text": [
      "$$\\})} \\text{2"
     ]
    },
    {
     "name": "stdout",
     "output_type": "stream",
     "text": [
      ")^ massta Details from requirescho"
     ]
    },
    {
     "name": "stdout",
     "output_type": "stream",
     "text": [
      " typically"
     ]
    },
    {
     "name": "stdout",
     "output_type": "stream",
     "text": [
      "EPOCH: 2 / 40\n"
     ]
    },
    {
     "name": "stdout",
     "output_type": "stream",
     "text": [
      "TRAIN Batch 0 => Loss: 4.39751\n"
     ]
    },
    {
     "name": "stdout",
     "output_type": "stream",
     "text": [
      "TRAIN Batch 48 => Loss: 4.94278\n"
     ]
    },
    {
     "name": "stdout",
     "output_type": "stream",
     "text": [
      "TRAIN Batch 96 => Loss: 4.98474\n"
     ]
    },
    {
     "name": "stdout",
     "output_type": "stream",
     "text": [
      "TRAIN Batch 144 => Loss: 4.27168\n"
     ]
    },
    {
     "name": "stdout",
     "output_type": "stream",
     "text": [
      "TRAIN Batch 192 => Loss: 4.29607\n"
     ]
    },
    {
     "name": "stdout",
     "output_type": "stream",
     "text": [
      "TRAIN Batch 240 => Loss: 4.32835\n"
     ]
    },
    {
     "name": "stdout",
     "output_type": "stream",
     "text": [
      "TRAIN Batch 288 => Loss: 4.22845\n"
     ]
    },
    {
     "name": "stdout",
     "output_type": "stream",
     "text": [
      "TRAIN Batch 336 => Loss: 4.34235\n"
     ]
    },
    {
     "name": "stdout",
     "output_type": "stream",
     "text": [
      "TRAIN Batch 384 => Loss: 4.46326\n"
     ]
    },
    {
     "name": "stdout",
     "output_type": "stream",
     "text": [
      "TRAIN Batch 432 => Loss: 4.46908\n"
     ]
    },
    {
     "name": "stdout",
     "output_type": "stream",
     "text": [
      "TRAIN Batch 480 => Loss: 4.35234\n"
     ]
    },
    {
     "name": "stdout",
     "output_type": "stream",
     "text": [
      "TRAIN Batch 528 => Loss: 4.29512\n"
     ]
    },
    {
     "name": "stdout",
     "output_type": "stream",
     "text": [
      "TRAIN Batch 576 => Loss: 3.73007\n"
     ]
    },
    {
     "name": "stdout",
     "output_type": "stream",
     "text": [
      "TRAIN Batch 624 => Loss: 3.77426\n"
     ]
    },
    {
     "name": "stdout",
     "output_type": "stream",
     "text": [
      "TRAIN Batch 672 => Loss: 4.63358\n"
     ]
    },
    {
     "name": "stdout",
     "output_type": "stream",
     "text": [
      "TRAIN Batch 720 => Loss: 3.41265\n"
     ]
    },
    {
     "name": "stdout",
     "output_type": "stream",
     "text": [
      "TRAIN Batch 768 => Loss: 3.78171\n"
     ]
    },
    {
     "name": "stdout",
     "output_type": "stream",
     "text": [
      "TRAIN Batch 816 => Loss: 3.54536\n"
     ]
    },
    {
     "name": "stdout",
     "output_type": "stream",
     "text": [
      "TRAIN Batch 864 => Loss: 3.90716\n"
     ]
    },
    {
     "name": "stdout",
     "output_type": "stream",
     "text": [
      "TRAIN Batch 912 => Loss: 3.93976\n"
     ]
    },
    {
     "name": "stdout",
     "output_type": "stream",
     "text": [
      "TRAIN Batch 960 => Loss: 3.00459\n"
     ]
    },
    {
     "name": "stdout",
     "output_type": "stream",
     "text": [
      "TRAIN Batch 1008 => Loss: 3.30761\n"
     ]
    },
    {
     "name": "stdout",
     "output_type": "stream",
     "text": [
      "TRAIN Batch 1056 => Loss: 3.43402\n"
     ]
    },
    {
     "name": "stdout",
     "output_type": "stream",
     "text": [
      "TRAIN Batch 1104 => Loss: 3.75037\n"
     ]
    },
    {
     "name": "stdout",
     "output_type": "stream",
     "text": [
      "TRAIN Batch 1152 => Loss: 3.79363\n"
     ]
    },
    {
     "name": "stdout",
     "output_type": "stream",
     "text": [
      "TRAIN Batch 1200 => Loss: 3.41606\n"
     ]
    },
    {
     "name": "stdout",
     "output_type": "stream",
     "text": [
      "TRAIN Batch 1248 => Loss: 3.54255\n"
     ]
    },
    {
     "name": "stdout",
     "output_type": "stream",
     "text": [
      "TRAIN Batch 1296 => Loss: 3.45135\n"
     ]
    },
    {
     "name": "stdout",
     "output_type": "stream",
     "text": [
      "TRAIN Batch 1344 => Loss: 3.12565\n"
     ]
    },
    {
     "name": "stdout",
     "output_type": "stream",
     "text": [
      "TRAIN Batch 1392 => Loss: 3.37268\n"
     ]
    },
    {
     "name": "stdout",
     "output_type": "stream",
     "text": [
      "TRAIN Batch 1440 => Loss: 4.36961\n"
     ]
    },
    {
     "name": "stdout",
     "output_type": "stream",
     "text": [
      "TRAIN Batch 1488 => Loss: 4.05859\n"
     ]
    },
    {
     "name": "stdout",
     "output_type": "stream",
     "text": [
      "TRAIN Batch 1536 => Loss: 3.52223\n"
     ]
    },
    {
     "name": "stdout",
     "output_type": "stream",
     "text": [
      "TRAIN Batch 1584 => Loss: 3.24351\n"
     ]
    },
    {
     "name": "stdout",
     "output_type": "stream",
     "text": [
      "TRAIN Batch 1632 => Loss: 3.82915\n"
     ]
    },
    {
     "name": "stdout",
     "output_type": "stream",
     "text": [
      "TRAIN Batch 1680 => Loss: 3.10585\n"
     ]
    },
    {
     "name": "stdout",
     "output_type": "stream",
     "text": [
      "TRAIN Batch 1728 => Loss: 3.4947\n"
     ]
    },
    {
     "name": "stdout",
     "output_type": "stream",
     "text": [
      "TRAIN Batch 1776 => Loss: 3.47517\n"
     ]
    },
    {
     "name": "stdout",
     "output_type": "stream",
     "text": [
      "TRAIN Batch 1824 => Loss: 3.42501\n"
     ]
    },
    {
     "name": "stdout",
     "output_type": "stream",
     "text": [
      "TRAIN Batch 1872 => Loss: 3.25177\n"
     ]
    },
    {
     "name": "stdout",
     "output_type": "stream",
     "text": [
      "TRAIN Batch 1920 => Loss: 3.44297\n"
     ]
    },
    {
     "name": "stdout",
     "output_type": "stream",
     "text": [
      "TRAIN Batch 1968 => Loss: 3.5655\n"
     ]
    },
    {
     "name": "stdout",
     "output_type": "stream",
     "text": [
      "TRAIN Batch 2016 => Loss: 3.53226\n"
     ]
    },
    {
     "name": "stdout",
     "output_type": "stream",
     "text": [
      "TRAIN Batch 2064 => Loss: 3.23792\n"
     ]
    },
    {
     "name": "stdout",
     "output_type": "stream",
     "text": [
      "TRAIN Batch 2112 => Loss: 3.07023\n"
     ]
    },
    {
     "name": "stdout",
     "output_type": "stream",
     "text": [
      "TRAIN Batch 2160 => Loss: 3.28381\n"
     ]
    },
    {
     "name": "stdout",
     "output_type": "stream",
     "text": [
      "TRAIN Batch 2208 => Loss: 3.00865\n"
     ]
    },
    {
     "name": "stdout",
     "output_type": "stream",
     "text": [
      "EVAL Batch 0 => Loss: 3.19743\n"
     ]
    },
    {
     "name": "stdout",
     "output_type": "stream",
     "text": [
      "EVAL Batch 50 => Loss: 3.35501\n"
     ]
    },
    {
     "name": "stdout",
     "output_type": "stream",
     "text": [
      "EVAL Batch 100 => Loss: 3.76151\n"
     ]
    },
    {
     "name": "stdout",
     "output_type": "stream",
     "text": [
      "EVAL Batch 150 => Loss: 3.28189\n"
     ]
    },
    {
     "name": "stdout",
     "output_type": "stream",
     "text": [
      "EVAL Batch 200 => Loss: 3.29823\n"
     ]
    },
    {
     "name": "stdout",
     "output_type": "stream",
     "text": [
      "EPOCH: 3 / 40\n"
     ]
    },
    {
     "name": "stdout",
     "output_type": "stream",
     "text": [
      "TRAIN Batch 0 => Loss: 3.27062\n"
     ]
    },
    {
     "name": "stdout",
     "output_type": "stream",
     "text": [
      "TRAIN Batch 48 => Loss: 3.45614\n"
     ]
    },
    {
     "name": "stdout",
     "output_type": "stream",
     "text": [
      "TRAIN Batch 96 => Loss: 3.35256\n"
     ]
    },
    {
     "name": "stdout",
     "output_type": "stream",
     "text": [
      "TRAIN Batch 144 => Loss: 3.13486\n"
     ]
    },
    {
     "name": "stdout",
     "output_type": "stream",
     "text": [
      "TRAIN Batch 192 => Loss: 2.98642\n"
     ]
    },
    {
     "name": "stdout",
     "output_type": "stream",
     "text": [
      "TRAIN Batch 240 => Loss: 3.07626\n"
     ]
    },
    {
     "name": "stdout",
     "output_type": "stream",
     "text": [
      "TRAIN Batch 288 => Loss: 3.12852\n"
     ]
    },
    {
     "name": "stdout",
     "output_type": "stream",
     "text": [
      "TRAIN Batch 336 => Loss: 2.88502\n"
     ]
    },
    {
     "name": "stdout",
     "output_type": "stream",
     "text": [
      "TRAIN Batch 384 => Loss: 3.16737\n"
     ]
    },
    {
     "name": "stdout",
     "output_type": "stream",
     "text": [
      "TRAIN Batch 432 => Loss: 2.71528\n"
     ]
    },
    {
     "name": "stdout",
     "output_type": "stream",
     "text": [
      "TRAIN Batch 480 => Loss: 3.14907\n"
     ]
    },
    {
     "name": "stdout",
     "output_type": "stream",
     "text": [
      "TRAIN Batch 528 => Loss: 2.54187\n"
     ]
    },
    {
     "name": "stdout",
     "output_type": "stream",
     "text": [
      "TRAIN Batch 576 => Loss: 3.17427\n"
     ]
    },
    {
     "name": "stdout",
     "output_type": "stream",
     "text": [
      "TRAIN Batch 624 => Loss: 3.11098\n"
     ]
    },
    {
     "name": "stdout",
     "output_type": "stream",
     "text": [
      "TRAIN Batch 672 => Loss: 2.49015\n"
     ]
    },
    {
     "name": "stdout",
     "output_type": "stream",
     "text": [
      "TRAIN Batch 720 => Loss: 2.68802\n"
     ]
    },
    {
     "name": "stdout",
     "output_type": "stream",
     "text": [
      "TRAIN Batch 768 => Loss: 2.78985\n"
     ]
    },
    {
     "name": "stdout",
     "output_type": "stream",
     "text": [
      "TRAIN Batch 816 => Loss: 3.09054\n"
     ]
    },
    {
     "name": "stdout",
     "output_type": "stream",
     "text": [
      "TRAIN Batch 864 => Loss: 3.13763\n"
     ]
    },
    {
     "name": "stdout",
     "output_type": "stream",
     "text": [
      "TRAIN Batch 912 => Loss: 3.03853\n"
     ]
    },
    {
     "name": "stdout",
     "output_type": "stream",
     "text": [
      "TRAIN Batch 960 => Loss: 2.89698\n"
     ]
    },
    {
     "name": "stdout",
     "output_type": "stream",
     "text": [
      "TRAIN Batch 1008 => Loss: 2.83029\n"
     ]
    },
    {
     "name": "stdout",
     "output_type": "stream",
     "text": [
      "TRAIN Batch 1056 => Loss: 3.01185\n"
     ]
    },
    {
     "name": "stdout",
     "output_type": "stream",
     "text": [
      "TRAIN Batch 1104 => Loss: 2.53352\n"
     ]
    },
    {
     "name": "stdout",
     "output_type": "stream",
     "text": [
      "TRAIN Batch 1152 => Loss: 2.66062\n"
     ]
    },
    {
     "name": "stdout",
     "output_type": "stream",
     "text": [
      "TRAIN Batch 1200 => Loss: 3.2061\n"
     ]
    },
    {
     "name": "stdout",
     "output_type": "stream",
     "text": [
      "TRAIN Batch 1248 => Loss: 3.06688\n"
     ]
    },
    {
     "name": "stdout",
     "output_type": "stream",
     "text": [
      "TRAIN Batch 1296 => Loss: 3.6102\n"
     ]
    },
    {
     "name": "stdout",
     "output_type": "stream",
     "text": [
      "TRAIN Batch 1344 => Loss: 2.72553\n"
     ]
    },
    {
     "name": "stdout",
     "output_type": "stream",
     "text": [
      "TRAIN Batch 1392 => Loss: 2.78255\n"
     ]
    },
    {
     "name": "stdout",
     "output_type": "stream",
     "text": [
      "TRAIN Batch 1440 => Loss: 2.23823\n"
     ]
    },
    {
     "name": "stdout",
     "output_type": "stream",
     "text": [
      "TRAIN Batch 1488 => Loss: 3.02376\n"
     ]
    },
    {
     "name": "stdout",
     "output_type": "stream",
     "text": [
      "TRAIN Batch 1536 => Loss: 3.16664\n"
     ]
    },
    {
     "name": "stdout",
     "output_type": "stream",
     "text": [
      "TRAIN Batch 1584 => Loss: 2.79115\n"
     ]
    },
    {
     "name": "stdout",
     "output_type": "stream",
     "text": [
      "TRAIN Batch 1632 => Loss: 2.71587\n"
     ]
    },
    {
     "name": "stdout",
     "output_type": "stream",
     "text": [
      "TRAIN Batch 1680 => Loss: 3.47547\n"
     ]
    },
    {
     "name": "stdout",
     "output_type": "stream",
     "text": [
      "TRAIN Batch 1728 => Loss: 3.02935\n"
     ]
    },
    {
     "name": "stdout",
     "output_type": "stream",
     "text": [
      "TRAIN Batch 1776 => Loss: 2.29805\n"
     ]
    },
    {
     "name": "stdout",
     "output_type": "stream",
     "text": [
      "TRAIN Batch 1824 => Loss: 2.98224\n"
     ]
    },
    {
     "name": "stdout",
     "output_type": "stream",
     "text": [
      "TRAIN Batch 1872 => Loss: 2.81261\n"
     ]
    },
    {
     "name": "stdout",
     "output_type": "stream",
     "text": [
      "TRAIN Batch 1920 => Loss: 2.86734\n"
     ]
    },
    {
     "name": "stdout",
     "output_type": "stream",
     "text": [
      "TRAIN Batch 1968 => Loss: 3.01978\n"
     ]
    },
    {
     "name": "stdout",
     "output_type": "stream",
     "text": [
      "TRAIN Batch 2016 => Loss: 2.8876\n"
     ]
    },
    {
     "name": "stdout",
     "output_type": "stream",
     "text": [
      "TRAIN Batch 2064 => Loss: 3.03292\n"
     ]
    },
    {
     "name": "stdout",
     "output_type": "stream",
     "text": [
      "TRAIN Batch 2112 => Loss: 2.45307\n"
     ]
    },
    {
     "name": "stdout",
     "output_type": "stream",
     "text": [
      "TRAIN Batch 2160 => Loss: 2.37538\n"
     ]
    },
    {
     "name": "stdout",
     "output_type": "stream",
     "text": [
      "TRAIN Batch 2208 => Loss: 2.66992\n"
     ]
    },
    {
     "name": "stdout",
     "output_type": "stream",
     "text": [
      "EVAL Batch 0 => Loss: 3.24001\n"
     ]
    },
    {
     "name": "stdout",
     "output_type": "stream",
     "text": [
      "EVAL Batch 50 => Loss: 2.7663\n"
     ]
    },
    {
     "name": "stdout",
     "output_type": "stream",
     "text": [
      "EVAL Batch 100 => Loss: 2.60767\n"
     ]
    },
    {
     "name": "stdout",
     "output_type": "stream",
     "text": [
      "EVAL Batch 150 => Loss: 2.20229\n"
     ]
    },
    {
     "name": "stdout",
     "output_type": "stream",
     "text": [
      "EVAL Batch 200 => Loss: 3.12433\n"
     ]
    },
    {
     "name": "stdout",
     "output_type": "stream",
     "text": [
      "EPOCH: 4 / 40\n"
     ]
    },
    {
     "name": "stdout",
     "output_type": "stream",
     "text": [
      "TRAIN Batch 0 => Loss: 2.88719\n"
     ]
    },
    {
     "name": "stdout",
     "output_type": "stream",
     "text": [
      "TRAIN Batch 48 => Loss: 3.06794\n"
     ]
    },
    {
     "name": "stdout",
     "output_type": "stream",
     "text": [
      "TRAIN Batch 96 => Loss: 2.90164\n"
     ]
    },
    {
     "name": "stdout",
     "output_type": "stream",
     "text": [
      "TRAIN Batch 144 => Loss: 3.0405\n"
     ]
    },
    {
     "name": "stdout",
     "output_type": "stream",
     "text": [
      "TRAIN Batch 192 => Loss: 2.80259\n"
     ]
    },
    {
     "name": "stdout",
     "output_type": "stream",
     "text": [
      "TRAIN Batch 240 => Loss: 2.42368\n"
     ]
    },
    {
     "name": "stdout",
     "output_type": "stream",
     "text": [
      "TRAIN Batch 288 => Loss: 2.41481\n"
     ]
    },
    {
     "name": "stdout",
     "output_type": "stream",
     "text": [
      "TRAIN Batch 336 => Loss: 2.72906\n"
     ]
    },
    {
     "name": "stdout",
     "output_type": "stream",
     "text": [
      "TRAIN Batch 384 => Loss: 2.5488\n"
     ]
    },
    {
     "name": "stdout",
     "output_type": "stream",
     "text": [
      "TRAIN Batch 432 => Loss: 2.33669\n"
     ]
    },
    {
     "name": "stdout",
     "output_type": "stream",
     "text": [
      "TRAIN Batch 480 => Loss: 2.45\n"
     ]
    },
    {
     "name": "stdout",
     "output_type": "stream",
     "text": [
      "TRAIN Batch 528 => Loss: 2.5383\n"
     ]
    },
    {
     "name": "stdout",
     "output_type": "stream",
     "text": [
      "TRAIN Batch 576 => Loss: 2.16178\n"
     ]
    },
    {
     "name": "stdout",
     "output_type": "stream",
     "text": [
      "TRAIN Batch 624 => Loss: 2.835\n"
     ]
    },
    {
     "name": "stdout",
     "output_type": "stream",
     "text": [
      "TRAIN Batch 672 => Loss: 2.67029\n"
     ]
    },
    {
     "name": "stdout",
     "output_type": "stream",
     "text": [
      "TRAIN Batch 720 => Loss: 2.8555\n"
     ]
    },
    {
     "name": "stdout",
     "output_type": "stream",
     "text": [
      "TRAIN Batch 768 => Loss: 2.94802\n"
     ]
    },
    {
     "name": "stdout",
     "output_type": "stream",
     "text": [
      "TRAIN Batch 816 => Loss: 2.52459\n"
     ]
    },
    {
     "name": "stdout",
     "output_type": "stream",
     "text": [
      "TRAIN Batch 864 => Loss: 2.5541\n"
     ]
    },
    {
     "name": "stdout",
     "output_type": "stream",
     "text": [
      "TRAIN Batch 912 => Loss: 2.27229\n"
     ]
    },
    {
     "name": "stdout",
     "output_type": "stream",
     "text": [
      "TRAIN Batch 960 => Loss: 2.53673\n"
     ]
    },
    {
     "name": "stdout",
     "output_type": "stream",
     "text": [
      "TRAIN Batch 1008 => Loss: 2.44057\n"
     ]
    },
    {
     "name": "stdout",
     "output_type": "stream",
     "text": [
      "TRAIN Batch 1056 => Loss: 2.78066\n"
     ]
    },
    {
     "name": "stdout",
     "output_type": "stream",
     "text": [
      "TRAIN Batch 1104 => Loss: 2.08161\n"
     ]
    },
    {
     "name": "stdout",
     "output_type": "stream",
     "text": [
      "TRAIN Batch 1152 => Loss: 2.82978\n"
     ]
    },
    {
     "name": "stdout",
     "output_type": "stream",
     "text": [
      "TRAIN Batch 1200 => Loss: 2.18779\n"
     ]
    },
    {
     "name": "stdout",
     "output_type": "stream",
     "text": [
      "TRAIN Batch 1248 => Loss: 2.48274\n"
     ]
    },
    {
     "name": "stdout",
     "output_type": "stream",
     "text": [
      "TRAIN Batch 1296 => Loss: 2.69791\n"
     ]
    },
    {
     "name": "stdout",
     "output_type": "stream",
     "text": [
      "TRAIN Batch 1344 => Loss: 2.63117\n"
     ]
    },
    {
     "name": "stdout",
     "output_type": "stream",
     "text": [
      "TRAIN Batch 1392 => Loss: 2.14002\n"
     ]
    },
    {
     "name": "stdout",
     "output_type": "stream",
     "text": [
      "TRAIN Batch 1440 => Loss: 2.9696\n"
     ]
    },
    {
     "name": "stdout",
     "output_type": "stream",
     "text": [
      "TRAIN Batch 1488 => Loss: 2.61067\n"
     ]
    },
    {
     "name": "stdout",
     "output_type": "stream",
     "text": [
      "TRAIN Batch 1536 => Loss: 2.03074\n"
     ]
    },
    {
     "name": "stdout",
     "output_type": "stream",
     "text": [
      "TRAIN Batch 1584 => Loss: 2.17711\n"
     ]
    },
    {
     "name": "stdout",
     "output_type": "stream",
     "text": [
      "TRAIN Batch 1632 => Loss: 2.13461\n"
     ]
    },
    {
     "name": "stdout",
     "output_type": "stream",
     "text": [
      "TRAIN Batch 1680 => Loss: 3.09845\n"
     ]
    },
    {
     "name": "stdout",
     "output_type": "stream",
     "text": [
      "TRAIN Batch 1728 => Loss: 2.73065\n"
     ]
    },
    {
     "name": "stdout",
     "output_type": "stream",
     "text": [
      "TRAIN Batch 1776 => Loss: 2.34525\n"
     ]
    },
    {
     "name": "stdout",
     "output_type": "stream",
     "text": [
      "TRAIN Batch 1824 => Loss: 2.09691\n"
     ]
    },
    {
     "name": "stdout",
     "output_type": "stream",
     "text": [
      "TRAIN Batch 1872 => Loss: 2.81119\n"
     ]
    },
    {
     "name": "stdout",
     "output_type": "stream",
     "text": [
      "TRAIN Batch 1920 => Loss: 2.11076\n"
     ]
    },
    {
     "name": "stdout",
     "output_type": "stream",
     "text": [
      "TRAIN Batch 1968 => Loss: 2.56605\n"
     ]
    },
    {
     "name": "stdout",
     "output_type": "stream",
     "text": [
      "TRAIN Batch 2016 => Loss: 2.77052\n"
     ]
    },
    {
     "name": "stdout",
     "output_type": "stream",
     "text": [
      "TRAIN Batch 2064 => Loss: 1.66415\n"
     ]
    },
    {
     "name": "stdout",
     "output_type": "stream",
     "text": [
      "TRAIN Batch 2112 => Loss: 2.53816\n"
     ]
    },
    {
     "name": "stdout",
     "output_type": "stream",
     "text": [
      "TRAIN Batch 2160 => Loss: 2.50457\n"
     ]
    },
    {
     "name": "stdout",
     "output_type": "stream",
     "text": [
      "TRAIN Batch 2208 => Loss: 2.61329\n"
     ]
    },
    {
     "name": "stdout",
     "output_type": "stream",
     "text": [
      "EVAL Batch 0 => Loss: 2.5564\n"
     ]
    },
    {
     "name": "stdout",
     "output_type": "stream",
     "text": [
      "EVAL Batch 50 => Loss: 1.95785\n"
     ]
    },
    {
     "name": "stdout",
     "output_type": "stream",
     "text": [
      "EVAL Batch 100 => Loss: 2.55948\n"
     ]
    },
    {
     "name": "stdout",
     "output_type": "stream",
     "text": [
      "EVAL Batch 150 => Loss: 2.34156\n"
     ]
    },
    {
     "name": "stdout",
     "output_type": "stream",
     "text": [
      "EVAL Batch 200 => Loss: 2.23937\n"
     ]
    },
    {
     "name": "stdout",
     "output_type": "stream",
     "text": [
      "EPOCH: 5 / 40\n"
     ]
    },
    {
     "name": "stdout",
     "output_type": "stream",
     "text": [
      "TRAIN Batch 0 => Loss: 2.74935\n"
     ]
    },
    {
     "name": "stdout",
     "output_type": "stream",
     "text": [
      "TRAIN Batch 48 => Loss: 2.62537\n"
     ]
    },
    {
     "name": "stdout",
     "output_type": "stream",
     "text": [
      "TRAIN Batch 96 => Loss: 2.07044\n"
     ]
    },
    {
     "name": "stdout",
     "output_type": "stream",
     "text": [
      "TRAIN Batch 144 => Loss: 2.3413\n"
     ]
    },
    {
     "name": "stdout",
     "output_type": "stream",
     "text": [
      "TRAIN Batch 192 => Loss: 2.21003\n"
     ]
    },
    {
     "name": "stdout",
     "output_type": "stream",
     "text": [
      "TRAIN Batch 240 => Loss: 2.09214\n"
     ]
    },
    {
     "name": "stdout",
     "output_type": "stream",
     "text": [
      "TRAIN Batch 288 => Loss: 1.82732\n"
     ]
    },
    {
     "name": "stdout",
     "output_type": "stream",
     "text": [
      "TRAIN Batch 336 => Loss: 1.93373\n"
     ]
    },
    {
     "name": "stdout",
     "output_type": "stream",
     "text": [
      "TRAIN Batch 384 => Loss: 2.50982\n"
     ]
    },
    {
     "name": "stdout",
     "output_type": "stream",
     "text": [
      "TRAIN Batch 432 => Loss: 2.13485\n"
     ]
    },
    {
     "name": "stdout",
     "output_type": "stream",
     "text": [
      "TRAIN Batch 480 => Loss: 2.41762\n"
     ]
    },
    {
     "name": "stdout",
     "output_type": "stream",
     "text": [
      "TRAIN Batch 528 => Loss: 2.26652\n"
     ]
    },
    {
     "name": "stdout",
     "output_type": "stream",
     "text": [
      "TRAIN Batch 576 => Loss: 2.48608\n"
     ]
    },
    {
     "name": "stdout",
     "output_type": "stream",
     "text": [
      "TRAIN Batch 624 => Loss: 2.28258\n"
     ]
    },
    {
     "name": "stdout",
     "output_type": "stream",
     "text": [
      "TRAIN Batch 672 => Loss: 2.39606\n"
     ]
    },
    {
     "name": "stdout",
     "output_type": "stream",
     "text": [
      "TRAIN Batch 720 => Loss: 2.25928\n"
     ]
    },
    {
     "name": "stdout",
     "output_type": "stream",
     "text": [
      "TRAIN Batch 768 => Loss: 2.43464\n"
     ]
    },
    {
     "name": "stdout",
     "output_type": "stream",
     "text": [
      "TRAIN Batch 816 => Loss: 2.27636\n"
     ]
    },
    {
     "name": "stdout",
     "output_type": "stream",
     "text": [
      "TRAIN Batch 864 => Loss: 2.16172\n"
     ]
    },
    {
     "name": "stdout",
     "output_type": "stream",
     "text": [
      "TRAIN Batch 912 => Loss: 2.25438\n"
     ]
    },
    {
     "name": "stdout",
     "output_type": "stream",
     "text": [
      "TRAIN Batch 960 => Loss: 1.90246\n"
     ]
    },
    {
     "name": "stdout",
     "output_type": "stream",
     "text": [
      "TRAIN Batch 1008 => Loss: 2.55881\n"
     ]
    },
    {
     "name": "stdout",
     "output_type": "stream",
     "text": [
      "TRAIN Batch 1056 => Loss: 1.97083\n"
     ]
    },
    {
     "name": "stdout",
     "output_type": "stream",
     "text": [
      "TRAIN Batch 1104 => Loss: 2.5688\n"
     ]
    },
    {
     "name": "stdout",
     "output_type": "stream",
     "text": [
      "TRAIN Batch 1152 => Loss: 2.28183\n"
     ]
    },
    {
     "name": "stdout",
     "output_type": "stream",
     "text": [
      "TRAIN Batch 1200 => Loss: 2.12898\n"
     ]
    },
    {
     "name": "stdout",
     "output_type": "stream",
     "text": [
      "TRAIN Batch 1248 => Loss: 2.34436\n"
     ]
    },
    {
     "name": "stdout",
     "output_type": "stream",
     "text": [
      "TRAIN Batch 1296 => Loss: 1.95703\n"
     ]
    },
    {
     "name": "stdout",
     "output_type": "stream",
     "text": [
      "TRAIN Batch 1344 => Loss: 2.17197\n"
     ]
    },
    {
     "name": "stdout",
     "output_type": "stream",
     "text": [
      "TRAIN Batch 1392 => Loss: 1.93973\n"
     ]
    },
    {
     "name": "stdout",
     "output_type": "stream",
     "text": [
      "TRAIN Batch 1440 => Loss: 2.33641\n"
     ]
    },
    {
     "name": "stdout",
     "output_type": "stream",
     "text": [
      "TRAIN Batch 1488 => Loss: 2.14146\n"
     ]
    },
    {
     "name": "stdout",
     "output_type": "stream",
     "text": [
      "TRAIN Batch 1536 => Loss: 2.61317\n"
     ]
    },
    {
     "name": "stdout",
     "output_type": "stream",
     "text": [
      "TRAIN Batch 1584 => Loss: 2.51829\n"
     ]
    },
    {
     "name": "stdout",
     "output_type": "stream",
     "text": [
      "TRAIN Batch 1632 => Loss: 1.85117\n"
     ]
    },
    {
     "name": "stdout",
     "output_type": "stream",
     "text": [
      "TRAIN Batch 1680 => Loss: 2.87801\n"
     ]
    },
    {
     "name": "stdout",
     "output_type": "stream",
     "text": [
      "TRAIN Batch 1728 => Loss: 2.19658\n"
     ]
    },
    {
     "name": "stdout",
     "output_type": "stream",
     "text": [
      "TRAIN Batch 1776 => Loss: 1.70617\n"
     ]
    },
    {
     "name": "stdout",
     "output_type": "stream",
     "text": [
      "TRAIN Batch 1824 => Loss: 2.09923\n"
     ]
    },
    {
     "name": "stdout",
     "output_type": "stream",
     "text": [
      "TRAIN Batch 1872 => Loss: 1.94926\n"
     ]
    },
    {
     "name": "stdout",
     "output_type": "stream",
     "text": [
      "TRAIN Batch 1920 => Loss: 2.53194\n"
     ]
    },
    {
     "name": "stdout",
     "output_type": "stream",
     "text": [
      "TRAIN Batch 1968 => Loss: 2.39465\n"
     ]
    },
    {
     "name": "stdout",
     "output_type": "stream",
     "text": [
      "TRAIN Batch 2016 => Loss: 2.2199\n"
     ]
    },
    {
     "name": "stdout",
     "output_type": "stream",
     "text": [
      "TRAIN Batch 2064 => Loss: 2.41659\n"
     ]
    },
    {
     "name": "stdout",
     "output_type": "stream",
     "text": [
      "TRAIN Batch 2112 => Loss: 2.1366\n"
     ]
    },
    {
     "name": "stdout",
     "output_type": "stream",
     "text": [
      "TRAIN Batch 2160 => Loss: 2.22493\n"
     ]
    },
    {
     "name": "stdout",
     "output_type": "stream",
     "text": [
      "TRAIN Batch 2208 => Loss: 2.315\n"
     ]
    },
    {
     "name": "stdout",
     "output_type": "stream",
     "text": [
      "EVAL Batch 0 => Loss: 2.35866\n"
     ]
    },
    {
     "name": "stdout",
     "output_type": "stream",
     "text": [
      "EVAL Batch 50 => Loss: 1.86666\n"
     ]
    },
    {
     "name": "stdout",
     "output_type": "stream",
     "text": [
      "EVAL Batch 100 => Loss: 2.234\n"
     ]
    },
    {
     "name": "stdout",
     "output_type": "stream",
     "text": [
      "EVAL Batch 150 => Loss: 1.97552\n"
     ]
    },
    {
     "name": "stdout",
     "output_type": "stream",
     "text": [
      "EVAL Batch 200 => Loss: 2.11823\n"
     ]
    },
    {
     "name": "stdout",
     "output_type": "stream",
     "text": [
      "EPOCH: 6 / 40\n"
     ]
    },
    {
     "name": "stdout",
     "output_type": "stream",
     "text": [
      "TRAIN Batch 0 => Loss: 1.73468\n"
     ]
    },
    {
     "name": "stdout",
     "output_type": "stream",
     "text": [
      "TRAIN Batch 48 => Loss: 2.32895\n"
     ]
    },
    {
     "name": "stdout",
     "output_type": "stream",
     "text": [
      "TRAIN Batch 96 => Loss: 1.73405\n"
     ]
    },
    {
     "name": "stdout",
     "output_type": "stream",
     "text": [
      "TRAIN Batch 144 => Loss: 1.84443\n"
     ]
    },
    {
     "name": "stdout",
     "output_type": "stream",
     "text": [
      "TRAIN Batch 192 => Loss: 2.03859\n"
     ]
    },
    {
     "name": "stdout",
     "output_type": "stream",
     "text": [
      "TRAIN Batch 240 => Loss: 2.12968\n"
     ]
    },
    {
     "name": "stdout",
     "output_type": "stream",
     "text": [
      "TRAIN Batch 288 => Loss: 1.44846\n"
     ]
    },
    {
     "name": "stdout",
     "output_type": "stream",
     "text": [
      "TRAIN Batch 336 => Loss: 1.51544\n"
     ]
    },
    {
     "name": "stdout",
     "output_type": "stream",
     "text": [
      "TRAIN Batch 384 => Loss: 2.07746\n"
     ]
    },
    {
     "name": "stdout",
     "output_type": "stream",
     "text": [
      "TRAIN Batch 432 => Loss: 2.02291\n"
     ]
    },
    {
     "name": "stdout",
     "output_type": "stream",
     "text": [
      "TRAIN Batch 480 => Loss: 2.22949\n"
     ]
    },
    {
     "name": "stdout",
     "output_type": "stream",
     "text": [
      "TRAIN Batch 528 => Loss: 1.91309\n"
     ]
    },
    {
     "name": "stdout",
     "output_type": "stream",
     "text": [
      "TRAIN Batch 576 => Loss: 2.61521\n"
     ]
    },
    {
     "name": "stdout",
     "output_type": "stream",
     "text": [
      "TRAIN Batch 624 => Loss: 1.46176\n"
     ]
    },
    {
     "name": "stdout",
     "output_type": "stream",
     "text": [
      "TRAIN Batch 672 => Loss: 1.87402\n"
     ]
    },
    {
     "name": "stdout",
     "output_type": "stream",
     "text": [
      "TRAIN Batch 720 => Loss: 1.82688\n"
     ]
    },
    {
     "name": "stdout",
     "output_type": "stream",
     "text": [
      "TRAIN Batch 768 => Loss: 1.91562\n"
     ]
    },
    {
     "name": "stdout",
     "output_type": "stream",
     "text": [
      "TRAIN Batch 816 => Loss: 2.29356\n"
     ]
    },
    {
     "name": "stdout",
     "output_type": "stream",
     "text": [
      "TRAIN Batch 864 => Loss: 2.11893\n"
     ]
    },
    {
     "name": "stdout",
     "output_type": "stream",
     "text": [
      "TRAIN Batch 912 => Loss: 2.12004\n"
     ]
    },
    {
     "name": "stdout",
     "output_type": "stream",
     "text": [
      "TRAIN Batch 960 => Loss: 2.25796\n"
     ]
    },
    {
     "name": "stdout",
     "output_type": "stream",
     "text": [
      "TRAIN Batch 1008 => Loss: 1.5375\n"
     ]
    },
    {
     "name": "stdout",
     "output_type": "stream",
     "text": [
      "TRAIN Batch 1056 => Loss: 1.63027\n"
     ]
    },
    {
     "name": "stdout",
     "output_type": "stream",
     "text": [
      "TRAIN Batch 1104 => Loss: 1.62231\n"
     ]
    },
    {
     "name": "stdout",
     "output_type": "stream",
     "text": [
      "TRAIN Batch 1152 => Loss: 2.05263\n"
     ]
    },
    {
     "name": "stdout",
     "output_type": "stream",
     "text": [
      "TRAIN Batch 1200 => Loss: 2.28326\n"
     ]
    },
    {
     "name": "stdout",
     "output_type": "stream",
     "text": [
      "TRAIN Batch 1248 => Loss: 1.49154\n"
     ]
    },
    {
     "name": "stdout",
     "output_type": "stream",
     "text": [
      "TRAIN Batch 1296 => Loss: 2.26033\n"
     ]
    },
    {
     "name": "stdout",
     "output_type": "stream",
     "text": [
      "TRAIN Batch 1344 => Loss: 1.82773\n"
     ]
    },
    {
     "name": "stdout",
     "output_type": "stream",
     "text": [
      "TRAIN Batch 1392 => Loss: 1.91797\n"
     ]
    },
    {
     "name": "stdout",
     "output_type": "stream",
     "text": [
      "TRAIN Batch 1440 => Loss: 1.93106\n"
     ]
    },
    {
     "name": "stdout",
     "output_type": "stream",
     "text": [
      "TRAIN Batch 1488 => Loss: 1.67361\n"
     ]
    },
    {
     "name": "stdout",
     "output_type": "stream",
     "text": [
      "TRAIN Batch 1536 => Loss: 1.65602\n"
     ]
    },
    {
     "name": "stdout",
     "output_type": "stream",
     "text": [
      "TRAIN Batch 1584 => Loss: 1.87649\n"
     ]
    },
    {
     "name": "stdout",
     "output_type": "stream",
     "text": [
      "TRAIN Batch 1632 => Loss: 1.58675\n"
     ]
    },
    {
     "name": "stdout",
     "output_type": "stream",
     "text": [
      "TRAIN Batch 1680 => Loss: 2.12392\n"
     ]
    },
    {
     "name": "stdout",
     "output_type": "stream",
     "text": [
      "TRAIN Batch 1728 => Loss: 1.53669\n"
     ]
    },
    {
     "name": "stdout",
     "output_type": "stream",
     "text": [
      "TRAIN Batch 1776 => Loss: 1.90939\n"
     ]
    },
    {
     "name": "stdout",
     "output_type": "stream",
     "text": [
      "TRAIN Batch 1824 => Loss: 1.72382\n"
     ]
    },
    {
     "name": "stdout",
     "output_type": "stream",
     "text": [
      "TRAIN Batch 1872 => Loss: 1.40201\n"
     ]
    },
    {
     "name": "stdout",
     "output_type": "stream",
     "text": [
      "TRAIN Batch 1920 => Loss: 1.64263\n"
     ]
    },
    {
     "name": "stdout",
     "output_type": "stream",
     "text": [
      "TRAIN Batch 1968 => Loss: 1.75859\n"
     ]
    },
    {
     "name": "stdout",
     "output_type": "stream",
     "text": [
      "TRAIN Batch 2016 => Loss: 1.55991\n"
     ]
    },
    {
     "name": "stdout",
     "output_type": "stream",
     "text": [
      "TRAIN Batch 2064 => Loss: 2.35962\n"
     ]
    },
    {
     "name": "stdout",
     "output_type": "stream",
     "text": [
      "TRAIN Batch 2112 => Loss: 1.85534\n"
     ]
    },
    {
     "name": "stdout",
     "output_type": "stream",
     "text": [
      "TRAIN Batch 2160 => Loss: 1.66615\n"
     ]
    },
    {
     "name": "stdout",
     "output_type": "stream",
     "text": [
      "TRAIN Batch 2208 => Loss: 1.63632\n"
     ]
    },
    {
     "name": "stdout",
     "output_type": "stream",
     "text": [
      "EVAL Batch 0 => Loss: 1.48945\n"
     ]
    },
    {
     "name": "stdout",
     "output_type": "stream",
     "text": [
      "EVAL Batch 50 => Loss: 1.63969\n"
     ]
    },
    {
     "name": "stdout",
     "output_type": "stream",
     "text": [
      "EVAL Batch 100 => Loss: 1.76054\n"
     ]
    },
    {
     "name": "stdout",
     "output_type": "stream",
     "text": [
      "EVAL Batch 150 => Loss: 1.96237\n"
     ]
    },
    {
     "name": "stdout",
     "output_type": "stream",
     "text": [
      "EVAL Batch 200 => Loss: 1.88697\n"
     ]
    },
    {
     "name": "stdout",
     "output_type": "stream",
     "text": [
      "<|im_start|>user\n",
      "Prove that the difference between two consecutive cubes cannot be divisible by 5, using the fact that the only possible remainders when a cube is divided by 5 are 0, 1, and -1.<|im_end|>\n",
      "\n",
      "\n",
      "Coloring is the Maii of the difference"
     ]
    },
    {
     "name": "stdout",
     "output_type": "stream",
     "text": [
      " between the two consecutive cubes: must have 2k Thus, where two consecutive cubes are colored and equal=(k"
     ]
    },
    {
     "name": "stdout",
     "output_type": "stream",
     "text": [
      " - 3k) when there are 2k solutions, the number must have no less than the other vertex."
     ]
    },
    {
     "name": "stdout",
     "output_type": "stream",
     "text": [
      "\n",
      "\n",
      "However, the congruence is not true that there can be two, which can be further simplified"
     ]
    },
    {
     "name": "stdout",
     "output_type": "stream",
     "text": [
      " using that the two consecutive cubes equals the other two. Since there are no coprime to the second letter"
     ]
    },
    {
     "name": "stdout",
     "output_type": "stream",
     "text": [
      ", the only possiblepmodotypes, and the one potential pair is not in the third con.<|im_end|>\\"
     ]
    },
    {
     "name": "stdout",
     "output_type": "stream",
     "text": [
      "n<|im_start|>reasoning\\nTo tackle this problem, we can break it down into smaller, manageable parts and reason"
     ]
    },
    {
     "name": "stdout",
     "output_type": "stream",
     "text": [
      " through each step.\n",
      "\n",
      "**Understanding the Problem Statement**\n",
      "\n",
      "The problem lies in determining whether the USA"
     ]
    },
    {
     "name": "stdout",
     "output_type": "stream",
     "text": [
      " are not quite irrational, as long as the fourth letter, are the second letter, and the other two"
     ]
    },
    {
     "name": "stdout",
     "output_type": "stream",
     "text": [
      " consecutive 9: a second letter, the two consecutive electrons are the same. This is because the first two"
     ]
    },
    {
     "name": "stdout",
     "output_type": "stream",
     "text": [
      " alternators are not in the third con con plan, which can be pair up to the second letter, not"
     ]
    },
    {
     "name": "stdout",
     "output_type": "stream",
     "text": [
      " in the third con, and let's establish the properties of the lexic groups and its relationship).\n"
     ]
    },
    {
     "name": "stdout",
     "output_type": "stream",
     "text": [
      "\n",
      "**Breaking Down the Problem:**\n",
      "\n",
      "Now, let's break down the problem step by step:"
     ]
    },
    {
     "name": "stdout",
     "output_type": "stream",
     "text": [
      "\n",
      "\n",
      "1. NaCl to the second letter, where two consecutive numbers are not in the third"
     ]
    },
    {
     "name": "stdout",
     "output_type": "stream",
     "text": [
      " concycl, and there are two consecutive pairs to the second letter.\n",
      "2. An two"
     ]
    },
    {
     "name": "stdout",
     "output_type": "stream",
     "text": [
      " consecutive 7 is the first letter, and the third terms are not in the third con.\n",
      "3."
     ]
    },
    {
     "name": "stdout",
     "output_type": "stream",
     "text": [
      " Every highest number can be arranged in the third converse.\n",
      "\n",
      "This means that the two consecutive terms"
     ]
    },
    {
     "name": "stdout",
     "output_type": "stream",
     "text": [
      " are not in the third con+ rectangle. Therefore, the two consecutive cubes are:\n",
      "\n",
      "1."
     ]
    },
    {
     "name": "stdout",
     "output_type": "stream",
     "text": [
      " 2k colored: 54\n",
      "\n",
      "Properp: 26\n",
      "\n",
      "41 (Writing ��p\n"
     ]
    },
    {
     "name": "stdout",
     "output_type": "stream",
     "text": [
      "\n",
      "This two consecutive congruence classes are not in the third congru.\n",
      "\n",
      "3. **"
     ]
    },
    {
     "name": "stdout",
     "output_type": "stream",
     "text": [
      "Identity in the third congru.**: For each term to be the third congru, the"
     ]
    },
    {
     "name": "stdout",
     "output_type": "stream",
     "text": [
      " third property must contain the fifth letter, and the odd product preserves the third converse.\n",
      "\n"
     ]
    },
    {
     "name": "stdout",
     "output_type": "stream",
     "text": [
      "4. **Solve the Third Inclusion**: We are the third congruence relation in"
     ]
    },
    {
     "name": "stdout",
     "output_type": "stream",
     "text": [
      " the third congru.\n",
      "\n",
      "5. **Reasoning Through the Result**: The next double fact"
     ]
    },
    {
     "name": "stdout",
     "output_type": "stream",
     "text": [
      " is the third congru-13 and is equal to the second letter. The fact that the corresponding three"
     ]
    },
    {
     "name": "stdout",
     "output_type": "stream",
     "text": [
      " congru is the first congru-13, which is the third congru-13,"
     ]
    },
    {
     "name": "stdout",
     "output_type": "stream",
     "text": [
      " the third Ax is not in the third congru.\n",
      "\n",
      "**Reasoning the Con"
     ]
    },
    {
     "name": "stdout",
     "output_type": "stream",
     "text": [
      " counted the Fasterasm (carbon Case)**\n",
      "\n",
      "The third congruence is the"
     ]
    },
    {
     "name": "stdout",
     "output_type": "stream",
     "text": [
      " second congru-13. By the third congruence relation, it never has two"
     ]
    },
    {
     "name": "stdout",
     "output_type": "stream",
     "text": [
      " consecutive 25 of the second congru-13 and one more congru-13,"
     ]
    },
    {
     "name": "stdout",
     "output_type": "stream",
     "text": [
      " and the third Sylvester is not in the next ab divides the third congru"
     ]
    },
    {
     "name": "stdout",
     "output_type": "stream",
     "text": [
      "-13.\n",
      "\n",
      "**Reasoning Steps:**\n",
      "\n",
      "Let's think about"
     ]
    },
    {
     "name": "stdout",
     "output_type": "stream",
     "text": [
      " this problem. We started by understanding the possible geometry and its relationship to the pair"
     ]
    },
    {
     "name": "stdout",
     "output_type": "stream",
     "text": [
      " $(p, q)$, and then we did not find the first equation."
     ]
    },
    {
     "name": "stdout",
     "output_type": "stream",
     "text": [
      "\n",
      "\n",
      "The possible solution is the third congru-13 and all common factors"
     ]
    },
    {
     "name": "stdout",
     "output_type": "stream",
     "text": [
      ". We need to find the two consecutive congru-13 and non-"
     ]
    },
    {
     "name": "stdout",
     "output_type": "stream",
     "text": [
      "13.\n",
      "\n",
      "This means that there are only one possible algebraic structure"
     ]
    },
    {
     "name": "stdout",
     "output_type": "stream",
     "text": [
      ", so we want to find the remaining two congru-13 and the"
     ]
    },
    {
     "name": "stdout",
     "output_type": "stream",
     "text": [
      " fourth Symmetric group.\n",
      "\n",
      "**Reasoning:**\n",
      "\n"
     ]
    },
    {
     "name": "stdout",
     "output_type": "stream",
     "text": [
      "Let's think about this problem. Pro Case 2kilit, and"
     ]
    },
    {
     "name": "stdout",
     "output_type": "stream",
     "text": [
      " two largest congru-13 and two congru-13 are a"
     ]
    },
    {
     "name": "stdout",
     "output_type": "stream",
     "text": [
      " cyclic group. We need to find the next two congru-"
     ]
    },
    {
     "name": "stdout",
     "output_type": "stream",
     "text": [
      "13 and the center corresponding to the pigeon.\n",
      "\n",
      "Since the two"
     ]
    },
    {
     "name": "stdout",
     "output_type": "stream",
     "text": [
      " sums are not in the third congru, we know that 1 is"
     ]
    },
    {
     "name": "stdout",
     "output_type": "stream",
     "text": [
      " the third congru-13 and not all common factors. But the"
     ]
    },
    {
     "name": "stdout",
     "output_type": "stream",
     "text": [
      " third converse: a diamond and two congru-13."
     ]
    },
    {
     "name": "stdout",
     "output_type": "stream",
     "text": [
      "\n",
      "\n",
      "This implies that the two two parts are all not"
     ]
    },
    {
     "name": "stdout",
     "output_type": "stream",
     "text": [
      " in the third congru-13 and 1, and the"
     ]
    },
    {
     "name": "stdout",
     "output_type": "stream",
     "text": [
      " third congru-13 are of the second ring, and"
     ]
    },
    {
     "name": "stdout",
     "output_type": "stream",
     "text": [
      " the third congru-13-13 and is the third"
     ]
    },
    {
     "name": "stdout",
     "output_type": "stream",
     "text": [
      " congru-13 and 1, and the third congru"
     ]
    },
    {
     "name": "stdout",
     "output_type": "stream",
     "text": [
      "-13 are is exactly the third congru-13"
     ]
    },
    {
     "name": "stdout",
     "output_type": "stream",
     "text": [
      " and all share all the cyclic groups.\n",
      "\n"
     ]
    },
    {
     "name": "stdout",
     "output_type": "stream",
     "text": [
      "Dividing both sides by 15, we get the"
     ]
    },
    {
     "name": "stdout",
     "output_type": "stream",
     "text": [
      " third congru-13 and (hyNM 36)"
     ]
    },
    {
     "name": "stdout",
     "output_type": "stream",
     "text": [
      " of the three congru-13 and two congru"
     ]
    },
    {
     "name": "stdout",
     "output_type": "stream",
     "text": [
      "-13 and ( organic(ab) have onto the"
     ]
    },
    {
     "name": "stdout",
     "output_type": "stream",
     "text": [
      " third congru-13 and 3 cyclic groups"
     ]
    },
    {
     "name": "stdout",
     "output_type": "stream",
     "text": [
      ". Additionally, this is not in the third"
     ]
    },
    {
     "name": "stdout",
     "output_type": "stream",
     "text": [
      " con must be: number.\n",
      "\n",
      "However"
     ]
    },
    {
     "name": "stdout",
     "output_type": "stream",
     "text": [
      ", since you are 2k triangles, both"
     ]
    },
    {
     "name": "stdout",
     "output_type": "stream",
     "text": [
      " groups have the same congru-13 and"
     ]
    },
    {
     "name": "stdout",
     "output_type": "stream",
     "text": [
      " one is based that the fact that the center"
     ]
    },
    {
     "name": "stdout",
     "output_type": "stream",
     "text": [
      " of the left! and one two congru"
     ]
    },
    {
     "name": "stdout",
     "output_type": "stream",
     "text": [
      "-13 and one is now, so ("
     ]
    },
    {
     "name": "stdout",
     "output_type": "stream",
     "text": [
      "boxTT) is not the third congru"
     ]
    },
    {
     "name": "stdout",
     "output_type": "stream",
     "text": [
      "-13 and (26, 9) becomes"
     ]
    },
    {
     "name": "stdout",
     "output_type": "stream",
     "text": [
      " BBB (since 15 = (k"
     ]
    },
    {
     "name": "stdout",
     "output_type": "stream",
     "text": [
      " x 9) to the third congru"
     ]
    },
    {
     "name": "stdout",
     "output_type": "stream",
     "text": [
      "-13 and (13, 9).\n"
     ]
    },
    {
     "name": "stdout",
     "output_type": "stream",
     "text": [
      "\n",
      "This is the third congru-13"
     ]
    },
    {
     "name": "stdout",
     "output_type": "stream",
     "text": [
      "\\) (13, 9) in the"
     ]
    },
    {
     "name": "stdout",
     "output_type": "stream",
     "text": [
      " third congru-13 and is the"
     ]
    },
    {
     "name": "stdout",
     "output_type": "stream",
     "text": [
      " third congru-13 and all three"
     ]
    },
    {
     "name": "stdout",
     "output_type": "stream",
     "text": [
      " non-13 and two congru-"
     ]
    },
    {
     "name": "stdout",
     "output_type": "stream",
     "text": [
      "13 and (13, 9) when"
     ]
    },
    {
     "name": "stdout",
     "output_type": "stream",
     "text": [
      " the last congru-13 and two"
     ]
    },
    {
     "name": "stdout",
     "output_type": "stream",
     "text": [
      " congru-13 to the last con"
     ]
    },
    {
     "name": "stdout",
     "output_type": "stream",
     "text": [
      "gru-13 and our congru-"
     ]
    },
    {
     "name": "stdout",
     "output_type": "stream",
     "text": [
      "13 and all legs are not.<|im_end|>"
     ]
    },
    {
     "name": "stdout",
     "output_type": "stream",
     "text": [
      "\\n<|im_start|>assistant\\nSuch if"
     ]
    },
    {
     "name": "stdout",
     "output_type": "stream",
     "text": [
      " (13, 9, 9, 9"
     ]
    },
    {
     "name": "stdout",
     "output_type": "stream",
     "text": [
      ", 9, 9, 9,"
     ]
    },
    {
     "name": "stdout",
     "output_type": "stream",
     "text": [
      " 9, 9, 9, 9"
     ]
    },
    {
     "name": "stdout",
     "output_type": "stream",
     "text": [
      ", 9, 9, 9,"
     ]
    },
    {
     "name": "stdout",
     "output_type": "stream",
     "text": [
      " 9, 9, 9, 9"
     ]
    },
    {
     "name": "stdout",
     "output_type": "stream",
     "text": [
      ", 9, 9, 9,"
     ]
    },
    {
     "name": "stdout",
     "output_type": "stream",
     "text": [
      " 9, 9, 9, 9"
     ]
    },
    {
     "name": "stdout",
     "output_type": "stream",
     "text": [
      ", 9, 9, 9,"
     ]
    },
    {
     "name": "stdout",
     "output_type": "stream",
     "text": [
      " 9, 9, 9, 9,"
     ]
    },
    {
     "name": "stdout",
     "output_type": "stream",
     "text": [
      " 9, 9, 9, 9,"
     ]
    },
    {
     "name": "stdout",
     "output_type": "stream",
     "text": [
      " 9, 9, 9, 9,"
     ]
    },
    {
     "name": "stdout",
     "output_type": "stream",
     "text": [
      " 9, 9, 9, 9,"
     ]
    },
    {
     "name": "stdout",
     "output_type": "stream",
     "text": [
      " 9, 9, 9, 9,"
     ]
    },
    {
     "name": "stdout",
     "output_type": "stream",
     "text": [
      " 17, 9,"
     ]
    },
    {
     "name": "stdout",
     "output_type": "stream",
     "text": [
      "EPOCH: 7 / 40\n"
     ]
    },
    {
     "name": "stdout",
     "output_type": "stream",
     "text": [
      "TRAIN Batch 0 => Loss: 1.8516\n"
     ]
    },
    {
     "name": "stdout",
     "output_type": "stream",
     "text": [
      "TRAIN Batch 48 => Loss: 1.33121\n"
     ]
    },
    {
     "name": "stdout",
     "output_type": "stream",
     "text": [
      "TRAIN Batch 96 => Loss: 1.66154\n"
     ]
    },
    {
     "name": "stdout",
     "output_type": "stream",
     "text": [
      "TRAIN Batch 144 => Loss: 1.4237\n"
     ]
    },
    {
     "name": "stdout",
     "output_type": "stream",
     "text": [
      "TRAIN Batch 192 => Loss: 1.61885\n"
     ]
    },
    {
     "name": "stdout",
     "output_type": "stream",
     "text": [
      "TRAIN Batch 240 => Loss: 1.65079\n"
     ]
    },
    {
     "name": "stdout",
     "output_type": "stream",
     "text": [
      "TRAIN Batch 288 => Loss: 1.2167\n"
     ]
    },
    {
     "name": "stdout",
     "output_type": "stream",
     "text": [
      "TRAIN Batch 336 => Loss: 1.68224\n"
     ]
    },
    {
     "name": "stdout",
     "output_type": "stream",
     "text": [
      "TRAIN Batch 384 => Loss: 1.79927\n"
     ]
    },
    {
     "name": "stdout",
     "output_type": "stream",
     "text": [
      "TRAIN Batch 432 => Loss: 1.39063\n"
     ]
    },
    {
     "name": "stdout",
     "output_type": "stream",
     "text": [
      "TRAIN Batch 480 => Loss: 2.05538\n"
     ]
    },
    {
     "name": "stdout",
     "output_type": "stream",
     "text": [
      "TRAIN Batch 528 => Loss: 1.64035\n"
     ]
    },
    {
     "name": "stdout",
     "output_type": "stream",
     "text": [
      "TRAIN Batch 576 => Loss: 1.75579\n"
     ]
    },
    {
     "name": "stdout",
     "output_type": "stream",
     "text": [
      "TRAIN Batch 624 => Loss: 1.71832\n"
     ]
    },
    {
     "name": "stdout",
     "output_type": "stream",
     "text": [
      "TRAIN Batch 672 => Loss: 1.62732\n"
     ]
    },
    {
     "name": "stdout",
     "output_type": "stream",
     "text": [
      "TRAIN Batch 720 => Loss: 1.47375\n"
     ]
    },
    {
     "name": "stdout",
     "output_type": "stream",
     "text": [
      "TRAIN Batch 768 => Loss: 1.31127\n"
     ]
    },
    {
     "name": "stdout",
     "output_type": "stream",
     "text": [
      "TRAIN Batch 816 => Loss: 1.57683\n"
     ]
    },
    {
     "name": "stdout",
     "output_type": "stream",
     "text": [
      "TRAIN Batch 864 => Loss: 1.49146\n"
     ]
    },
    {
     "name": "stdout",
     "output_type": "stream",
     "text": [
      "TRAIN Batch 912 => Loss: 1.19697\n"
     ]
    },
    {
     "name": "stdout",
     "output_type": "stream",
     "text": [
      "TRAIN Batch 960 => Loss: 1.82608\n"
     ]
    },
    {
     "name": "stdout",
     "output_type": "stream",
     "text": [
      "TRAIN Batch 1008 => Loss: 1.36118\n"
     ]
    },
    {
     "name": "stdout",
     "output_type": "stream",
     "text": [
      "TRAIN Batch 1056 => Loss: 1.40312\n"
     ]
    },
    {
     "name": "stdout",
     "output_type": "stream",
     "text": [
      "TRAIN Batch 1104 => Loss: 1.59\n"
     ]
    },
    {
     "name": "stdout",
     "output_type": "stream",
     "text": [
      "TRAIN Batch 1152 => Loss: 1.43607\n"
     ]
    },
    {
     "name": "stdout",
     "output_type": "stream",
     "text": [
      "TRAIN Batch 1200 => Loss: 1.24383\n"
     ]
    },
    {
     "name": "stdout",
     "output_type": "stream",
     "text": [
      "TRAIN Batch 1248 => Loss: 1.24353\n"
     ]
    },
    {
     "name": "stdout",
     "output_type": "stream",
     "text": [
      "TRAIN Batch 1296 => Loss: 1.37623\n"
     ]
    },
    {
     "name": "stdout",
     "output_type": "stream",
     "text": [
      "TRAIN Batch 1344 => Loss: 1.44921\n"
     ]
    },
    {
     "name": "stdout",
     "output_type": "stream",
     "text": [
      "TRAIN Batch 1392 => Loss: 1.67429\n"
     ]
    },
    {
     "name": "stdout",
     "output_type": "stream",
     "text": [
      "TRAIN Batch 1440 => Loss: 1.24524\n"
     ]
    },
    {
     "name": "stdout",
     "output_type": "stream",
     "text": [
      "TRAIN Batch 1488 => Loss: 1.08627\n"
     ]
    },
    {
     "name": "stdout",
     "output_type": "stream",
     "text": [
      "TRAIN Batch 1536 => Loss: 1.2823\n"
     ]
    },
    {
     "name": "stdout",
     "output_type": "stream",
     "text": [
      "TRAIN Batch 1584 => Loss: 1.21456\n"
     ]
    },
    {
     "name": "stdout",
     "output_type": "stream",
     "text": [
      "TRAIN Batch 1632 => Loss: 1.28113\n"
     ]
    },
    {
     "name": "stdout",
     "output_type": "stream",
     "text": [
      "TRAIN Batch 1680 => Loss: 1.54552\n"
     ]
    },
    {
     "name": "stdout",
     "output_type": "stream",
     "text": [
      "TRAIN Batch 1728 => Loss: 1.45279\n"
     ]
    },
    {
     "name": "stdout",
     "output_type": "stream",
     "text": [
      "TRAIN Batch 1776 => Loss: 1.74367\n"
     ]
    },
    {
     "name": "stdout",
     "output_type": "stream",
     "text": [
      "TRAIN Batch 1824 => Loss: 1.49048\n"
     ]
    },
    {
     "name": "stdout",
     "output_type": "stream",
     "text": [
      "TRAIN Batch 1872 => Loss: 1.70926\n"
     ]
    },
    {
     "name": "stdout",
     "output_type": "stream",
     "text": [
      "TRAIN Batch 1920 => Loss: 1.63122\n"
     ]
    },
    {
     "name": "stdout",
     "output_type": "stream",
     "text": [
      "TRAIN Batch 1968 => Loss: 1.68618\n"
     ]
    },
    {
     "name": "stdout",
     "output_type": "stream",
     "text": [
      "TRAIN Batch 2016 => Loss: 1.48493\n"
     ]
    },
    {
     "name": "stdout",
     "output_type": "stream",
     "text": [
      "TRAIN Batch 2064 => Loss: 1.2781\n"
     ]
    },
    {
     "name": "stdout",
     "output_type": "stream",
     "text": [
      "TRAIN Batch 2112 => Loss: 1.57225\n"
     ]
    },
    {
     "name": "stdout",
     "output_type": "stream",
     "text": [
      "TRAIN Batch 2160 => Loss: 1.43336\n"
     ]
    },
    {
     "name": "stdout",
     "output_type": "stream",
     "text": [
      "TRAIN Batch 2208 => Loss: 1.52667\n"
     ]
    },
    {
     "name": "stdout",
     "output_type": "stream",
     "text": [
      "EVAL Batch 0 => Loss: 1.66541\n"
     ]
    },
    {
     "name": "stdout",
     "output_type": "stream",
     "text": [
      "EVAL Batch 50 => Loss: 1.25597\n"
     ]
    },
    {
     "name": "stdout",
     "output_type": "stream",
     "text": [
      "EVAL Batch 100 => Loss: 1.66509\n"
     ]
    },
    {
     "name": "stdout",
     "output_type": "stream",
     "text": [
      "EVAL Batch 150 => Loss: 1.67947\n"
     ]
    },
    {
     "name": "stdout",
     "output_type": "stream",
     "text": [
      "EVAL Batch 200 => Loss: 2.2365\n"
     ]
    },
    {
     "name": "stdout",
     "output_type": "stream",
     "text": [
      "EPOCH: 8 / 40\n"
     ]
    },
    {
     "name": "stdout",
     "output_type": "stream",
     "text": [
      "TRAIN Batch 0 => Loss: 1.39101\n"
     ]
    },
    {
     "name": "stdout",
     "output_type": "stream",
     "text": [
      "TRAIN Batch 48 => Loss: 1.47438\n"
     ]
    },
    {
     "name": "stdout",
     "output_type": "stream",
     "text": [
      "TRAIN Batch 96 => Loss: 1.2445\n"
     ]
    },
    {
     "name": "stdout",
     "output_type": "stream",
     "text": [
      "TRAIN Batch 144 => Loss: 1.37508\n"
     ]
    },
    {
     "name": "stdout",
     "output_type": "stream",
     "text": [
      "TRAIN Batch 192 => Loss: 1.25297\n"
     ]
    },
    {
     "name": "stdout",
     "output_type": "stream",
     "text": [
      "TRAIN Batch 240 => Loss: 1.1913\n"
     ]
    },
    {
     "name": "stdout",
     "output_type": "stream",
     "text": [
      "TRAIN Batch 288 => Loss: 1.25667\n"
     ]
    },
    {
     "name": "stdout",
     "output_type": "stream",
     "text": [
      "TRAIN Batch 336 => Loss: 1.31889\n"
     ]
    },
    {
     "name": "stdout",
     "output_type": "stream",
     "text": [
      "TRAIN Batch 384 => Loss: 1.14929\n"
     ]
    },
    {
     "name": "stdout",
     "output_type": "stream",
     "text": [
      "TRAIN Batch 432 => Loss: 1.48381\n"
     ]
    },
    {
     "name": "stdout",
     "output_type": "stream",
     "text": [
      "TRAIN Batch 480 => Loss: 1.1519\n"
     ]
    },
    {
     "name": "stdout",
     "output_type": "stream",
     "text": [
      "TRAIN Batch 528 => Loss: 1.36804\n"
     ]
    },
    {
     "name": "stdout",
     "output_type": "stream",
     "text": [
      "TRAIN Batch 576 => Loss: 1.56829\n"
     ]
    },
    {
     "name": "stdout",
     "output_type": "stream",
     "text": [
      "TRAIN Batch 624 => Loss: 1.3181\n"
     ]
    },
    {
     "name": "stdout",
     "output_type": "stream",
     "text": [
      "TRAIN Batch 672 => Loss: 1.04761\n"
     ]
    },
    {
     "name": "stdout",
     "output_type": "stream",
     "text": [
      "TRAIN Batch 720 => Loss: 1.51543\n"
     ]
    },
    {
     "name": "stdout",
     "output_type": "stream",
     "text": [
      "TRAIN Batch 768 => Loss: 1.1799\n"
     ]
    },
    {
     "name": "stdout",
     "output_type": "stream",
     "text": [
      "TRAIN Batch 816 => Loss: 1.59422\n"
     ]
    },
    {
     "name": "stdout",
     "output_type": "stream",
     "text": [
      "TRAIN Batch 864 => Loss: 1.42953\n"
     ]
    },
    {
     "name": "stdout",
     "output_type": "stream",
     "text": [
      "TRAIN Batch 912 => Loss: 1.59601\n"
     ]
    },
    {
     "name": "stdout",
     "output_type": "stream",
     "text": [
      "TRAIN Batch 960 => Loss: 1.39695\n"
     ]
    },
    {
     "name": "stdout",
     "output_type": "stream",
     "text": [
      "TRAIN Batch 1008 => Loss: 1.33011\n"
     ]
    },
    {
     "name": "stdout",
     "output_type": "stream",
     "text": [
      "TRAIN Batch 1056 => Loss: 1.22273\n"
     ]
    },
    {
     "name": "stdout",
     "output_type": "stream",
     "text": [
      "TRAIN Batch 1104 => Loss: 1.49234\n"
     ]
    },
    {
     "name": "stdout",
     "output_type": "stream",
     "text": [
      "TRAIN Batch 1152 => Loss: 1.24199\n"
     ]
    },
    {
     "name": "stdout",
     "output_type": "stream",
     "text": [
      "TRAIN Batch 1200 => Loss: 1.40944\n"
     ]
    },
    {
     "name": "stdout",
     "output_type": "stream",
     "text": [
      "TRAIN Batch 1248 => Loss: 1.23449\n"
     ]
    },
    {
     "name": "stdout",
     "output_type": "stream",
     "text": [
      "TRAIN Batch 1296 => Loss: 1.05405\n"
     ]
    },
    {
     "name": "stdout",
     "output_type": "stream",
     "text": [
      "TRAIN Batch 1344 => Loss: 1.52941\n"
     ]
    },
    {
     "name": "stdout",
     "output_type": "stream",
     "text": [
      "TRAIN Batch 1392 => Loss: 1.21347\n"
     ]
    },
    {
     "name": "stdout",
     "output_type": "stream",
     "text": [
      "TRAIN Batch 1440 => Loss: 1.2952\n"
     ]
    },
    {
     "name": "stdout",
     "output_type": "stream",
     "text": [
      "TRAIN Batch 1488 => Loss: 1.52351\n"
     ]
    },
    {
     "name": "stdout",
     "output_type": "stream",
     "text": [
      "TRAIN Batch 1536 => Loss: 1.47502\n"
     ]
    },
    {
     "name": "stdout",
     "output_type": "stream",
     "text": [
      "TRAIN Batch 1584 => Loss: 1.1257\n"
     ]
    },
    {
     "name": "stdout",
     "output_type": "stream",
     "text": [
      "TRAIN Batch 1632 => Loss: 1.0543\n"
     ]
    },
    {
     "name": "stdout",
     "output_type": "stream",
     "text": [
      "TRAIN Batch 1680 => Loss: 1.41694\n"
     ]
    },
    {
     "name": "stdout",
     "output_type": "stream",
     "text": [
      "TRAIN Batch 1728 => Loss: 1.2705\n"
     ]
    },
    {
     "name": "stdout",
     "output_type": "stream",
     "text": [
      "TRAIN Batch 1776 => Loss: 1.17452\n"
     ]
    },
    {
     "name": "stdout",
     "output_type": "stream",
     "text": [
      "TRAIN Batch 1824 => Loss: 1.25248\n"
     ]
    },
    {
     "name": "stdout",
     "output_type": "stream",
     "text": [
      "TRAIN Batch 1872 => Loss: 1.68524\n"
     ]
    },
    {
     "name": "stdout",
     "output_type": "stream",
     "text": [
      "TRAIN Batch 1920 => Loss: 1.36405\n"
     ]
    },
    {
     "name": "stdout",
     "output_type": "stream",
     "text": [
      "TRAIN Batch 1968 => Loss: 1.16653\n"
     ]
    },
    {
     "name": "stdout",
     "output_type": "stream",
     "text": [
      "TRAIN Batch 2016 => Loss: 1.19736\n"
     ]
    },
    {
     "name": "stdout",
     "output_type": "stream",
     "text": [
      "TRAIN Batch 2064 => Loss: 1.14025\n"
     ]
    },
    {
     "name": "stdout",
     "output_type": "stream",
     "text": [
      "TRAIN Batch 2112 => Loss: 1.477\n"
     ]
    },
    {
     "name": "stdout",
     "output_type": "stream",
     "text": [
      "TRAIN Batch 2160 => Loss: 1.13907\n"
     ]
    },
    {
     "name": "stdout",
     "output_type": "stream",
     "text": [
      "TRAIN Batch 2208 => Loss: 1.36345\n"
     ]
    },
    {
     "name": "stdout",
     "output_type": "stream",
     "text": [
      "EVAL Batch 0 => Loss: 1.29461\n"
     ]
    },
    {
     "name": "stdout",
     "output_type": "stream",
     "text": [
      "EVAL Batch 50 => Loss: 1.67117\n"
     ]
    },
    {
     "name": "stdout",
     "output_type": "stream",
     "text": [
      "EVAL Batch 100 => Loss: 1.75663\n"
     ]
    },
    {
     "name": "stdout",
     "output_type": "stream",
     "text": [
      "EVAL Batch 150 => Loss: 1.39983\n"
     ]
    },
    {
     "name": "stdout",
     "output_type": "stream",
     "text": [
      "EVAL Batch 200 => Loss: 1.32977\n"
     ]
    },
    {
     "name": "stdout",
     "output_type": "stream",
     "text": [
      "EPOCH: 9 / 40\n"
     ]
    },
    {
     "name": "stdout",
     "output_type": "stream",
     "text": [
      "TRAIN Batch 0 => Loss: 1.11789\n"
     ]
    },
    {
     "name": "stdout",
     "output_type": "stream",
     "text": [
      "TRAIN Batch 48 => Loss: 1.1049\n"
     ]
    },
    {
     "name": "stdout",
     "output_type": "stream",
     "text": [
      "TRAIN Batch 96 => Loss: 1.29654\n"
     ]
    },
    {
     "name": "stdout",
     "output_type": "stream",
     "text": [
      "TRAIN Batch 144 => Loss: 1.07797\n"
     ]
    },
    {
     "name": "stdout",
     "output_type": "stream",
     "text": [
      "TRAIN Batch 192 => Loss: 1.21623\n"
     ]
    },
    {
     "name": "stdout",
     "output_type": "stream",
     "text": [
      "TRAIN Batch 240 => Loss: 0.92836\n"
     ]
    },
    {
     "name": "stdout",
     "output_type": "stream",
     "text": [
      "TRAIN Batch 288 => Loss: 1.37092\n"
     ]
    },
    {
     "name": "stdout",
     "output_type": "stream",
     "text": [
      "TRAIN Batch 336 => Loss: 1.11357\n"
     ]
    },
    {
     "name": "stdout",
     "output_type": "stream",
     "text": [
      "TRAIN Batch 384 => Loss: 0.97189\n"
     ]
    },
    {
     "name": "stdout",
     "output_type": "stream",
     "text": [
      "TRAIN Batch 432 => Loss: 1.22654\n"
     ]
    },
    {
     "name": "stdout",
     "output_type": "stream",
     "text": [
      "TRAIN Batch 480 => Loss: 0.81632\n"
     ]
    },
    {
     "name": "stdout",
     "output_type": "stream",
     "text": [
      "TRAIN Batch 528 => Loss: 1.0535\n"
     ]
    },
    {
     "name": "stdout",
     "output_type": "stream",
     "text": [
      "TRAIN Batch 576 => Loss: 1.56055\n"
     ]
    },
    {
     "name": "stdout",
     "output_type": "stream",
     "text": [
      "TRAIN Batch 624 => Loss: 1.11755\n"
     ]
    },
    {
     "name": "stdout",
     "output_type": "stream",
     "text": [
      "TRAIN Batch 672 => Loss: 1.58238\n"
     ]
    },
    {
     "name": "stdout",
     "output_type": "stream",
     "text": [
      "TRAIN Batch 720 => Loss: 1.10635\n"
     ]
    },
    {
     "name": "stdout",
     "output_type": "stream",
     "text": [
      "TRAIN Batch 768 => Loss: 1.02385\n"
     ]
    },
    {
     "name": "stdout",
     "output_type": "stream",
     "text": [
      "TRAIN Batch 816 => Loss: 1.1633\n"
     ]
    },
    {
     "name": "stdout",
     "output_type": "stream",
     "text": [
      "TRAIN Batch 864 => Loss: 1.25502\n"
     ]
    },
    {
     "name": "stdout",
     "output_type": "stream",
     "text": [
      "TRAIN Batch 912 => Loss: 1.26892\n"
     ]
    },
    {
     "name": "stdout",
     "output_type": "stream",
     "text": [
      "TRAIN Batch 960 => Loss: 1.26574\n"
     ]
    },
    {
     "name": "stdout",
     "output_type": "stream",
     "text": [
      "TRAIN Batch 1008 => Loss: 0.93364\n"
     ]
    },
    {
     "name": "stdout",
     "output_type": "stream",
     "text": [
      "TRAIN Batch 1056 => Loss: 1.23809\n"
     ]
    },
    {
     "name": "stdout",
     "output_type": "stream",
     "text": [
      "TRAIN Batch 1104 => Loss: 1.12593\n"
     ]
    },
    {
     "name": "stdout",
     "output_type": "stream",
     "text": [
      "TRAIN Batch 1152 => Loss: 1.15762\n"
     ]
    },
    {
     "name": "stdout",
     "output_type": "stream",
     "text": [
      "TRAIN Batch 1200 => Loss: 1.34179\n"
     ]
    },
    {
     "name": "stdout",
     "output_type": "stream",
     "text": [
      "TRAIN Batch 1248 => Loss: 1.36822\n"
     ]
    },
    {
     "name": "stdout",
     "output_type": "stream",
     "text": [
      "TRAIN Batch 1296 => Loss: 1.05971\n"
     ]
    },
    {
     "name": "stdout",
     "output_type": "stream",
     "text": [
      "TRAIN Batch 1344 => Loss: 1.07079\n"
     ]
    },
    {
     "name": "stdout",
     "output_type": "stream",
     "text": [
      "TRAIN Batch 1392 => Loss: 1.1977\n"
     ]
    },
    {
     "name": "stdout",
     "output_type": "stream",
     "text": [
      "TRAIN Batch 1440 => Loss: 1.06244\n"
     ]
    },
    {
     "name": "stdout",
     "output_type": "stream",
     "text": [
      "TRAIN Batch 1488 => Loss: 1.34218\n"
     ]
    },
    {
     "name": "stdout",
     "output_type": "stream",
     "text": [
      "TRAIN Batch 1536 => Loss: 1.2261\n"
     ]
    },
    {
     "name": "stdout",
     "output_type": "stream",
     "text": [
      "TRAIN Batch 1584 => Loss: 1.25358\n"
     ]
    },
    {
     "name": "stdout",
     "output_type": "stream",
     "text": [
      "TRAIN Batch 1632 => Loss: 1.06287\n"
     ]
    },
    {
     "name": "stdout",
     "output_type": "stream",
     "text": [
      "TRAIN Batch 1680 => Loss: 0.99466\n"
     ]
    },
    {
     "name": "stdout",
     "output_type": "stream",
     "text": [
      "TRAIN Batch 1728 => Loss: 1.29978\n"
     ]
    },
    {
     "name": "stdout",
     "output_type": "stream",
     "text": [
      "TRAIN Batch 1776 => Loss: 1.23258\n"
     ]
    },
    {
     "name": "stdout",
     "output_type": "stream",
     "text": [
      "TRAIN Batch 1824 => Loss: 0.98287\n"
     ]
    },
    {
     "name": "stdout",
     "output_type": "stream",
     "text": [
      "TRAIN Batch 1872 => Loss: 1.09419\n"
     ]
    },
    {
     "name": "stdout",
     "output_type": "stream",
     "text": [
      "TRAIN Batch 1920 => Loss: 1.42868\n"
     ]
    },
    {
     "name": "stdout",
     "output_type": "stream",
     "text": [
      "TRAIN Batch 1968 => Loss: 1.43823\n"
     ]
    },
    {
     "name": "stdout",
     "output_type": "stream",
     "text": [
      "TRAIN Batch 2016 => Loss: 1.34383\n"
     ]
    },
    {
     "name": "stdout",
     "output_type": "stream",
     "text": [
      "TRAIN Batch 2064 => Loss: 1.19649\n"
     ]
    },
    {
     "name": "stdout",
     "output_type": "stream",
     "text": [
      "TRAIN Batch 2112 => Loss: 1.20717\n"
     ]
    },
    {
     "name": "stdout",
     "output_type": "stream",
     "text": [
      "TRAIN Batch 2160 => Loss: 1.25645\n"
     ]
    },
    {
     "name": "stdout",
     "output_type": "stream",
     "text": [
      "TRAIN Batch 2208 => Loss: 1.12956\n"
     ]
    },
    {
     "name": "stdout",
     "output_type": "stream",
     "text": [
      "EVAL Batch 0 => Loss: 1.33929\n"
     ]
    },
    {
     "name": "stdout",
     "output_type": "stream",
     "text": [
      "EVAL Batch 50 => Loss: 1.14715\n"
     ]
    },
    {
     "name": "stdout",
     "output_type": "stream",
     "text": [
      "EVAL Batch 100 => Loss: 1.20314\n"
     ]
    },
    {
     "name": "stdout",
     "output_type": "stream",
     "text": [
      "EVAL Batch 150 => Loss: 1.50902\n"
     ]
    },
    {
     "name": "stdout",
     "output_type": "stream",
     "text": [
      "EVAL Batch 200 => Loss: 1.4254\n"
     ]
    },
    {
     "name": "stdout",
     "output_type": "stream",
     "text": [
      "EPOCH: 10 / 40\n"
     ]
    },
    {
     "name": "stdout",
     "output_type": "stream",
     "text": [
      "TRAIN Batch 0 => Loss: 1.19652\n"
     ]
    },
    {
     "name": "stdout",
     "output_type": "stream",
     "text": [
      "TRAIN Batch 48 => Loss: 1.00076\n"
     ]
    },
    {
     "name": "stdout",
     "output_type": "stream",
     "text": [
      "TRAIN Batch 96 => Loss: 0.9637\n"
     ]
    },
    {
     "name": "stdout",
     "output_type": "stream",
     "text": [
      "TRAIN Batch 144 => Loss: 1.09499\n"
     ]
    },
    {
     "name": "stdout",
     "output_type": "stream",
     "text": [
      "TRAIN Batch 192 => Loss: 1.2751\n"
     ]
    },
    {
     "name": "stdout",
     "output_type": "stream",
     "text": [
      "TRAIN Batch 240 => Loss: 1.04819\n"
     ]
    },
    {
     "name": "stdout",
     "output_type": "stream",
     "text": [
      "TRAIN Batch 288 => Loss: 1.0971\n"
     ]
    },
    {
     "name": "stdout",
     "output_type": "stream",
     "text": [
      "TRAIN Batch 336 => Loss: 1.26856\n"
     ]
    },
    {
     "name": "stdout",
     "output_type": "stream",
     "text": [
      "TRAIN Batch 384 => Loss: 1.24282\n"
     ]
    },
    {
     "name": "stdout",
     "output_type": "stream",
     "text": [
      "TRAIN Batch 432 => Loss: 0.93958\n"
     ]
    },
    {
     "name": "stdout",
     "output_type": "stream",
     "text": [
      "TRAIN Batch 480 => Loss: 1.22059\n"
     ]
    },
    {
     "name": "stdout",
     "output_type": "stream",
     "text": [
      "TRAIN Batch 528 => Loss: 1.15141\n"
     ]
    },
    {
     "name": "stdout",
     "output_type": "stream",
     "text": [
      "TRAIN Batch 576 => Loss: 1.1741\n"
     ]
    },
    {
     "name": "stdout",
     "output_type": "stream",
     "text": [
      "TRAIN Batch 624 => Loss: 1.11806\n"
     ]
    },
    {
     "name": "stdout",
     "output_type": "stream",
     "text": [
      "TRAIN Batch 672 => Loss: 1.03971\n"
     ]
    },
    {
     "name": "stdout",
     "output_type": "stream",
     "text": [
      "TRAIN Batch 720 => Loss: 0.96851\n"
     ]
    },
    {
     "name": "stdout",
     "output_type": "stream",
     "text": [
      "TRAIN Batch 768 => Loss: 1.0651\n"
     ]
    },
    {
     "name": "stdout",
     "output_type": "stream",
     "text": [
      "TRAIN Batch 816 => Loss: 1.28967\n"
     ]
    },
    {
     "name": "stdout",
     "output_type": "stream",
     "text": [
      "TRAIN Batch 864 => Loss: 1.34314\n"
     ]
    },
    {
     "name": "stdout",
     "output_type": "stream",
     "text": [
      "TRAIN Batch 912 => Loss: 1.14923\n"
     ]
    },
    {
     "name": "stdout",
     "output_type": "stream",
     "text": [
      "TRAIN Batch 960 => Loss: 0.89979\n"
     ]
    },
    {
     "name": "stdout",
     "output_type": "stream",
     "text": [
      "TRAIN Batch 1008 => Loss: 1.28062\n"
     ]
    },
    {
     "name": "stdout",
     "output_type": "stream",
     "text": [
      "TRAIN Batch 1056 => Loss: 1.17504\n"
     ]
    },
    {
     "name": "stdout",
     "output_type": "stream",
     "text": [
      "TRAIN Batch 1104 => Loss: 0.85113\n"
     ]
    },
    {
     "name": "stdout",
     "output_type": "stream",
     "text": [
      "TRAIN Batch 1152 => Loss: 1.18934\n"
     ]
    },
    {
     "name": "stdout",
     "output_type": "stream",
     "text": [
      "TRAIN Batch 1200 => Loss: 1.01954\n"
     ]
    },
    {
     "name": "stdout",
     "output_type": "stream",
     "text": [
      "TRAIN Batch 1248 => Loss: 1.28695\n"
     ]
    },
    {
     "name": "stdout",
     "output_type": "stream",
     "text": [
      "TRAIN Batch 1296 => Loss: 1.10768\n"
     ]
    },
    {
     "name": "stdout",
     "output_type": "stream",
     "text": [
      "TRAIN Batch 1344 => Loss: 1.40971\n"
     ]
    },
    {
     "name": "stdout",
     "output_type": "stream",
     "text": [
      "TRAIN Batch 1392 => Loss: 1.20092\n"
     ]
    },
    {
     "name": "stdout",
     "output_type": "stream",
     "text": [
      "TRAIN Batch 1440 => Loss: 0.99111\n"
     ]
    },
    {
     "name": "stdout",
     "output_type": "stream",
     "text": [
      "TRAIN Batch 1488 => Loss: 1.07466\n"
     ]
    },
    {
     "name": "stdout",
     "output_type": "stream",
     "text": [
      "TRAIN Batch 1536 => Loss: 1.16808\n"
     ]
    },
    {
     "name": "stdout",
     "output_type": "stream",
     "text": [
      "TRAIN Batch 1584 => Loss: 1.18737\n"
     ]
    },
    {
     "name": "stdout",
     "output_type": "stream",
     "text": [
      "TRAIN Batch 1632 => Loss: 0.89102\n"
     ]
    },
    {
     "name": "stdout",
     "output_type": "stream",
     "text": [
      "TRAIN Batch 1680 => Loss: 1.0524\n"
     ]
    },
    {
     "name": "stdout",
     "output_type": "stream",
     "text": [
      "TRAIN Batch 1728 => Loss: 1.06085\n"
     ]
    },
    {
     "name": "stdout",
     "output_type": "stream",
     "text": [
      "TRAIN Batch 1776 => Loss: 1.21528\n"
     ]
    },
    {
     "name": "stdout",
     "output_type": "stream",
     "text": [
      "TRAIN Batch 1824 => Loss: 1.00919\n"
     ]
    },
    {
     "name": "stdout",
     "output_type": "stream",
     "text": [
      "TRAIN Batch 1872 => Loss: 1.14199\n"
     ]
    },
    {
     "name": "stdout",
     "output_type": "stream",
     "text": [
      "TRAIN Batch 1920 => Loss: 1.22197\n"
     ]
    },
    {
     "name": "stdout",
     "output_type": "stream",
     "text": [
      "TRAIN Batch 1968 => Loss: 0.99295\n"
     ]
    },
    {
     "name": "stdout",
     "output_type": "stream",
     "text": [
      "TRAIN Batch 2016 => Loss: 1.23295\n"
     ]
    },
    {
     "name": "stdout",
     "output_type": "stream",
     "text": [
      "TRAIN Batch 2064 => Loss: 1.07841\n"
     ]
    },
    {
     "name": "stdout",
     "output_type": "stream",
     "text": [
      "TRAIN Batch 2112 => Loss: 1.38775\n"
     ]
    },
    {
     "name": "stdout",
     "output_type": "stream",
     "text": [
      "TRAIN Batch 2160 => Loss: 1.34026\n"
     ]
    },
    {
     "name": "stdout",
     "output_type": "stream",
     "text": [
      "TRAIN Batch 2208 => Loss: 1.02391\n"
     ]
    },
    {
     "name": "stdout",
     "output_type": "stream",
     "text": [
      "EVAL Batch 0 => Loss: 1.22949\n"
     ]
    },
    {
     "name": "stdout",
     "output_type": "stream",
     "text": [
      "EVAL Batch 50 => Loss: 1.39403\n"
     ]
    },
    {
     "name": "stdout",
     "output_type": "stream",
     "text": [
      "EVAL Batch 100 => Loss: 1.19698\n"
     ]
    },
    {
     "name": "stdout",
     "output_type": "stream",
     "text": [
      "EVAL Batch 150 => Loss: 1.18721\n"
     ]
    },
    {
     "name": "stdout",
     "output_type": "stream",
     "text": [
      "EVAL Batch 200 => Loss: 1.36026\n"
     ]
    },
    {
     "name": "stdout",
     "output_type": "stream",
     "text": [
      "EPOCH: 11 / 40\n"
     ]
    },
    {
     "name": "stdout",
     "output_type": "stream",
     "text": [
      "TRAIN Batch 0 => Loss: 1.32479\n"
     ]
    },
    {
     "name": "stdout",
     "output_type": "stream",
     "text": [
      "TRAIN Batch 48 => Loss: 1.31559\n"
     ]
    },
    {
     "name": "stdout",
     "output_type": "stream",
     "text": [
      "TRAIN Batch 96 => Loss: 0.92327\n"
     ]
    },
    {
     "name": "stdout",
     "output_type": "stream",
     "text": [
      "TRAIN Batch 144 => Loss: 1.01959\n"
     ]
    },
    {
     "name": "stdout",
     "output_type": "stream",
     "text": [
      "TRAIN Batch 192 => Loss: 1.08202\n"
     ]
    },
    {
     "name": "stdout",
     "output_type": "stream",
     "text": [
      "TRAIN Batch 240 => Loss: 0.83143\n"
     ]
    },
    {
     "name": "stdout",
     "output_type": "stream",
     "text": [
      "TRAIN Batch 288 => Loss: 0.79298\n"
     ]
    },
    {
     "name": "stdout",
     "output_type": "stream",
     "text": [
      "TRAIN Batch 336 => Loss: 0.92994\n"
     ]
    },
    {
     "name": "stdout",
     "output_type": "stream",
     "text": [
      "TRAIN Batch 384 => Loss: 0.97032\n"
     ]
    },
    {
     "name": "stdout",
     "output_type": "stream",
     "text": [
      "TRAIN Batch 432 => Loss: 0.88893\n"
     ]
    },
    {
     "name": "stdout",
     "output_type": "stream",
     "text": [
      "TRAIN Batch 480 => Loss: 0.77405\n"
     ]
    },
    {
     "name": "stdout",
     "output_type": "stream",
     "text": [
      "TRAIN Batch 528 => Loss: 1.15721\n"
     ]
    },
    {
     "name": "stdout",
     "output_type": "stream",
     "text": [
      "TRAIN Batch 576 => Loss: 1.23796\n"
     ]
    },
    {
     "name": "stdout",
     "output_type": "stream",
     "text": [
      "TRAIN Batch 624 => Loss: 1.0719\n"
     ]
    },
    {
     "name": "stdout",
     "output_type": "stream",
     "text": [
      "TRAIN Batch 672 => Loss: 1.06745\n"
     ]
    },
    {
     "name": "stdout",
     "output_type": "stream",
     "text": [
      "TRAIN Batch 720 => Loss: 1.18025\n"
     ]
    },
    {
     "name": "stdout",
     "output_type": "stream",
     "text": [
      "TRAIN Batch 768 => Loss: 1.06692\n"
     ]
    },
    {
     "name": "stdout",
     "output_type": "stream",
     "text": [
      "TRAIN Batch 816 => Loss: 0.94811\n"
     ]
    },
    {
     "name": "stdout",
     "output_type": "stream",
     "text": [
      "TRAIN Batch 864 => Loss: 1.07764\n"
     ]
    },
    {
     "name": "stdout",
     "output_type": "stream",
     "text": [
      "TRAIN Batch 912 => Loss: 1.35606\n"
     ]
    },
    {
     "name": "stdout",
     "output_type": "stream",
     "text": [
      "TRAIN Batch 960 => Loss: 0.99315\n"
     ]
    },
    {
     "name": "stdout",
     "output_type": "stream",
     "text": [
      "TRAIN Batch 1008 => Loss: 1.25965\n"
     ]
    },
    {
     "name": "stdout",
     "output_type": "stream",
     "text": [
      "TRAIN Batch 1056 => Loss: 1.12264\n"
     ]
    },
    {
     "name": "stdout",
     "output_type": "stream",
     "text": [
      "TRAIN Batch 1104 => Loss: 1.27084\n"
     ]
    },
    {
     "name": "stdout",
     "output_type": "stream",
     "text": [
      "TRAIN Batch 1152 => Loss: 0.87394\n"
     ]
    },
    {
     "name": "stdout",
     "output_type": "stream",
     "text": [
      "TRAIN Batch 1200 => Loss: 1.07089\n"
     ]
    },
    {
     "name": "stdout",
     "output_type": "stream",
     "text": [
      "TRAIN Batch 1248 => Loss: 1.29714\n"
     ]
    },
    {
     "name": "stdout",
     "output_type": "stream",
     "text": [
      "TRAIN Batch 1296 => Loss: 1.06272\n"
     ]
    },
    {
     "name": "stdout",
     "output_type": "stream",
     "text": [
      "TRAIN Batch 1344 => Loss: 1.37101\n"
     ]
    },
    {
     "name": "stdout",
     "output_type": "stream",
     "text": [
      "TRAIN Batch 1392 => Loss: 0.94974\n"
     ]
    },
    {
     "name": "stdout",
     "output_type": "stream",
     "text": [
      "TRAIN Batch 1440 => Loss: 1.0842\n"
     ]
    },
    {
     "name": "stdout",
     "output_type": "stream",
     "text": [
      "TRAIN Batch 1488 => Loss: 1.16832\n"
     ]
    },
    {
     "name": "stdout",
     "output_type": "stream",
     "text": [
      "TRAIN Batch 1536 => Loss: 1.1396\n"
     ]
    },
    {
     "name": "stdout",
     "output_type": "stream",
     "text": [
      "TRAIN Batch 1584 => Loss: 1.14786\n"
     ]
    },
    {
     "name": "stdout",
     "output_type": "stream",
     "text": [
      "TRAIN Batch 1632 => Loss: 0.89797\n"
     ]
    },
    {
     "name": "stdout",
     "output_type": "stream",
     "text": [
      "TRAIN Batch 1680 => Loss: 1.14876\n"
     ]
    },
    {
     "name": "stdout",
     "output_type": "stream",
     "text": [
      "TRAIN Batch 1728 => Loss: 1.06407\n"
     ]
    },
    {
     "name": "stdout",
     "output_type": "stream",
     "text": [
      "TRAIN Batch 1776 => Loss: 1.02353\n"
     ]
    },
    {
     "name": "stdout",
     "output_type": "stream",
     "text": [
      "TRAIN Batch 1824 => Loss: 1.23414\n"
     ]
    },
    {
     "name": "stdout",
     "output_type": "stream",
     "text": [
      "TRAIN Batch 1872 => Loss: 1.04263\n"
     ]
    },
    {
     "name": "stdout",
     "output_type": "stream",
     "text": [
      "TRAIN Batch 1920 => Loss: 1.20897\n"
     ]
    },
    {
     "name": "stdout",
     "output_type": "stream",
     "text": [
      "TRAIN Batch 1968 => Loss: 1.00628\n"
     ]
    },
    {
     "name": "stdout",
     "output_type": "stream",
     "text": [
      "TRAIN Batch 2016 => Loss: 0.98861\n"
     ]
    },
    {
     "name": "stdout",
     "output_type": "stream",
     "text": [
      "TRAIN Batch 2064 => Loss: 1.1882\n"
     ]
    },
    {
     "name": "stdout",
     "output_type": "stream",
     "text": [
      "TRAIN Batch 2112 => Loss: 1.29118\n"
     ]
    },
    {
     "name": "stdout",
     "output_type": "stream",
     "text": [
      "TRAIN Batch 2160 => Loss: 1.13673\n"
     ]
    },
    {
     "name": "stdout",
     "output_type": "stream",
     "text": [
      "TRAIN Batch 2208 => Loss: 0.87811\n"
     ]
    },
    {
     "name": "stdout",
     "output_type": "stream",
     "text": [
      "EVAL Batch 0 => Loss: 1.42189\n"
     ]
    },
    {
     "name": "stdout",
     "output_type": "stream",
     "text": [
      "EVAL Batch 50 => Loss: 1.06598\n"
     ]
    },
    {
     "name": "stdout",
     "output_type": "stream",
     "text": [
      "EVAL Batch 100 => Loss: 1.58243\n"
     ]
    },
    {
     "name": "stdout",
     "output_type": "stream",
     "text": [
      "EVAL Batch 150 => Loss: 1.63141\n"
     ]
    },
    {
     "name": "stdout",
     "output_type": "stream",
     "text": [
      "EVAL Batch 200 => Loss: 1.51462\n"
     ]
    },
    {
     "name": "stdout",
     "output_type": "stream",
     "text": [
      "<|im_start|>user\n",
      "Prove that the difference between two consecutive cubes cannot be divisible by 5, using the fact that the only possible remainders when a cube is divided by 5 are 0, 1, and -1.<|im_end|>\n",
      "\n",
      "\n",
      "Let's assume that the difference between two consecutive"
     ]
    },
    {
     "name": "stdout",
     "output_type": "stream",
     "text": [
      " cubes cannot be a form have a subtraction more than 5. For example, about the remainders"
     ]
    },
    {
     "name": "stdout",
     "output_type": "stream",
     "text": [
      ", 1, and -1. However, as they do, the difference between the difference between any two consecutive"
     ]
    },
    {
     "name": "stdout",
     "output_type": "stream",
     "text": [
      " cubes is 4, and the difference between the difference between the differences between consecutive cubes is 1, which is 1"
     ]
    },
    {
     "name": "stdout",
     "output_type": "stream",
     "text": [
      ", 6, and -1.\n",
      "\n",
      "AC Orbital: 2, 2, Alery���/"
     ]
    },
    {
     "name": "stdout",
     "output_type": "stream",
     "text": [
      "4\n",
      "\n",
      " Elements of the difference between consecutive cubes is 3, as the number of successive cubes increases from 5."
     ]
    },
    {
     "name": "stdout",
     "output_type": "stream",
     "text": [
      "\n",
      "\n",
      "Hence, if two consecutive cubes of four are 1, then the difference between the differences between"
     ]
    },
    {
     "name": "stdout",
     "output_type": "stream",
     "text": [
      " consecutive cubes is 6, asartheity is a difference between consecutive cubes, while the difference between consecutive cubes"
     ]
    },
    {
     "name": "stdout",
     "output_type": "stream",
     "text": [
      " is 6, as both 30 and 14 are also 1, 5, -1.\n",
      "\n",
      "So, why"
     ]
    },
    {
     "name": "stdout",
     "output_type": "stream",
     "text": [
      " does this change see why the difference between consecutive cubes cannot be divisible by 5 are 0?<|im_end|>\\n"
     ]
    },
    {
     "name": "stdout",
     "output_type": "stream",
     "text": [
      "<|im_start|>reasoning\\nLet's break down the problem step by step to understand the given sequence of consecutive cubes used"
     ]
    },
    {
     "name": "stdout",
     "output_type": "stream",
     "text": [
      " in mathematics.\n",
      "\n",
      "**Understanding the Problem**\n",
      "\n",
      "We are given an inequality^2 < a ..."
     ]
    },
    {
     "name": "stdout",
     "output_type": "stream",
     "text": [
      " < 36 cents. The conditions of these equations are:\n",
      "\n",
      "A sequences of size n - (n"
     ]
    },
    {
     "name": "stdout",
     "output_type": "stream",
     "text": [
      "/4 number) are positive for some n positive integers (n ≤ n)\n",
      "\n"
     ]
    },
    {
     "name": "stdout",
     "output_type": "stream",
     "text": [
      "These sequences are non-negative, where each number is sandwiched to one of the"
     ]
    },
    {
     "name": "stdout",
     "output_type": "stream",
     "text": [
      " differences between consecutive cubes.\n",
      "\n",
      "Our goal is to find the difference between consecutive cubes,"
     ]
    },
    {
     "name": "stdout",
     "output_type": "stream",
     "text": [
      " which is (n/4 number).\n",
      "\n",
      "**Breaking Down the Problem**\n",
      "\n"
     ]
    },
    {
     "name": "stdout",
     "output_type": "stream",
     "text": [
      "To approach this problem, let's consider the following steps:\n",
      "\n",
      "1. **Divide"
     ]
    },
    {
     "name": "stdout",
     "output_type": "stream",
     "text": [
      " a number by itself**: We start with the base 2 (or 4)! and its multipl"
     ]
    },
    {
     "name": "stdout",
     "output_type": "stream",
     "text": [
      "ication: 17. This might seem like a trivial case.\n",
      "2. **Add"
     ]
    },
    {
     "name": "stdout",
     "output_type": "stream",
     "text": [
      " a Factor at those with one leg to arrange**: We can add a factor at those with"
     ]
    },
    {
     "name": "stdout",
     "output_type": "stream",
     "text": [
      " one leg to arrange, which is a difference between consecutive cubes that is -1. The first number"
     ]
    },
    {
     "name": "stdout",
     "output_type": "stream",
     "text": [
      " is 2, and the second number is 2 = 10.\n",
      "\n",
      "**Simplifying the Formula"
     ]
    },
    {
     "name": "stdout",
     "output_type": "stream",
     "text": [
      "**\n",
      "\n",
      "Let's simplify the formula for consecutive cubes:\n",
      "\n",
      "$A_4 ="
     ]
    },
    {
     "name": "stdout",
     "output_type": "stream",
     "text": [
      " (2 br + 10 three) * (2) + (3^2 \\cdot 1"
     ]
    },
    {
     "name": "stdout",
     "output_type": "stream",
     "text": [
      ")$\n",
      "\n",
      "This is the difference between consecutive cubes used (n/4 number) and"
     ]
    },
    {
     "name": "stdout",
     "output_type": "stream",
     "text": [
      " the numbers ���N (3), which is the difference between consecutive cubes.\n",
      "\n"
     ]
    },
    {
     "name": "stdout",
     "output_type": "stream",
     "text": [
      "**Considering the Possibility**\n",
      "\n",
      "The pattern of the differences between consecutive cubes is"
     ]
    },
    {
     "name": "stdout",
     "output_type": "stream",
     "text": [
      " small, while the differences between consecutive cubes refers to the sum of the differences between consecutive cubes"
     ]
    },
    {
     "name": "stdout",
     "output_type": "stream",
     "text": [
      ". The differences between consecutive cubes can be congruent to each differences in the differences"
     ]
    },
    {
     "name": "stdout",
     "output_type": "stream",
     "text": [
      " between consecutive cubes.\n",
      "\n",
      "For consecutive cubes, the differences between consecutive cubes (n"
     ]
    },
    {
     "name": "stdout",
     "output_type": "stream",
     "text": [
      "/4)^2 and alternating cubes are small and multiplications (n/"
     ]
    },
    {
     "name": "stdout",
     "output_type": "stream",
     "text": [
      "4 two squares and form facing results with two consecutive cubes. This is because the"
     ]
    },
    {
     "name": "stdout",
     "output_type": "stream",
     "text": [
      " differences between consecutive cubes can be congruent to each differences in the differences."
     ]
    },
    {
     "name": "stdout",
     "output_type": "stream",
     "text": [
      "\n",
      "\n",
      "For consecutive cubes, the differences between consecutive cubes can form differences in differences"
     ]
    },
    {
     "name": "stdout",
     "output_type": "stream",
     "text": [
      " between consecutive cubes can be factored, or by identifying the differences between consecutive cubes"
     ]
    },
    {
     "name": "stdout",
     "output_type": "stream",
     "text": [
      " roll, matrix differences, and difference differences.\n",
      "\n",
      "**Conclusion**\n"
     ]
    },
    {
     "name": "stdout",
     "output_type": "stream",
     "text": [
      "\n",
      "In conclusion, the difference between consecutive cubes of consecutive cubes cannot"
     ]
    },
    {
     "name": "stdout",
     "output_type": "stream",
     "text": [
      " be divisible by 5 is 0 because the formula is not applicable to differences"
     ]
    },
    {
     "name": "stdout",
     "output_type": "stream",
     "text": [
      " in these shapes, and eliminating the need for constant differences in differences may become"
     ]
    },
    {
     "name": "stdout",
     "output_type": "stream",
     "text": [
      " established. The differences between consecutive cubes can be simplified by combining like consecutive cubes"
     ]
    },
    {
     "name": "stdout",
     "output_type": "stream",
     "text": [
      " and perfect squares,, or by identifying the differences between consecutive cubes."
     ]
    },
    {
     "name": "stdout",
     "output_type": "stream",
     "text": [
      "\n",
      "\n",
      "**Self-Reflection**\n",
      "\n",
      "To ensure a thorough"
     ]
    },
    {
     "name": "stdout",
     "output_type": "stream",
     "text": [
      " understanding of the formulas and uses the formula for consecutive cubes, let's"
     ]
    },
    {
     "name": "stdout",
     "output_type": "stream",
     "text": [
      " review them step by step.\n",
      "\n",
      "1. We derived an equation"
     ]
    },
    {
     "name": "stdout",
     "output_type": "stream",
     "text": [
      " using the difference between consecutive cubes and the differences between consecutive cubes in"
     ]
    },
    {
     "name": "stdout",
     "output_type": "stream",
     "text": [
      " a perfect square.\n",
      "2. We identified the differences between consecutive"
     ]
    },
    {
     "name": "stdout",
     "output_type": "stream",
     "text": [
      " cubes as x squared and alternating cubes, as the differences between consecutive"
     ]
    },
    {
     "name": "stdout",
     "output_type": "stream",
     "text": [
      " cubes approach is measured.\n",
      "3. We calculated the differences"
     ]
    },
    {
     "name": "stdout",
     "output_type": "stream",
     "text": [
      " between consecutive cubes used in finding the difference between consecutive cubes."
     ]
    },
    {
     "name": "stdout",
     "output_type": "stream",
     "text": [
      "\n",
      "4. We found the difference between consecutive cubes in the"
     ]
    },
    {
     "name": "stdout",
     "output_type": "stream",
     "text": [
      " differences between consecutive cubes and alternating cubes.\n",
      "\n",
      "This"
     ]
    },
    {
     "name": "stdout",
     "output_type": "stream",
     "text": [
      " algorithm is robust and generalizable, with the differences between"
     ]
    },
    {
     "name": "stdout",
     "output_type": "stream",
     "text": [
      " consecutive cubes and alternating cubes.\n",
      "\n",
      "By carefully following"
     ]
    },
    {
     "name": "stdout",
     "output_type": "stream",
     "text": [
      " this algorithm, we can refine our answer to the required"
     ]
    },
    {
     "name": "stdout",
     "output_type": "stream",
     "text": [
      " differences, taking into account the differences between consecutive cubes and"
     ]
    },
    {
     "name": "stdout",
     "output_type": "stream",
     "text": [
      " alternating cubes.<|im_end|>\\n<|im_start|>assistant\\nBoth"
     ]
    },
    {
     "name": "stdout",
     "output_type": "stream",
     "text": [
      " of three consecutive cubes cannot be divisible by 5 con"
     ]
    },
    {
     "name": "stdout",
     "output_type": "stream",
     "text": [
      "gruences, and receives a more single digit. The"
     ]
    },
    {
     "name": "stdout",
     "output_type": "stream",
     "text": [
      " differences between consecutive cubes behave correspond to the differences"
     ]
    },
    {
     "name": "stdout",
     "output_type": "stream",
     "text": [
      " between $\\sqrt{2R^2"
     ]
    },
    {
     "name": "stdout",
     "output_type": "stream",
     "text": [
      "}$ (3,3)$)"
     ]
    },
    {
     "name": "stdout",
     "output_type": "stream",
     "text": [
      " and alternating cubes are small and multiplications"
     ]
    },
    {
     "name": "stdout",
     "output_type": "stream",
     "text": [
      " (n/4 two squares and form ending"
     ]
    },
    {
     "name": "stdout",
     "output_type": "stream",
     "text": [
      " results with two consecutive cubes:n(n"
     ]
    },
    {
     "name": "stdout",
     "output_type": "stream",
     "text": [
      "/4)^2 and perfect cubes."
     ]
    },
    {
     "name": "stdout",
     "output_type": "stream",
     "text": [
      "\n",
      "\n",
      "In this context, one consecutive cubes"
     ]
    },
    {
     "name": "stdout",
     "output_type": "stream",
     "text": [
      " cannot be divisible by 9 without having a"
     ]
    },
    {
     "name": "stdout",
     "output_type": "stream",
     "text": [
      " single digit. Only two consecutive cubes has"
     ]
    },
    {
     "name": "stdout",
     "output_type": "stream",
     "text": [
      " a difference between consecutive cubes, not a"
     ]
    },
    {
     "name": "stdout",
     "output_type": "stream",
     "text": [
      " difference between consecutive cubes formed in these two"
     ]
    },
    {
     "name": "stdout",
     "output_type": "stream",
     "text": [
      " squares, which is n(n("
     ]
    },
    {
     "name": "stdout",
     "output_type": "stream",
     "text": [
      "n/4 n planes)/2)"
     ]
    },
    {
     "name": "stdout",
     "output_type": "stream",
     "text": [
      " + (3^2 \\cdot"
     ]
    },
    {
     "name": "stdout",
     "output_type": "stream",
     "text": [
      " 1) = n(n^2"
     ]
    },
    {
     "name": "stdout",
     "output_type": "stream",
     "text": [
      " + n-1) - n("
     ]
    },
    {
     "name": "stdout",
     "output_type": "stream",
     "text": [
      "n/4 two squares but less than"
     ]
    },
    {
     "name": "stdout",
     "output_type": "stream",
     "text": [
      " n < n - n - n +"
     ]
    },
    {
     "name": "stdout",
     "output_type": "stream",
     "text": [
      " n - n - n + n"
     ]
    },
    {
     "name": "stdout",
     "output_type": "stream",
     "text": [
      " - n + n - n +"
     ]
    },
    {
     "name": "stdout",
     "output_type": "stream",
     "text": [
      " n - n - n + n"
     ]
    },
    {
     "name": "stdout",
     "output_type": "stream",
     "text": [
      " - n + n - n +"
     ]
    },
    {
     "name": "stdout",
     "output_type": "stream",
     "text": [
      " n + n - n + n"
     ]
    },
    {
     "name": "stdout",
     "output_type": "stream",
     "text": [
      " + n - n + n)"
     ]
    },
    {
     "name": "stdout",
     "output_type": "stream",
     "text": [
      " n + n - n + n"
     ]
    },
    {
     "name": "stdout",
     "output_type": "stream",
     "text": [
      " + n + n - n +"
     ]
    },
    {
     "name": "stdout",
     "output_type": "stream",
     "text": [
      " n - n + n + n"
     ]
    },
    {
     "name": "stdout",
     "output_type": "stream",
     "text": [
      " - n + n - n +"
     ]
    },
    {
     "name": "stdout",
     "output_type": "stream",
     "text": [
      " n - n + n - n"
     ]
    },
    {
     "name": "stdout",
     "output_type": "stream",
     "text": [
      " + n - n + n +"
     ]
    },
    {
     "name": "stdout",
     "output_type": "stream",
     "text": [
      " n - n + n + n"
     ]
    },
    {
     "name": "stdout",
     "output_type": "stream",
     "text": [
      " - n + n - n +"
     ]
    },
    {
     "name": "stdout",
     "output_type": "stream",
     "text": [
      " n + n + n + n -"
     ]
    },
    {
     "name": "stdout",
     "output_type": "stream",
     "text": [
      " n + n - n + n"
     ]
    },
    {
     "name": "stdout",
     "output_type": "stream",
     "text": [
      " - n + n - n + n"
     ]
    },
    {
     "name": "stdout",
     "output_type": "stream",
     "text": [
      " - n + n + n -"
     ]
    },
    {
     "name": "stdout",
     "output_type": "stream",
     "text": [
      " n + n + n - n"
     ]
    },
    {
     "name": "stdout",
     "output_type": "stream",
     "text": [
      " + n - n + n - n"
     ]
    },
    {
     "name": "stdout",
     "output_type": "stream",
     "text": [
      "EPOCH: 12 / 40\n"
     ]
    },
    {
     "name": "stdout",
     "output_type": "stream",
     "text": [
      "TRAIN Batch 0 => Loss: 0.80841\n"
     ]
    },
    {
     "name": "stdout",
     "output_type": "stream",
     "text": [
      "TRAIN Batch 48 => Loss: 1.08866\n"
     ]
    },
    {
     "name": "stdout",
     "output_type": "stream",
     "text": [
      "TRAIN Batch 96 => Loss: 1.1753\n"
     ]
    },
    {
     "name": "stdout",
     "output_type": "stream",
     "text": [
      "TRAIN Batch 144 => Loss: 1.02446\n"
     ]
    },
    {
     "name": "stdout",
     "output_type": "stream",
     "text": [
      "TRAIN Batch 192 => Loss: 0.92601\n"
     ]
    },
    {
     "name": "stdout",
     "output_type": "stream",
     "text": [
      "TRAIN Batch 240 => Loss: 1.18781\n"
     ]
    },
    {
     "name": "stdout",
     "output_type": "stream",
     "text": [
      "TRAIN Batch 288 => Loss: 1.05083\n"
     ]
    },
    {
     "name": "stdout",
     "output_type": "stream",
     "text": [
      "TRAIN Batch 336 => Loss: 0.87598\n"
     ]
    },
    {
     "name": "stdout",
     "output_type": "stream",
     "text": [
      "TRAIN Batch 384 => Loss: 0.92589\n"
     ]
    },
    {
     "name": "stdout",
     "output_type": "stream",
     "text": [
      "TRAIN Batch 432 => Loss: 0.72527\n"
     ]
    },
    {
     "name": "stdout",
     "output_type": "stream",
     "text": [
      "TRAIN Batch 480 => Loss: 0.88607\n"
     ]
    },
    {
     "name": "stdout",
     "output_type": "stream",
     "text": [
      "TRAIN Batch 528 => Loss: 0.82664\n"
     ]
    },
    {
     "name": "stdout",
     "output_type": "stream",
     "text": [
      "TRAIN Batch 576 => Loss: 0.91551\n"
     ]
    },
    {
     "name": "stdout",
     "output_type": "stream",
     "text": [
      "TRAIN Batch 624 => Loss: 1.07259\n"
     ]
    },
    {
     "name": "stdout",
     "output_type": "stream",
     "text": [
      "TRAIN Batch 672 => Loss: 0.883\n"
     ]
    },
    {
     "name": "stdout",
     "output_type": "stream",
     "text": [
      "TRAIN Batch 720 => Loss: 1.13816\n"
     ]
    },
    {
     "name": "stdout",
     "output_type": "stream",
     "text": [
      "TRAIN Batch 768 => Loss: 0.99122\n"
     ]
    },
    {
     "name": "stdout",
     "output_type": "stream",
     "text": [
      "TRAIN Batch 816 => Loss: 1.15661\n"
     ]
    },
    {
     "name": "stdout",
     "output_type": "stream",
     "text": [
      "TRAIN Batch 864 => Loss: 1.04485\n"
     ]
    },
    {
     "name": "stdout",
     "output_type": "stream",
     "text": [
      "TRAIN Batch 912 => Loss: 1.10179\n"
     ]
    },
    {
     "name": "stdout",
     "output_type": "stream",
     "text": [
      "TRAIN Batch 960 => Loss: 1.10534\n"
     ]
    },
    {
     "name": "stdout",
     "output_type": "stream",
     "text": [
      "TRAIN Batch 1008 => Loss: 1.04934\n"
     ]
    },
    {
     "name": "stdout",
     "output_type": "stream",
     "text": [
      "TRAIN Batch 1056 => Loss: 1.11899\n"
     ]
    },
    {
     "name": "stdout",
     "output_type": "stream",
     "text": [
      "TRAIN Batch 1104 => Loss: 0.83352\n"
     ]
    },
    {
     "name": "stdout",
     "output_type": "stream",
     "text": [
      "TRAIN Batch 1152 => Loss: 0.96945\n"
     ]
    },
    {
     "name": "stdout",
     "output_type": "stream",
     "text": [
      "TRAIN Batch 1200 => Loss: 1.02242\n"
     ]
    },
    {
     "name": "stdout",
     "output_type": "stream",
     "text": [
      "TRAIN Batch 1248 => Loss: 0.87457\n"
     ]
    },
    {
     "name": "stdout",
     "output_type": "stream",
     "text": [
      "TRAIN Batch 1296 => Loss: 0.85998\n"
     ]
    },
    {
     "name": "stdout",
     "output_type": "stream",
     "text": [
      "TRAIN Batch 1344 => Loss: 1.01033\n"
     ]
    },
    {
     "name": "stdout",
     "output_type": "stream",
     "text": [
      "TRAIN Batch 1392 => Loss: 0.98458\n"
     ]
    },
    {
     "name": "stdout",
     "output_type": "stream",
     "text": [
      "TRAIN Batch 1440 => Loss: 1.22996\n"
     ]
    },
    {
     "name": "stdout",
     "output_type": "stream",
     "text": [
      "TRAIN Batch 1488 => Loss: 0.9739\n"
     ]
    },
    {
     "name": "stdout",
     "output_type": "stream",
     "text": [
      "TRAIN Batch 1536 => Loss: 1.02598\n"
     ]
    },
    {
     "name": "stdout",
     "output_type": "stream",
     "text": [
      "TRAIN Batch 1584 => Loss: 0.95863\n"
     ]
    },
    {
     "name": "stdout",
     "output_type": "stream",
     "text": [
      "TRAIN Batch 1632 => Loss: 0.84365\n"
     ]
    },
    {
     "name": "stdout",
     "output_type": "stream",
     "text": [
      "TRAIN Batch 1680 => Loss: 0.94957\n"
     ]
    },
    {
     "name": "stdout",
     "output_type": "stream",
     "text": [
      "TRAIN Batch 1728 => Loss: 1.15897\n"
     ]
    },
    {
     "name": "stdout",
     "output_type": "stream",
     "text": [
      "TRAIN Batch 1776 => Loss: 1.15969\n"
     ]
    },
    {
     "name": "stdout",
     "output_type": "stream",
     "text": [
      "TRAIN Batch 1824 => Loss: 0.94773\n"
     ]
    },
    {
     "name": "stdout",
     "output_type": "stream",
     "text": [
      "TRAIN Batch 1872 => Loss: 1.01666\n"
     ]
    },
    {
     "name": "stdout",
     "output_type": "stream",
     "text": [
      "TRAIN Batch 1920 => Loss: 1.1049\n"
     ]
    },
    {
     "name": "stdout",
     "output_type": "stream",
     "text": [
      "TRAIN Batch 1968 => Loss: 1.25376\n"
     ]
    },
    {
     "name": "stdout",
     "output_type": "stream",
     "text": [
      "TRAIN Batch 2016 => Loss: 0.96507\n"
     ]
    },
    {
     "name": "stdout",
     "output_type": "stream",
     "text": [
      "TRAIN Batch 2064 => Loss: 1.29829\n"
     ]
    },
    {
     "name": "stdout",
     "output_type": "stream",
     "text": [
      "TRAIN Batch 2112 => Loss: 1.06328\n"
     ]
    },
    {
     "name": "stdout",
     "output_type": "stream",
     "text": [
      "TRAIN Batch 2160 => Loss: 0.80586\n"
     ]
    },
    {
     "name": "stdout",
     "output_type": "stream",
     "text": [
      "TRAIN Batch 2208 => Loss: 0.97821\n"
     ]
    },
    {
     "name": "stdout",
     "output_type": "stream",
     "text": [
      "EVAL Batch 0 => Loss: 1.02243\n"
     ]
    },
    {
     "name": "stdout",
     "output_type": "stream",
     "text": [
      "EVAL Batch 50 => Loss: 1.03752\n"
     ]
    },
    {
     "name": "stdout",
     "output_type": "stream",
     "text": [
      "EVAL Batch 100 => Loss: 1.56382\n"
     ]
    },
    {
     "name": "stdout",
     "output_type": "stream",
     "text": [
      "EVAL Batch 150 => Loss: 1.21872\n"
     ]
    },
    {
     "name": "stdout",
     "output_type": "stream",
     "text": [
      "EVAL Batch 200 => Loss: 1.33408\n"
     ]
    },
    {
     "name": "stdout",
     "output_type": "stream",
     "text": [
      "EPOCH: 13 / 40\n"
     ]
    },
    {
     "name": "stdout",
     "output_type": "stream",
     "text": [
      "TRAIN Batch 0 => Loss: 0.93627\n"
     ]
    },
    {
     "name": "stdout",
     "output_type": "stream",
     "text": [
      "TRAIN Batch 48 => Loss: 0.84187\n"
     ]
    },
    {
     "name": "stdout",
     "output_type": "stream",
     "text": [
      "TRAIN Batch 96 => Loss: 1.17779\n"
     ]
    },
    {
     "name": "stdout",
     "output_type": "stream",
     "text": [
      "TRAIN Batch 144 => Loss: 0.78432\n"
     ]
    },
    {
     "name": "stdout",
     "output_type": "stream",
     "text": [
      "TRAIN Batch 192 => Loss: 0.9555\n"
     ]
    },
    {
     "name": "stdout",
     "output_type": "stream",
     "text": [
      "TRAIN Batch 240 => Loss: 0.76051\n"
     ]
    },
    {
     "name": "stdout",
     "output_type": "stream",
     "text": [
      "TRAIN Batch 288 => Loss: 1.13147\n"
     ]
    },
    {
     "name": "stdout",
     "output_type": "stream",
     "text": [
      "TRAIN Batch 336 => Loss: 0.92299\n"
     ]
    },
    {
     "name": "stdout",
     "output_type": "stream",
     "text": [
      "TRAIN Batch 384 => Loss: 1.00987\n"
     ]
    },
    {
     "name": "stdout",
     "output_type": "stream",
     "text": [
      "TRAIN Batch 432 => Loss: 0.78522\n"
     ]
    },
    {
     "name": "stdout",
     "output_type": "stream",
     "text": [
      "TRAIN Batch 480 => Loss: 0.8941\n"
     ]
    },
    {
     "name": "stdout",
     "output_type": "stream",
     "text": [
      "TRAIN Batch 528 => Loss: 0.84463\n"
     ]
    },
    {
     "name": "stdout",
     "output_type": "stream",
     "text": [
      "TRAIN Batch 576 => Loss: 0.84985\n"
     ]
    },
    {
     "name": "stdout",
     "output_type": "stream",
     "text": [
      "TRAIN Batch 624 => Loss: 1.02238\n"
     ]
    },
    {
     "name": "stdout",
     "output_type": "stream",
     "text": [
      "TRAIN Batch 672 => Loss: 0.83564\n"
     ]
    },
    {
     "name": "stdout",
     "output_type": "stream",
     "text": [
      "TRAIN Batch 720 => Loss: 0.92615\n"
     ]
    },
    {
     "name": "stdout",
     "output_type": "stream",
     "text": [
      "TRAIN Batch 768 => Loss: 0.93897\n"
     ]
    },
    {
     "name": "stdout",
     "output_type": "stream",
     "text": [
      "TRAIN Batch 816 => Loss: 1.11768\n"
     ]
    },
    {
     "name": "stdout",
     "output_type": "stream",
     "text": [
      "TRAIN Batch 864 => Loss: 0.83327\n"
     ]
    },
    {
     "name": "stdout",
     "output_type": "stream",
     "text": [
      "TRAIN Batch 912 => Loss: 0.66108\n"
     ]
    },
    {
     "name": "stdout",
     "output_type": "stream",
     "text": [
      "TRAIN Batch 960 => Loss: 1.25471\n"
     ]
    },
    {
     "name": "stdout",
     "output_type": "stream",
     "text": [
      "TRAIN Batch 1008 => Loss: 0.89803\n"
     ]
    },
    {
     "name": "stdout",
     "output_type": "stream",
     "text": [
      "TRAIN Batch 1056 => Loss: 1.02182\n"
     ]
    },
    {
     "name": "stdout",
     "output_type": "stream",
     "text": [
      "TRAIN Batch 1104 => Loss: 0.87218\n"
     ]
    },
    {
     "name": "stdout",
     "output_type": "stream",
     "text": [
      "TRAIN Batch 1152 => Loss: 0.7676\n"
     ]
    },
    {
     "name": "stdout",
     "output_type": "stream",
     "text": [
      "TRAIN Batch 1200 => Loss: 0.76214\n"
     ]
    },
    {
     "name": "stdout",
     "output_type": "stream",
     "text": [
      "TRAIN Batch 1248 => Loss: 0.9912\n"
     ]
    },
    {
     "name": "stdout",
     "output_type": "stream",
     "text": [
      "TRAIN Batch 1296 => Loss: 0.97376\n"
     ]
    },
    {
     "name": "stdout",
     "output_type": "stream",
     "text": [
      "TRAIN Batch 1344 => Loss: 0.92856\n"
     ]
    },
    {
     "name": "stdout",
     "output_type": "stream",
     "text": [
      "TRAIN Batch 1392 => Loss: 0.93962\n"
     ]
    },
    {
     "name": "stdout",
     "output_type": "stream",
     "text": [
      "TRAIN Batch 1440 => Loss: 1.07719\n"
     ]
    },
    {
     "name": "stdout",
     "output_type": "stream",
     "text": [
      "TRAIN Batch 1488 => Loss: 0.86172\n"
     ]
    },
    {
     "name": "stdout",
     "output_type": "stream",
     "text": [
      "TRAIN Batch 1536 => Loss: 0.90937\n"
     ]
    },
    {
     "name": "stdout",
     "output_type": "stream",
     "text": [
      "TRAIN Batch 1584 => Loss: 1.21082\n"
     ]
    },
    {
     "name": "stdout",
     "output_type": "stream",
     "text": [
      "TRAIN Batch 1632 => Loss: 1.02831\n"
     ]
    },
    {
     "name": "stdout",
     "output_type": "stream",
     "text": [
      "TRAIN Batch 1680 => Loss: 0.98907\n"
     ]
    },
    {
     "name": "stdout",
     "output_type": "stream",
     "text": [
      "TRAIN Batch 1728 => Loss: 0.93923\n"
     ]
    },
    {
     "name": "stdout",
     "output_type": "stream",
     "text": [
      "TRAIN Batch 1776 => Loss: 0.99541\n"
     ]
    },
    {
     "name": "stdout",
     "output_type": "stream",
     "text": [
      "TRAIN Batch 1824 => Loss: 0.91797\n"
     ]
    },
    {
     "name": "stdout",
     "output_type": "stream",
     "text": [
      "TRAIN Batch 1872 => Loss: 0.97758\n"
     ]
    },
    {
     "name": "stdout",
     "output_type": "stream",
     "text": [
      "TRAIN Batch 1920 => Loss: 0.8851\n"
     ]
    },
    {
     "name": "stdout",
     "output_type": "stream",
     "text": [
      "TRAIN Batch 1968 => Loss: 0.99837\n"
     ]
    },
    {
     "name": "stdout",
     "output_type": "stream",
     "text": [
      "TRAIN Batch 2016 => Loss: 0.955\n"
     ]
    },
    {
     "name": "stdout",
     "output_type": "stream",
     "text": [
      "TRAIN Batch 2064 => Loss: 0.93967\n"
     ]
    },
    {
     "name": "stdout",
     "output_type": "stream",
     "text": [
      "TRAIN Batch 2112 => Loss: 1.03688\n"
     ]
    },
    {
     "name": "stdout",
     "output_type": "stream",
     "text": [
      "TRAIN Batch 2160 => Loss: 0.95333\n"
     ]
    },
    {
     "name": "stdout",
     "output_type": "stream",
     "text": [
      "TRAIN Batch 2208 => Loss: 0.89597\n"
     ]
    },
    {
     "name": "stdout",
     "output_type": "stream",
     "text": [
      "EVAL Batch 0 => Loss: 1.00013\n"
     ]
    },
    {
     "name": "stdout",
     "output_type": "stream",
     "text": [
      "EVAL Batch 50 => Loss: 2.00911\n"
     ]
    },
    {
     "name": "stdout",
     "output_type": "stream",
     "text": [
      "EVAL Batch 100 => Loss: 1.17033\n"
     ]
    },
    {
     "name": "stdout",
     "output_type": "stream",
     "text": [
      "EVAL Batch 150 => Loss: 1.72453\n"
     ]
    },
    {
     "name": "stdout",
     "output_type": "stream",
     "text": [
      "EVAL Batch 200 => Loss: 1.54677\n"
     ]
    },
    {
     "name": "stdout",
     "output_type": "stream",
     "text": [
      "EPOCH: 14 / 40\n"
     ]
    },
    {
     "name": "stdout",
     "output_type": "stream",
     "text": [
      "TRAIN Batch 0 => Loss: 1.14342\n"
     ]
    },
    {
     "name": "stdout",
     "output_type": "stream",
     "text": [
      "TRAIN Batch 48 => Loss: 0.68745\n"
     ]
    },
    {
     "name": "stdout",
     "output_type": "stream",
     "text": [
      "TRAIN Batch 96 => Loss: 0.82837\n"
     ]
    },
    {
     "name": "stdout",
     "output_type": "stream",
     "text": [
      "TRAIN Batch 144 => Loss: 0.80555\n"
     ]
    },
    {
     "name": "stdout",
     "output_type": "stream",
     "text": [
      "TRAIN Batch 192 => Loss: 0.82863\n"
     ]
    },
    {
     "name": "stdout",
     "output_type": "stream",
     "text": [
      "TRAIN Batch 240 => Loss: 1.05059\n"
     ]
    },
    {
     "name": "stdout",
     "output_type": "stream",
     "text": [
      "TRAIN Batch 288 => Loss: 0.78199\n"
     ]
    },
    {
     "name": "stdout",
     "output_type": "stream",
     "text": [
      "TRAIN Batch 336 => Loss: 1.08859\n"
     ]
    },
    {
     "name": "stdout",
     "output_type": "stream",
     "text": [
      "TRAIN Batch 384 => Loss: 0.9402\n"
     ]
    },
    {
     "name": "stdout",
     "output_type": "stream",
     "text": [
      "TRAIN Batch 432 => Loss: 0.85717\n"
     ]
    },
    {
     "name": "stdout",
     "output_type": "stream",
     "text": [
      "TRAIN Batch 480 => Loss: 0.74972\n"
     ]
    },
    {
     "name": "stdout",
     "output_type": "stream",
     "text": [
      "TRAIN Batch 528 => Loss: 0.71959\n"
     ]
    },
    {
     "name": "stdout",
     "output_type": "stream",
     "text": [
      "TRAIN Batch 576 => Loss: 0.85888\n"
     ]
    },
    {
     "name": "stdout",
     "output_type": "stream",
     "text": [
      "TRAIN Batch 624 => Loss: 0.81094\n"
     ]
    },
    {
     "name": "stdout",
     "output_type": "stream",
     "text": [
      "TRAIN Batch 672 => Loss: 1.10673\n"
     ]
    },
    {
     "name": "stdout",
     "output_type": "stream",
     "text": [
      "TRAIN Batch 720 => Loss: 0.84393\n"
     ]
    },
    {
     "name": "stdout",
     "output_type": "stream",
     "text": [
      "TRAIN Batch 768 => Loss: 0.8054\n"
     ]
    },
    {
     "name": "stdout",
     "output_type": "stream",
     "text": [
      "TRAIN Batch 816 => Loss: 0.82955\n"
     ]
    },
    {
     "name": "stdout",
     "output_type": "stream",
     "text": [
      "TRAIN Batch 864 => Loss: 0.81738\n"
     ]
    },
    {
     "name": "stdout",
     "output_type": "stream",
     "text": [
      "TRAIN Batch 912 => Loss: 0.9145\n"
     ]
    },
    {
     "name": "stdout",
     "output_type": "stream",
     "text": [
      "TRAIN Batch 960 => Loss: 0.7933\n"
     ]
    },
    {
     "name": "stdout",
     "output_type": "stream",
     "text": [
      "TRAIN Batch 1008 => Loss: 1.04161\n"
     ]
    },
    {
     "name": "stdout",
     "output_type": "stream",
     "text": [
      "TRAIN Batch 1056 => Loss: 0.94886\n"
     ]
    },
    {
     "name": "stdout",
     "output_type": "stream",
     "text": [
      "TRAIN Batch 1104 => Loss: 0.79991\n"
     ]
    },
    {
     "name": "stdout",
     "output_type": "stream",
     "text": [
      "TRAIN Batch 1152 => Loss: 1.05057\n"
     ]
    },
    {
     "name": "stdout",
     "output_type": "stream",
     "text": [
      "TRAIN Batch 1200 => Loss: 0.88601\n"
     ]
    },
    {
     "name": "stdout",
     "output_type": "stream",
     "text": [
      "TRAIN Batch 1248 => Loss: 0.81762\n"
     ]
    },
    {
     "name": "stdout",
     "output_type": "stream",
     "text": [
      "TRAIN Batch 1296 => Loss: 1.20553\n"
     ]
    },
    {
     "name": "stdout",
     "output_type": "stream",
     "text": [
      "TRAIN Batch 1344 => Loss: 0.80782\n"
     ]
    },
    {
     "name": "stdout",
     "output_type": "stream",
     "text": [
      "TRAIN Batch 1392 => Loss: 0.76716\n"
     ]
    },
    {
     "name": "stdout",
     "output_type": "stream",
     "text": [
      "TRAIN Batch 1440 => Loss: 0.9918\n"
     ]
    },
    {
     "name": "stdout",
     "output_type": "stream",
     "text": [
      "TRAIN Batch 1488 => Loss: 0.85087\n"
     ]
    },
    {
     "name": "stdout",
     "output_type": "stream",
     "text": [
      "TRAIN Batch 1536 => Loss: 0.9419\n"
     ]
    },
    {
     "name": "stdout",
     "output_type": "stream",
     "text": [
      "TRAIN Batch 1584 => Loss: 0.72397\n"
     ]
    },
    {
     "name": "stdout",
     "output_type": "stream",
     "text": [
      "TRAIN Batch 1632 => Loss: 0.84178\n"
     ]
    },
    {
     "name": "stdout",
     "output_type": "stream",
     "text": [
      "TRAIN Batch 1680 => Loss: 0.82111\n"
     ]
    },
    {
     "name": "stdout",
     "output_type": "stream",
     "text": [
      "TRAIN Batch 1728 => Loss: 1.18061\n"
     ]
    },
    {
     "name": "stdout",
     "output_type": "stream",
     "text": [
      "TRAIN Batch 1776 => Loss: 0.9336\n"
     ]
    },
    {
     "name": "stdout",
     "output_type": "stream",
     "text": [
      "TRAIN Batch 1824 => Loss: 0.72508\n"
     ]
    },
    {
     "name": "stdout",
     "output_type": "stream",
     "text": [
      "TRAIN Batch 1872 => Loss: 0.95234\n"
     ]
    },
    {
     "name": "stdout",
     "output_type": "stream",
     "text": [
      "TRAIN Batch 1920 => Loss: 0.82067\n"
     ]
    },
    {
     "name": "stdout",
     "output_type": "stream",
     "text": [
      "TRAIN Batch 1968 => Loss: 0.92184\n"
     ]
    },
    {
     "name": "stdout",
     "output_type": "stream",
     "text": [
      "TRAIN Batch 2016 => Loss: 1.01678\n"
     ]
    },
    {
     "name": "stdout",
     "output_type": "stream",
     "text": [
      "TRAIN Batch 2064 => Loss: 1.02454\n"
     ]
    },
    {
     "name": "stdout",
     "output_type": "stream",
     "text": [
      "TRAIN Batch 2112 => Loss: 1.04277\n"
     ]
    },
    {
     "name": "stdout",
     "output_type": "stream",
     "text": [
      "TRAIN Batch 2160 => Loss: 0.77797\n"
     ]
    },
    {
     "name": "stdout",
     "output_type": "stream",
     "text": [
      "TRAIN Batch 2208 => Loss: 0.76161\n"
     ]
    },
    {
     "name": "stdout",
     "output_type": "stream",
     "text": [
      "EVAL Batch 0 => Loss: 1.35781\n"
     ]
    },
    {
     "name": "stdout",
     "output_type": "stream",
     "text": [
      "EVAL Batch 50 => Loss: 1.38547\n"
     ]
    },
    {
     "name": "stdout",
     "output_type": "stream",
     "text": [
      "EVAL Batch 100 => Loss: 1.59515\n"
     ]
    },
    {
     "name": "stdout",
     "output_type": "stream",
     "text": [
      "EVAL Batch 150 => Loss: 1.29233\n"
     ]
    },
    {
     "name": "stdout",
     "output_type": "stream",
     "text": [
      "EVAL Batch 200 => Loss: 1.77465\n"
     ]
    },
    {
     "name": "stdout",
     "output_type": "stream",
     "text": [
      "EPOCH: 15 / 40\n"
     ]
    },
    {
     "name": "stdout",
     "output_type": "stream",
     "text": [
      "TRAIN Batch 0 => Loss: 0.94121\n"
     ]
    },
    {
     "name": "stdout",
     "output_type": "stream",
     "text": [
      "TRAIN Batch 48 => Loss: 0.83156\n"
     ]
    },
    {
     "name": "stdout",
     "output_type": "stream",
     "text": [
      "TRAIN Batch 96 => Loss: 0.71679\n"
     ]
    },
    {
     "name": "stdout",
     "output_type": "stream",
     "text": [
      "TRAIN Batch 144 => Loss: 0.74591\n"
     ]
    },
    {
     "name": "stdout",
     "output_type": "stream",
     "text": [
      "TRAIN Batch 192 => Loss: 0.79035\n"
     ]
    },
    {
     "name": "stdout",
     "output_type": "stream",
     "text": [
      "TRAIN Batch 240 => Loss: 0.55226\n"
     ]
    },
    {
     "name": "stdout",
     "output_type": "stream",
     "text": [
      "TRAIN Batch 288 => Loss: 0.81317\n"
     ]
    },
    {
     "name": "stdout",
     "output_type": "stream",
     "text": [
      "TRAIN Batch 336 => Loss: 0.95962\n"
     ]
    },
    {
     "name": "stdout",
     "output_type": "stream",
     "text": [
      "TRAIN Batch 384 => Loss: 1.04093\n"
     ]
    },
    {
     "name": "stdout",
     "output_type": "stream",
     "text": [
      "TRAIN Batch 432 => Loss: 0.83298\n"
     ]
    },
    {
     "name": "stdout",
     "output_type": "stream",
     "text": [
      "TRAIN Batch 480 => Loss: 0.70565\n"
     ]
    },
    {
     "name": "stdout",
     "output_type": "stream",
     "text": [
      "TRAIN Batch 528 => Loss: 0.77715\n"
     ]
    },
    {
     "name": "stdout",
     "output_type": "stream",
     "text": [
      "TRAIN Batch 576 => Loss: 0.73574\n"
     ]
    },
    {
     "name": "stdout",
     "output_type": "stream",
     "text": [
      "TRAIN Batch 624 => Loss: 0.80108\n"
     ]
    },
    {
     "name": "stdout",
     "output_type": "stream",
     "text": [
      "TRAIN Batch 672 => Loss: 0.61421\n"
     ]
    },
    {
     "name": "stdout",
     "output_type": "stream",
     "text": [
      "TRAIN Batch 720 => Loss: 0.69804\n"
     ]
    },
    {
     "name": "stdout",
     "output_type": "stream",
     "text": [
      "TRAIN Batch 768 => Loss: 0.79275\n"
     ]
    },
    {
     "name": "stdout",
     "output_type": "stream",
     "text": [
      "TRAIN Batch 816 => Loss: 0.61391\n"
     ]
    },
    {
     "name": "stdout",
     "output_type": "stream",
     "text": [
      "TRAIN Batch 864 => Loss: 0.81472\n"
     ]
    },
    {
     "name": "stdout",
     "output_type": "stream",
     "text": [
      "TRAIN Batch 912 => Loss: 0.69524\n"
     ]
    },
    {
     "name": "stdout",
     "output_type": "stream",
     "text": [
      "TRAIN Batch 960 => Loss: 0.75669\n"
     ]
    },
    {
     "name": "stdout",
     "output_type": "stream",
     "text": [
      "TRAIN Batch 1008 => Loss: 0.86362\n"
     ]
    },
    {
     "name": "stdout",
     "output_type": "stream",
     "text": [
      "TRAIN Batch 1056 => Loss: 0.89131\n"
     ]
    },
    {
     "name": "stdout",
     "output_type": "stream",
     "text": [
      "TRAIN Batch 1104 => Loss: 0.776\n"
     ]
    },
    {
     "name": "stdout",
     "output_type": "stream",
     "text": [
      "TRAIN Batch 1152 => Loss: 0.74062\n"
     ]
    },
    {
     "name": "stdout",
     "output_type": "stream",
     "text": [
      "TRAIN Batch 1200 => Loss: 0.90167\n"
     ]
    },
    {
     "name": "stdout",
     "output_type": "stream",
     "text": [
      "TRAIN Batch 1248 => Loss: 0.73789\n"
     ]
    },
    {
     "name": "stdout",
     "output_type": "stream",
     "text": [
      "TRAIN Batch 1296 => Loss: 0.79083\n"
     ]
    },
    {
     "name": "stdout",
     "output_type": "stream",
     "text": [
      "TRAIN Batch 1344 => Loss: 0.70251\n"
     ]
    },
    {
     "name": "stdout",
     "output_type": "stream",
     "text": [
      "TRAIN Batch 1392 => Loss: 0.77019\n"
     ]
    },
    {
     "name": "stdout",
     "output_type": "stream",
     "text": [
      "TRAIN Batch 1440 => Loss: 0.79465\n"
     ]
    },
    {
     "name": "stdout",
     "output_type": "stream",
     "text": [
      "TRAIN Batch 1488 => Loss: 0.97218\n"
     ]
    },
    {
     "name": "stdout",
     "output_type": "stream",
     "text": [
      "TRAIN Batch 1536 => Loss: 0.62596\n"
     ]
    },
    {
     "name": "stdout",
     "output_type": "stream",
     "text": [
      "TRAIN Batch 1584 => Loss: 1.07633\n"
     ]
    },
    {
     "name": "stdout",
     "output_type": "stream",
     "text": [
      "TRAIN Batch 1632 => Loss: 0.85089\n"
     ]
    },
    {
     "name": "stdout",
     "output_type": "stream",
     "text": [
      "TRAIN Batch 1680 => Loss: 0.7925\n"
     ]
    },
    {
     "name": "stdout",
     "output_type": "stream",
     "text": [
      "TRAIN Batch 1728 => Loss: 0.87691\n"
     ]
    },
    {
     "name": "stdout",
     "output_type": "stream",
     "text": [
      "TRAIN Batch 1776 => Loss: 0.84495\n"
     ]
    },
    {
     "name": "stdout",
     "output_type": "stream",
     "text": [
      "TRAIN Batch 1824 => Loss: 0.99084\n"
     ]
    },
    {
     "name": "stdout",
     "output_type": "stream",
     "text": [
      "TRAIN Batch 1872 => Loss: 0.78989\n"
     ]
    },
    {
     "name": "stdout",
     "output_type": "stream",
     "text": [
      "TRAIN Batch 1920 => Loss: 0.86879\n"
     ]
    },
    {
     "name": "stdout",
     "output_type": "stream",
     "text": [
      "TRAIN Batch 1968 => Loss: 0.93436\n"
     ]
    },
    {
     "name": "stdout",
     "output_type": "stream",
     "text": [
      "TRAIN Batch 2016 => Loss: 0.74696\n"
     ]
    },
    {
     "name": "stdout",
     "output_type": "stream",
     "text": [
      "TRAIN Batch 2064 => Loss: 0.81512\n"
     ]
    },
    {
     "name": "stdout",
     "output_type": "stream",
     "text": [
      "TRAIN Batch 2112 => Loss: 0.92243\n"
     ]
    },
    {
     "name": "stdout",
     "output_type": "stream",
     "text": [
      "TRAIN Batch 2160 => Loss: 0.68201\n"
     ]
    },
    {
     "name": "stdout",
     "output_type": "stream",
     "text": [
      "TRAIN Batch 2208 => Loss: 1.07251\n"
     ]
    },
    {
     "name": "stdout",
     "output_type": "stream",
     "text": [
      "EVAL Batch 0 => Loss: 1.23439\n"
     ]
    },
    {
     "name": "stdout",
     "output_type": "stream",
     "text": [
      "EVAL Batch 50 => Loss: 1.19203\n"
     ]
    },
    {
     "name": "stdout",
     "output_type": "stream",
     "text": [
      "EVAL Batch 100 => Loss: 1.113\n"
     ]
    },
    {
     "name": "stdout",
     "output_type": "stream",
     "text": [
      "EVAL Batch 150 => Loss: 1.48401\n"
     ]
    },
    {
     "name": "stdout",
     "output_type": "stream",
     "text": [
      "EVAL Batch 200 => Loss: 1.46073\n"
     ]
    },
    {
     "name": "stdout",
     "output_type": "stream",
     "text": [
      "EPOCH: 16 / 40\n"
     ]
    },
    {
     "name": "stdout",
     "output_type": "stream",
     "text": [
      "TRAIN Batch 0 => Loss: 0.62468\n"
     ]
    },
    {
     "name": "stdout",
     "output_type": "stream",
     "text": [
      "TRAIN Batch 48 => Loss: 0.72349\n"
     ]
    },
    {
     "name": "stdout",
     "output_type": "stream",
     "text": [
      "TRAIN Batch 96 => Loss: 0.63966\n"
     ]
    },
    {
     "name": "stdout",
     "output_type": "stream",
     "text": [
      "TRAIN Batch 144 => Loss: 0.9552\n"
     ]
    },
    {
     "name": "stdout",
     "output_type": "stream",
     "text": [
      "TRAIN Batch 192 => Loss: 0.80251\n"
     ]
    },
    {
     "name": "stdout",
     "output_type": "stream",
     "text": [
      "TRAIN Batch 240 => Loss: 0.81932\n"
     ]
    },
    {
     "name": "stdout",
     "output_type": "stream",
     "text": [
      "TRAIN Batch 288 => Loss: 0.77289\n"
     ]
    },
    {
     "name": "stdout",
     "output_type": "stream",
     "text": [
      "TRAIN Batch 336 => Loss: 0.80423\n"
     ]
    },
    {
     "name": "stdout",
     "output_type": "stream",
     "text": [
      "TRAIN Batch 384 => Loss: 0.7651\n"
     ]
    },
    {
     "name": "stdout",
     "output_type": "stream",
     "text": [
      "TRAIN Batch 432 => Loss: 0.73627\n"
     ]
    },
    {
     "name": "stdout",
     "output_type": "stream",
     "text": [
      "TRAIN Batch 480 => Loss: 0.69548\n"
     ]
    },
    {
     "name": "stdout",
     "output_type": "stream",
     "text": [
      "TRAIN Batch 528 => Loss: 0.74482\n"
     ]
    },
    {
     "name": "stdout",
     "output_type": "stream",
     "text": [
      "TRAIN Batch 576 => Loss: 0.83938\n"
     ]
    },
    {
     "name": "stdout",
     "output_type": "stream",
     "text": [
      "TRAIN Batch 624 => Loss: 0.83048\n"
     ]
    },
    {
     "name": "stdout",
     "output_type": "stream",
     "text": [
      "TRAIN Batch 672 => Loss: 0.79193\n"
     ]
    },
    {
     "name": "stdout",
     "output_type": "stream",
     "text": [
      "TRAIN Batch 720 => Loss: 0.74479\n"
     ]
    },
    {
     "name": "stdout",
     "output_type": "stream",
     "text": [
      "TRAIN Batch 768 => Loss: 0.85631\n"
     ]
    },
    {
     "name": "stdout",
     "output_type": "stream",
     "text": [
      "TRAIN Batch 816 => Loss: 0.65029\n"
     ]
    },
    {
     "name": "stdout",
     "output_type": "stream",
     "text": [
      "TRAIN Batch 864 => Loss: 0.71264\n"
     ]
    },
    {
     "name": "stdout",
     "output_type": "stream",
     "text": [
      "TRAIN Batch 912 => Loss: 0.5949\n"
     ]
    },
    {
     "name": "stdout",
     "output_type": "stream",
     "text": [
      "TRAIN Batch 960 => Loss: 0.84952\n"
     ]
    },
    {
     "name": "stdout",
     "output_type": "stream",
     "text": [
      "TRAIN Batch 1008 => Loss: 0.68285\n"
     ]
    },
    {
     "name": "stdout",
     "output_type": "stream",
     "text": [
      "TRAIN Batch 1056 => Loss: 0.80815\n"
     ]
    },
    {
     "name": "stdout",
     "output_type": "stream",
     "text": [
      "TRAIN Batch 1104 => Loss: 0.81455\n"
     ]
    },
    {
     "name": "stdout",
     "output_type": "stream",
     "text": [
      "TRAIN Batch 1152 => Loss: 0.70736\n"
     ]
    },
    {
     "name": "stdout",
     "output_type": "stream",
     "text": [
      "TRAIN Batch 1200 => Loss: 0.92214\n"
     ]
    },
    {
     "name": "stdout",
     "output_type": "stream",
     "text": [
      "TRAIN Batch 1248 => Loss: 0.69625\n"
     ]
    },
    {
     "name": "stdout",
     "output_type": "stream",
     "text": [
      "TRAIN Batch 1296 => Loss: 0.70147\n"
     ]
    },
    {
     "name": "stdout",
     "output_type": "stream",
     "text": [
      "TRAIN Batch 1344 => Loss: 0.76764\n"
     ]
    },
    {
     "name": "stdout",
     "output_type": "stream",
     "text": [
      "TRAIN Batch 1392 => Loss: 0.70149\n"
     ]
    },
    {
     "name": "stdout",
     "output_type": "stream",
     "text": [
      "TRAIN Batch 1440 => Loss: 0.91579\n"
     ]
    },
    {
     "name": "stdout",
     "output_type": "stream",
     "text": [
      "TRAIN Batch 1488 => Loss: 0.84704\n"
     ]
    },
    {
     "name": "stdout",
     "output_type": "stream",
     "text": [
      "TRAIN Batch 1536 => Loss: 0.75566\n"
     ]
    },
    {
     "name": "stdout",
     "output_type": "stream",
     "text": [
      "TRAIN Batch 1584 => Loss: 0.69143\n"
     ]
    },
    {
     "name": "stdout",
     "output_type": "stream",
     "text": [
      "TRAIN Batch 1632 => Loss: 0.787\n"
     ]
    },
    {
     "name": "stdout",
     "output_type": "stream",
     "text": [
      "TRAIN Batch 1680 => Loss: 0.74026\n"
     ]
    },
    {
     "name": "stdout",
     "output_type": "stream",
     "text": [
      "TRAIN Batch 1728 => Loss: 0.92702\n"
     ]
    },
    {
     "name": "stdout",
     "output_type": "stream",
     "text": [
      "TRAIN Batch 1776 => Loss: 0.68289\n"
     ]
    },
    {
     "name": "stdout",
     "output_type": "stream",
     "text": [
      "TRAIN Batch 1824 => Loss: 0.77745\n"
     ]
    },
    {
     "name": "stdout",
     "output_type": "stream",
     "text": [
      "TRAIN Batch 1872 => Loss: 0.76925\n"
     ]
    },
    {
     "name": "stdout",
     "output_type": "stream",
     "text": [
      "TRAIN Batch 1920 => Loss: 0.90074\n"
     ]
    },
    {
     "name": "stdout",
     "output_type": "stream",
     "text": [
      "TRAIN Batch 1968 => Loss: 0.74384\n"
     ]
    },
    {
     "name": "stdout",
     "output_type": "stream",
     "text": [
      "TRAIN Batch 2016 => Loss: 0.85039\n"
     ]
    },
    {
     "name": "stdout",
     "output_type": "stream",
     "text": [
      "TRAIN Batch 2064 => Loss: 0.84402\n"
     ]
    },
    {
     "name": "stdout",
     "output_type": "stream",
     "text": [
      "TRAIN Batch 2112 => Loss: 0.88657\n"
     ]
    },
    {
     "name": "stdout",
     "output_type": "stream",
     "text": [
      "TRAIN Batch 2160 => Loss: 0.81909\n"
     ]
    },
    {
     "name": "stdout",
     "output_type": "stream",
     "text": [
      "TRAIN Batch 2208 => Loss: 0.81685\n"
     ]
    },
    {
     "name": "stdout",
     "output_type": "stream",
     "text": [
      "EVAL Batch 0 => Loss: 1.04803\n"
     ]
    },
    {
     "name": "stdout",
     "output_type": "stream",
     "text": [
      "EVAL Batch 50 => Loss: 1.84438\n"
     ]
    },
    {
     "name": "stdout",
     "output_type": "stream",
     "text": [
      "EVAL Batch 100 => Loss: 1.44268\n"
     ]
    },
    {
     "name": "stdout",
     "output_type": "stream",
     "text": [
      "EVAL Batch 150 => Loss: 1.60402\n"
     ]
    },
    {
     "name": "stdout",
     "output_type": "stream",
     "text": [
      "EVAL Batch 200 => Loss: 1.66329\n"
     ]
    },
    {
     "name": "stdout",
     "output_type": "stream",
     "text": [
      "<|im_start|>user\n",
      "Prove that the difference between two consecutive cubes cannot be divisible by 5, using the fact that the only possible remainders when a cube is divided by 5 are 0, 1, and -1.<|im_end|>\n",
      "\n",
      "####\n",
      "Use algebraic methods to construct right manually"
     ]
    },
    {
     "name": "stdout",
     "output_type": "stream",
     "text": [
      " pi with many marked numbers.<|im_end|>\\n<|im_start|>reasoning\\nTo tackle this problem, let's break"
     ]
    },
    {
     "name": "stdout",
     "output_type": "stream",
     "text": [
      " it down into smaller, manageable parts and reason through each step.\n",
      "\n",
      "**Understanding the Problem**\n",
      "\n"
     ]
    },
    {
     "name": "stdout",
     "output_type": "stream",
     "text": [
      "The user is asking about the uniqueness of repeated roots when a cube is divided by 5. This seems like"
     ]
    },
    {
     "name": "stdout",
     "output_type": "stream",
     "text": [
      " a simple yesAC solution, but it's essential to understand the underlying principles of number arithmetic.\n",
      "\n"
     ]
    },
    {
     "name": "stdout",
     "output_type": "stream",
     "text": [
      "**Breaking Down the Problem**\n",
      "\n",
      "1. **Sequenceation and Coefficient**: If a"
     ]
    },
    {
     "name": "stdout",
     "output_type": "stream",
     "text": [
      " cube is divided by 5, its square root will be equal to the number we want to repeat infinitely"
     ]
    },
    {
     "name": "stdout",
     "output_type": "stream",
     "text": [
      ". This transcendental number is crucial in many applications, including algebra and geometry.\n",
      "\n",
      "2"
     ]
    },
    {
     "name": "stdout",
     "output_type": "stream",
     "text": [
      ". **Expldersions**:\n",
      "\t* Consider two cases: a cube with zero div"
     ]
    },
    {
     "name": "stdout",
     "output_type": "stream",
     "text": [
      "isor (neq 0) and a zero divisor (a number greater than 0).\n"
     ]
    },
    {
     "name": "stdout",
     "output_type": "stream",
     "text": [
      "\t* The most basic case of such a cube is the only possible solution to consider.\n",
      "\t*"
     ]
    },
    {
     "name": "stdout",
     "output_type": "stream",
     "text": [
      " For example, a cube with non-zero divisors of 3, would not be a perm"
     ]
    },
    {
     "name": "stdout",
     "output_type": "stream",
     "text": [
      "utation of 3 elements.\n",
      "\t* However, the uniqueness of the smallest field must show their existence and"
     ]
    },
    {
     "name": "stdout",
     "output_type": "stream",
     "text": [
      " existence.\n",
      "\t* For example, the result of the division would be proportional to the number 3 and"
     ]
    },
    {
     "name": "stdout",
     "output_type": "stream",
     "text": [
      " D.\n",
      "\t* Since there's only two possible values for the cube, m(ab) ="
     ]
    },
    {
     "name": "stdout",
     "output_type": "stream",
     "text": [
      " (3 × 5 × 5 × 5 × 5 × 5, we could think of this as we"
     ]
    },
    {
     "name": "stdout",
     "output_type": "stream",
     "text": [
      " have as increased as 6.\n",
      "* This division process leaves us with three possible remainders:"
     ]
    },
    {
     "name": "stdout",
     "output_type": "stream",
     "text": [
      " either L = 7, V = (3 × 5 + 4 × 5 + 5) = 400"
     ]
    },
    {
     "name": "stdout",
     "output_type": "stream",
     "text": [
      " and m(x) = 200 + 256 + 200 + 256 = 625.\n",
      "\n",
      "3."
     ]
    },
    {
     "name": "stdout",
     "output_type": "stream",
     "text": [
      " **Divisibility**:\n",
      "\t* This implies that foci are irreducible"
     ]
    },
    {
     "name": "stdout",
     "output_type": "stream",
     "text": [
      " elements of the entire field $F$.\n",
      "\t* If a surjection between $F$ and"
     ]
    },
    {
     "name": "stdout",
     "output_type": "stream",
     "text": [
      " $G$ would have different remainders, then the statement would need to be true, which would"
     ]
    },
    {
     "name": "stdout",
     "output_type": "stream",
     "text": [
      " be inconsistent with the second condition.\n",
      "\t* If a surjection between $F$ and $"
     ]
    },
    {
     "name": "stdout",
     "output_type": "stream",
     "text": [
      "G$ would be redundant, then the statement would be true, which would be contradictory.\n"
     ]
    },
    {
     "name": "stdout",
     "output_type": "stream",
     "text": [
      "\n",
      "4. **Equ0closumbers**:\n",
      "\t* Consider two cases: at"
     ]
    },
    {
     "name": "stdout",
     "output_type": "stream",
     "text": [
      " least one square has zero divisors.\n",
      "\t* If a surjection between $F$"
     ]
    },
    {
     "name": "stdout",
     "output_type": "stream",
     "text": [
      " and $G$ would have different remainders, then the statement would be true, which"
     ]
    },
    {
     "name": "stdout",
     "output_type": "stream",
     "text": [
      " would be contradictory.\n",
      "\t* Otherwise, this would lead to two more complex negative scenarios"
     ]
    },
    {
     "name": "stdout",
     "output_type": "stream",
     "text": [
      ".\n",
      "\t* If a surjection between $F$ and $G$ would have"
     ]
    },
    {
     "name": "stdout",
     "output_type": "stream",
     "text": [
      " different remainders than $F$, then the statement would be true, which would"
     ]
    },
    {
     "name": "stdout",
     "output_type": "stream",
     "text": [
      "acking if the rule would be true.\n",
      "\n",
      "**Conclusion**\n",
      "\n",
      "Based on"
     ]
    },
    {
     "name": "stdout",
     "output_type": "stream",
     "text": [
      " our detailed analysis, we have shown that the statement is correct. It's the"
     ]
    },
    {
     "name": "stdout",
     "output_type": "stream",
     "text": [
      " assumption that homogeneity must be simple, meaning that if a map from a pile"
     ]
    },
    {
     "name": "stdout",
     "output_type": "stream",
     "text": [
      " with zero divisor (neq zero divisor), then the difference"
     ]
    },
    {
     "name": "stdout",
     "output_type": "stream",
     "text": [
      " between any two consecutive cubes does not exist. Mathematically, this can be represented"
     ]
    },
    {
     "name": "stdout",
     "output_type": "stream",
     "text": [
      " as:\n",
      "\n",
      "An irrational number\n",
      "F = (A + B + C"
     ]
    },
    {
     "name": "stdout",
     "output_type": "stream",
     "text": [
      ") / (C + τ - D + periodic)\n",
      "\n",
      "In the"
     ]
    },
    {
     "name": "stdout",
     "output_type": "stream",
     "text": [
      " case of unan cases, we have a situation where slope (neq"
     ]
    },
    {
     "name": "stdout",
     "output_type": "stream",
     "text": [
      " 0) and a surjection between the two statements. This shows that the"
     ]
    },
    {
     "name": "stdout",
     "output_type": "stream",
     "text": [
      " statement is correct, and it's calculated by considering all possible cases and"
     ]
    },
    {
     "name": "stdout",
     "output_type": "stream",
     "text": [
      " exploring the nuances of number arithmetic.\n",
      "\n",
      "**Self-Reflection"
     ]
    },
    {
     "name": "stdout",
     "output_type": "stream",
     "text": [
      "**\n",
      "\n",
      "In this reasoning process, we have carefully considered the"
     ]
    },
    {
     "name": "stdout",
     "output_type": "stream",
     "text": [
      " underlying principles of number arithmetic and the fundamental principles of number arithmetic. We"
     ]
    },
    {
     "name": "stdout",
     "output_type": "stream",
     "text": [
      " have also explored how to represent arithmetic operations and analyze real numbers, including"
     ]
    },
    {
     "name": "stdout",
     "output_type": "stream",
     "text": [
      " multiple possible cases, construct right operands. By breaking down the problem"
     ]
    },
    {
     "name": "stdout",
     "output_type": "stream",
     "text": [
      " into smaller parts and reasoning through each step, we have arrived"
     ]
    },
    {
     "name": "stdout",
     "output_type": "stream",
     "text": [
      " at a deeper understanding of the underlying principles of number arithmetic and the"
     ]
    },
    {
     "name": "stdout",
     "output_type": "stream",
     "text": [
      " properties of divisors.\n",
      "\n",
      "This approach has allowed"
     ]
    },
    {
     "name": "stdout",
     "output_type": "stream",
     "text": [
      " us to tackle the problem of constructing right calendar shapes, highlighting"
     ]
    },
    {
     "name": "stdout",
     "output_type": "stream",
     "text": [
      " the importance of careful analysis in mathematical proofs when working with"
     ]
    },
    {
     "name": "stdout",
     "output_type": "stream",
     "text": [
      " case geometric errors.<|im_end|>\\n<|im_start|>assistant\\n"
     ]
    },
    {
     "name": "stdout",
     "output_type": "stream",
     "text": [
      "To prove that the statement is correct, we can proceed"
     ]
    },
    {
     "name": "stdout",
     "output_type": "stream",
     "text": [
      " as follows:\n",
      "\n",
      "1. Start with a cube"
     ]
    },
    {
     "name": "stdout",
     "output_type": "stream",
     "text": [
      " with zero divisor (neq 0) and"
     ]
    },
    {
     "name": "stdout",
     "output_type": "stream",
     "text": [
      " a zero divisor (neq 0) and"
     ]
    },
    {
     "name": "stdout",
     "output_type": "stream",
     "text": [
      " a zero divisor (neq 0). The"
     ]
    },
    {
     "name": "stdout",
     "output_type": "stream",
     "text": [
      " remainder would never be proportional to the number a way of"
     ]
    },
    {
     "name": "stdout",
     "output_type": "stream",
     "text": [
      " adding a remainder, say 2, ±2, etc"
     ]
    },
    {
     "name": "stdout",
     "output_type": "stream",
     "text": [
      ". A situation is still, but it's not"
     ]
    },
    {
     "name": "stdout",
     "output_type": "stream",
     "text": [
      ", which may not beders. Attempt"
     ]
    },
    {
     "name": "stdout",
     "output_type": "stream",
     "text": [
      "ing with this isn't correct here. It"
     ]
    },
    {
     "name": "stdout",
     "output_type": "stream",
     "text": [
      " doesn't account for the possibility of $F"
     ]
    },
    {
     "name": "stdout",
     "output_type": "stream",
     "text": [
      "$ being having zero divisor (ne"
     ]
    },
    {
     "name": "stdout",
     "output_type": "stream",
     "text": [
      "q 0) as having the zero divis"
     ]
    },
    {
     "name": "stdout",
     "output_type": "stream",
     "text": [
      "or, or below the divisor"
     ]
    },
    {
     "name": "stdout",
     "output_type": "stream",
     "text": [
      " (neq 0) as having no"
     ]
    },
    {
     "name": "stdout",
     "output_type": "stream",
     "text": [
      " surjection from a factor to 2."
     ]
    },
    {
     "name": "stdout",
     "output_type": "stream",
     "text": [
      "<|im_end|><|endoftext|><|PAD|><|PAD|><|PAD|><|PAD|><|PAD|><|PAD|>"
     ]
    },
    {
     "name": "stdout",
     "output_type": "stream",
     "text": [
      "<|PAD|><|PAD|><|PAD|><|PAD|><|PAD|><|PAD|><|PAD|><|PAD|>"
     ]
    },
    {
     "name": "stdout",
     "output_type": "stream",
     "text": [
      "<|PAD|><|PAD|><|PAD|><|PAD|><|PAD|><|PAD|><|PAD|><|PAD|>"
     ]
    },
    {
     "name": "stdout",
     "output_type": "stream",
     "text": [
      "<|PAD|><|PAD|><|PAD|><|PAD|><|PAD|><|PAD|><|PAD|><|PAD|>"
     ]
    },
    {
     "name": "stdout",
     "output_type": "stream",
     "text": [
      "<|PAD|><|PAD|><|PAD|><|PAD|><|PAD|><|PAD|><|PAD|><|PAD|>"
     ]
    },
    {
     "name": "stdout",
     "output_type": "stream",
     "text": [
      "<|PAD|><|PAD|><|PAD|><|PAD|><|PAD|><|PAD|><|PAD|><|PAD|>"
     ]
    },
    {
     "name": "stdout",
     "output_type": "stream",
     "text": [
      "<|PAD|><|PAD|><|PAD|><|PAD|><|PAD|><|PAD|><|PAD|><|PAD|>"
     ]
    },
    {
     "name": "stdout",
     "output_type": "stream",
     "text": [
      "<|PAD|><|PAD|><|PAD|><|PAD|><|PAD|><|PAD|><|PAD|><|PAD|>"
     ]
    },
    {
     "name": "stdout",
     "output_type": "stream",
     "text": [
      "<|PAD|><|PAD|><|PAD|><|PAD|><|PAD|><|PAD|><|PAD|><|PAD|>"
     ]
    },
    {
     "name": "stdout",
     "output_type": "stream",
     "text": [
      "<|PAD|><|PAD|><|PAD|><|PAD|><|PAD|><|PAD|><|PAD|><|PAD|>"
     ]
    },
    {
     "name": "stdout",
     "output_type": "stream",
     "text": [
      "<|PAD|><|PAD|><|PAD|><|PAD|><|PAD|><|PAD|><|PAD|><|PAD|>"
     ]
    },
    {
     "name": "stdout",
     "output_type": "stream",
     "text": [
      "<|PAD|><|PAD|><|PAD|><|PAD|><|PAD|><|PAD|><|PAD|>"
     ]
    },
    {
     "name": "stdout",
     "output_type": "stream",
     "text": [
      "<|PAD|><|PAD|><|PAD|><|PAD|><|PAD|><|PAD|><|PAD|><|PAD|>"
     ]
    },
    {
     "name": "stdout",
     "output_type": "stream",
     "text": [
      "<|PAD|><|PAD|><|PAD|><|PAD|><|PAD|><|PAD|><|PAD|>"
     ]
    },
    {
     "name": "stdout",
     "output_type": "stream",
     "text": [
      "<|PAD|><|PAD|><|PAD|><|PAD|><|PAD|><|PAD|><|PAD|>"
     ]
    },
    {
     "name": "stdout",
     "output_type": "stream",
     "text": [
      "<|PAD|><|PAD|><|PAD|><|PAD|><|PAD|><|PAD|><|PAD|>"
     ]
    },
    {
     "name": "stdout",
     "output_type": "stream",
     "text": [
      "<|PAD|><|PAD|><|PAD|><|PAD|><|PAD|><|PAD|><|PAD|>"
     ]
    },
    {
     "name": "stdout",
     "output_type": "stream",
     "text": [
      "<|PAD|><|PAD|><|PAD|><|PAD|><|PAD|><|PAD|><|PAD|>"
     ]
    },
    {
     "name": "stdout",
     "output_type": "stream",
     "text": [
      "<|PAD|><|PAD|><|PAD|><|PAD|><|PAD|><|PAD|><|PAD|>"
     ]
    },
    {
     "name": "stdout",
     "output_type": "stream",
     "text": [
      "<|PAD|><|PAD|><|PAD|><|PAD|><|PAD|><|PAD|><|PAD|>"
     ]
    },
    {
     "name": "stdout",
     "output_type": "stream",
     "text": [
      "<|PAD|><|PAD|><|PAD|><|PAD|><|PAD|><|PAD|><|PAD|>"
     ]
    },
    {
     "name": "stdout",
     "output_type": "stream",
     "text": [
      "<|PAD|><|PAD|><|PAD|><|PAD|><|PAD|><|PAD|><|PAD|>"
     ]
    },
    {
     "name": "stdout",
     "output_type": "stream",
     "text": [
      "<|PAD|><|PAD|><|PAD|><|PAD|><|PAD|><|PAD|><|PAD|>"
     ]
    },
    {
     "name": "stdout",
     "output_type": "stream",
     "text": [
      "<|PAD|><|PAD|><|PAD|><|PAD|><|PAD|><|PAD|><|PAD|>"
     ]
    },
    {
     "name": "stdout",
     "output_type": "stream",
     "text": [
      "<|PAD|><|PAD|><|PAD|><|PAD|><|PAD|><|PAD|><|PAD|>"
     ]
    },
    {
     "name": "stdout",
     "output_type": "stream",
     "text": [
      "<|PAD|><|PAD|><|PAD|><|PAD|><|PAD|><|PAD|><|PAD|>"
     ]
    },
    {
     "name": "stdout",
     "output_type": "stream",
     "text": [
      "<|PAD|><|PAD|><|PAD|><|PAD|><|PAD|><|PAD|><|PAD|>"
     ]
    },
    {
     "name": "stdout",
     "output_type": "stream",
     "text": [
      "<|PAD|><|PAD|><|PAD|><|PAD|><|PAD|><|PAD|><|PAD|>"
     ]
    },
    {
     "name": "stdout",
     "output_type": "stream",
     "text": [
      "<|PAD|><|PAD|><|PAD|><|PAD|><|PAD|><|PAD|><|PAD|>"
     ]
    },
    {
     "name": "stdout",
     "output_type": "stream",
     "text": [
      "<|PAD|><|PAD|><|PAD|><|PAD|><|PAD|><|PAD|><|PAD|>"
     ]
    },
    {
     "name": "stdout",
     "output_type": "stream",
     "text": [
      "<|PAD|><|PAD|><|PAD|><|PAD|><|PAD|><|PAD|><|PAD|>"
     ]
    },
    {
     "name": "stdout",
     "output_type": "stream",
     "text": [
      "<|PAD|><|PAD|><|PAD|><|PAD|><|PAD|><|PAD|>"
     ]
    },
    {
     "name": "stdout",
     "output_type": "stream",
     "text": [
      "EPOCH: 17 / 40\n"
     ]
    },
    {
     "name": "stdout",
     "output_type": "stream",
     "text": [
      "TRAIN Batch 0 => Loss: 0.57213\n"
     ]
    },
    {
     "name": "stdout",
     "output_type": "stream",
     "text": [
      "TRAIN Batch 48 => Loss: 0.52333\n"
     ]
    }
   ],
   "source": [
    "grad_accumulation_step = 16\n",
    "for b in range(40):\n",
    "    print(f\"EPOCH: {b+1} / 40\")\n",
    "    llama_model.train()\n",
    "    optimizer.zero_grad()\n",
    "    for i, batch in enumerate(dataloader):\n",
    "        x = batch[:, :-1]\n",
    "        B, T = x.shape\n",
    "        y = batch[:, 1:]\n",
    "        mask = calculate_mask(x, ModelArgs.padding_idx)\n",
    "        y_pred = llama_model(x, mask).view(B*T, ModelArgs.vocab_size)\n",
    "        y = y.reshape(B*T,)\n",
    "        loss = F.cross_entropy(y_pred, y)\n",
    "        loss = loss / grad_accumulation_step\n",
    "        loss.backward()\n",
    "        if (i+1)%grad_accumulation_step==0:\n",
    "            # print('Applying step')\n",
    "            optimizer.step()\n",
    "            scheduler.step()\n",
    "            optimizer.zero_grad()\n",
    "        if i%48==0:\n",
    "            print(f\"TRAIN Batch {i} => Loss: {round(loss.item()*grad_accumulation_step, 5)}\")\n",
    "    \n",
    "    # apply for last batch\n",
    "    if (i+1)%grad_accumulation_step!=0:\n",
    "        # print('Applying step')\n",
    "        optimizer.step()\n",
    "        scheduler.step()\n",
    "        optimizer.zero_grad()\n",
    "    \n",
    "    llama_model.eval()\n",
    "    with torch.no_grad():\n",
    "        for i, batch in enumerate(val_dataloader):\n",
    "            x = batch[:, :-1]\n",
    "            B, T = x.shape\n",
    "            y = batch[:, 1:]\n",
    "            mask = calculate_mask(x, ModelArgs.padding_idx)\n",
    "            y_pred = llama_model(x, mask).view(B*T, ModelArgs.vocab_size)\n",
    "            y = y.reshape(B*T,)\n",
    "            loss = F.cross_entropy(y_pred, y)\n",
    "            if i%50==0:\n",
    "                print(f\"EVAL Batch {i} => Loss: {round(loss.item(), 5)}\")\n",
    "    if b%5==0:\n",
    "        # sample text generation test of reasoning\n",
    "        answer('Prove that the difference between two consecutive cubes cannot be divisible by 5, using the fact that the only possible remainders when a cube is divided by 5 are 0, 1, and -1.', end='')\n",
    "        torch.save(llama_model.state_dict(), f'model_{b}.pth')"
   ]
  },
  {
   "cell_type": "code",
   "execution_count": null,
   "id": "8d395312",
   "metadata": {
    "execution": {
     "iopub.execute_input": "2025-07-25T04:32:37.718315Z",
     "iopub.status.busy": "2025-07-25T04:32:37.718060Z",
     "iopub.status.idle": "2025-07-25T04:32:57.824402Z",
     "shell.execute_reply": "2025-07-25T04:32:57.823557Z",
     "shell.execute_reply.started": "2025-07-25T04:32:37.718297Z"
    },
    "papermill": {
     "duration": null,
     "end_time": null,
     "exception": null,
     "start_time": null,
     "status": "pending"
    },
    "tags": []
   },
   "outputs": [],
   "source": [
    "answer('Prove that the difference between two consecutive cubes cannot be divisible by 5, using the fact that the only possible remainders when a cube is divided by 5 are 0, 1, and -1.',\n",
    "      end = \"\")"
   ]
  },
  {
   "cell_type": "code",
   "execution_count": null,
   "id": "f77f69e2",
   "metadata": {
    "execution": {
     "iopub.status.busy": "2025-07-25T04:31:39.536949Z",
     "iopub.status.idle": "2025-07-25T04:31:39.537272Z",
     "shell.execute_reply": "2025-07-25T04:31:39.537131Z",
     "shell.execute_reply.started": "2025-07-25T04:31:39.537115Z"
    },
    "papermill": {
     "duration": null,
     "end_time": null,
     "exception": null,
     "start_time": null,
     "status": "pending"
    },
    "tags": []
   },
   "outputs": [],
   "source": [
    "x = torch.randint(0, 1280, (8, 1280))"
   ]
  },
  {
   "cell_type": "code",
   "execution_count": null,
   "id": "c2d55d6d",
   "metadata": {
    "execution": {
     "iopub.status.busy": "2025-07-25T04:31:39.538527Z",
     "iopub.status.idle": "2025-07-25T04:31:39.538841Z",
     "shell.execute_reply": "2025-07-25T04:31:39.538686Z",
     "shell.execute_reply.started": "2025-07-25T04:31:39.538672Z"
    },
    "papermill": {
     "duration": null,
     "end_time": null,
     "exception": null,
     "start_time": null,
     "status": "pending"
    },
    "tags": []
   },
   "outputs": [],
   "source": [
    "torch.save(llama_model.state_dict(), 'model.pth')"
   ]
  },
  {
   "cell_type": "code",
   "execution_count": null,
   "id": "09b2c3a1",
   "metadata": {
    "execution": {
     "iopub.status.busy": "2025-07-25T04:31:39.540101Z",
     "iopub.status.idle": "2025-07-25T04:31:39.540398Z",
     "shell.execute_reply": "2025-07-25T04:31:39.540259Z",
     "shell.execute_reply.started": "2025-07-25T04:31:39.540246Z"
    },
    "papermill": {
     "duration": null,
     "end_time": null,
     "exception": null,
     "start_time": null,
     "status": "pending"
    },
    "tags": []
   },
   "outputs": [],
   "source": [
    "state_dict = torch.load('model.pth', map_location=torch.device(device)) # Load to CPU"
   ]
  },
  {
   "cell_type": "code",
   "execution_count": null,
   "id": "2525341b",
   "metadata": {
    "execution": {
     "iopub.status.busy": "2025-07-25T04:31:39.541105Z",
     "iopub.status.idle": "2025-07-25T04:31:39.541369Z",
     "shell.execute_reply": "2025-07-25T04:31:39.541269Z",
     "shell.execute_reply.started": "2025-07-25T04:31:39.541250Z"
    },
    "papermill": {
     "duration": null,
     "end_time": null,
     "exception": null,
     "start_time": null,
     "status": "pending"
    },
    "tags": []
   },
   "outputs": [],
   "source": [
    "torch.cuda.empty_cache()"
   ]
  },
  {
   "cell_type": "code",
   "execution_count": null,
   "id": "b4f83fac",
   "metadata": {
    "execution": {
     "iopub.status.busy": "2025-07-25T04:31:39.541823Z",
     "iopub.status.idle": "2025-07-25T04:31:39.542048Z",
     "shell.execute_reply": "2025-07-25T04:31:39.541953Z",
     "shell.execute_reply.started": "2025-07-25T04:31:39.541944Z"
    },
    "papermill": {
     "duration": null,
     "end_time": null,
     "exception": null,
     "start_time": null,
     "status": "pending"
    },
    "tags": []
   },
   "outputs": [],
   "source": [
    "llama_model_ = Llama(config = ModelArgs) #.to(device)\n",
    "llama_model_.load_state_dict(state_dict)"
   ]
  },
  {
   "cell_type": "code",
   "execution_count": null,
   "id": "342493f3",
   "metadata": {
    "execution": {
     "iopub.status.busy": "2025-07-25T04:31:39.543118Z",
     "iopub.status.idle": "2025-07-25T04:31:39.543418Z",
     "shell.execute_reply": "2025-07-25T04:31:39.543280Z",
     "shell.execute_reply.started": "2025-07-25T04:31:39.543266Z"
    },
    "papermill": {
     "duration": null,
     "end_time": null,
     "exception": null,
     "start_time": null,
     "status": "pending"
    },
    "tags": []
   },
   "outputs": [],
   "source": [
    "a1 = llama_model(x.to('cuda'))\n",
    "a2 = llama_model_(x.to('cpu'))"
   ]
  },
  {
   "cell_type": "code",
   "execution_count": null,
   "id": "06af94d1",
   "metadata": {
    "execution": {
     "iopub.status.busy": "2025-07-25T04:31:39.545478Z",
     "iopub.status.idle": "2025-07-25T04:31:39.545771Z",
     "shell.execute_reply": "2025-07-25T04:31:39.545632Z",
     "shell.execute_reply.started": "2025-07-25T04:31:39.545617Z"
    },
    "papermill": {
     "duration": null,
     "end_time": null,
     "exception": null,
     "start_time": null,
     "status": "pending"
    },
    "tags": []
   },
   "outputs": [],
   "source": [
    "torch.allclose(a1.cpu(), a2, atol=1e-5, rtol=1e-4)"
   ]
  },
  {
   "cell_type": "code",
   "execution_count": null,
   "id": "20e03c81",
   "metadata": {
    "papermill": {
     "duration": null,
     "end_time": null,
     "exception": null,
     "start_time": null,
     "status": "pending"
    },
    "tags": []
   },
   "outputs": [],
   "source": []
  }
 ],
 "metadata": {
  "kaggle": {
   "accelerator": "gpu",
   "dataSources": [],
   "dockerImageVersionId": 31090,
   "isGpuEnabled": true,
   "isInternetEnabled": true,
   "language": "python",
   "sourceType": "notebook"
  },
  "kernelspec": {
   "display_name": "Python 3",
   "language": "python",
   "name": "python3"
  },
  "language_info": {
   "codemirror_mode": {
    "name": "ipython",
    "version": 3
   },
   "file_extension": ".py",
   "mimetype": "text/x-python",
   "name": "python",
   "nbconvert_exporter": "python",
   "pygments_lexer": "ipython3",
   "version": "3.11.13"
  },
  "papermill": {
   "default_parameters": {},
   "duration": null,
   "end_time": null,
   "environment_variables": {},
   "exception": null,
   "input_path": "__notebook__.ipynb",
   "output_path": "__notebook__.ipynb",
   "parameters": {},
   "start_time": "2025-07-25T04:35:21.403575",
   "version": "2.6.0"
  }
 },
 "nbformat": 4,
 "nbformat_minor": 5
}