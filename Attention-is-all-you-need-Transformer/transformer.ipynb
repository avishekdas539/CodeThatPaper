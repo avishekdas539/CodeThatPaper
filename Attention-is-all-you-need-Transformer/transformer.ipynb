{
 "cells": [
  {
   "cell_type": "markdown",
   "metadata": {},
   "source": [
    "# 1. Importing Dependencies and Setting Up Environment"
   ]
  },
  {
   "cell_type": "code",
   "execution_count": 35,
   "metadata": {
    "execution": {
     "iopub.execute_input": "2025-05-09T14:14:04.687486Z",
     "iopub.status.busy": "2025-05-09T14:14:04.687223Z",
     "iopub.status.idle": "2025-05-09T14:14:04.691594Z",
     "shell.execute_reply": "2025-05-09T14:14:04.690742Z",
     "shell.execute_reply.started": "2025-05-09T14:14:04.687466Z"
    },
    "trusted": true
   },
   "outputs": [],
   "source": [
    "import torch\n",
    "import torch.nn as nn\n",
    "from torch.nn import functional as F\n",
    "from torch.utils.data import DataLoader\n",
    "import math\n",
    "import pandas as pd\n",
    "import regex as re\n",
    "from sklearn.model_selection import train_test_split\n",
    "import matplotlib.pyplot as plt\n",
    "from tqdm import tqdm"
   ]
  },
  {
   "cell_type": "code",
   "execution_count": 36,
   "metadata": {
    "execution": {
     "iopub.execute_input": "2025-05-09T14:14:04.694435Z",
     "iopub.status.busy": "2025-05-09T14:14:04.694268Z",
     "iopub.status.idle": "2025-05-09T14:14:04.710077Z",
     "shell.execute_reply": "2025-05-09T14:14:04.709529Z",
     "shell.execute_reply.started": "2025-05-09T14:14:04.694423Z"
    },
    "trusted": true
   },
   "outputs": [
    {
     "data": {
      "text/plain": [
       "'2.5.1+cu124'"
      ]
     },
     "execution_count": 36,
     "metadata": {},
     "output_type": "execute_result"
    }
   ],
   "source": [
    "torch.__version__"
   ]
  },
  {
   "cell_type": "code",
   "execution_count": 37,
   "metadata": {
    "execution": {
     "iopub.execute_input": "2025-05-09T14:14:04.711288Z",
     "iopub.status.busy": "2025-05-09T14:14:04.711107Z",
     "iopub.status.idle": "2025-05-09T14:14:04.726966Z",
     "shell.execute_reply": "2025-05-09T14:14:04.726386Z",
     "shell.execute_reply.started": "2025-05-09T14:14:04.711274Z"
    },
    "trusted": true
   },
   "outputs": [
    {
     "data": {
      "text/plain": [
       "'cuda'"
      ]
     },
     "execution_count": 37,
     "metadata": {},
     "output_type": "execute_result"
    }
   ],
   "source": [
    "device = 'cuda' if torch.cuda.is_available() else 'cpu'\n",
    "device"
   ]
  },
  {
   "cell_type": "code",
   "execution_count": 38,
   "metadata": {
    "execution": {
     "iopub.execute_input": "2025-05-09T14:14:04.727773Z",
     "iopub.status.busy": "2025-05-09T14:14:04.727568Z",
     "iopub.status.idle": "2025-05-09T14:14:04.742025Z",
     "shell.execute_reply": "2025-05-09T14:14:04.741331Z",
     "shell.execute_reply.started": "2025-05-09T14:14:04.727751Z"
    },
    "trusted": true
   },
   "outputs": [
    {
     "data": {
      "text/plain": [
       "True"
      ]
     },
     "execution_count": 38,
     "metadata": {},
     "output_type": "execute_result"
    }
   ],
   "source": [
    "torch.cuda.is_available()"
   ]
  },
  {
   "cell_type": "markdown",
   "metadata": {},
   "source": [
    "# 2. Reading and Processing Dataset"
   ]
  },
  {
   "cell_type": "code",
   "execution_count": 39,
   "metadata": {
    "execution": {
     "iopub.execute_input": "2025-05-09T14:14:04.743890Z",
     "iopub.status.busy": "2025-05-09T14:14:04.743501Z",
     "iopub.status.idle": "2025-05-09T14:14:04.770088Z",
     "shell.execute_reply": "2025-05-09T14:14:04.769561Z",
     "shell.execute_reply.started": "2025-05-09T14:14:04.743876Z"
    },
    "trusted": true
   },
   "outputs": [
    {
     "data": {
      "text/html": [
       "<div>\n",
       "<style scoped>\n",
       "    .dataframe tbody tr th:only-of-type {\n",
       "        vertical-align: middle;\n",
       "    }\n",
       "\n",
       "    .dataframe tbody tr th {\n",
       "        vertical-align: top;\n",
       "    }\n",
       "\n",
       "    .dataframe thead th {\n",
       "        text-align: right;\n",
       "    }\n",
       "</style>\n",
       "<table border=\"1\" class=\"dataframe\">\n",
       "  <thead>\n",
       "    <tr style=\"text-align: right;\">\n",
       "      <th></th>\n",
       "      <th>bn</th>\n",
       "      <th>rm</th>\n",
       "    </tr>\n",
       "  </thead>\n",
       "  <tbody>\n",
       "    <tr>\n",
       "      <th>0</th>\n",
       "      <td>স্ক্রোল করে ২০/৩০ সেকেন্ড এর ভিডিও পান নাই???</td>\n",
       "      <td>scroll kore 20/30 second er video pann nai???</td>\n",
       "    </tr>\n",
       "    <tr>\n",
       "      <th>1</th>\n",
       "      <td>ও গুলা টরেন্ট সাইট এ পাবেন</td>\n",
       "      <td>o gula Torrent site e paben</td>\n",
       "    </tr>\n",
       "    <tr>\n",
       "      <th>2</th>\n",
       "      <td>ভক্কর চক্কর পোস্ট একটা করলেই এপ্রুভড.… নিশ্চই ...</td>\n",
       "      <td>vokkor chokkor post akta korlei approved…. nis...</td>\n",
       "    </tr>\n",
       "    <tr>\n",
       "      <th>3</th>\n",
       "      <td>আমি টেস্ট করেই কোড দিছি…</td>\n",
       "      <td>ami test koreii code disi…</td>\n",
       "    </tr>\n",
       "    <tr>\n",
       "      <th>4</th>\n",
       "      <td>এতো কষ্টের কি আছে সাকিবওয়াপ.টক,সাকিবওয়াপ.মল&amp;এআ...</td>\n",
       "      <td>eto koster ki ache shakibwap.tk,shakibwap.ml&amp;a...</td>\n",
       "    </tr>\n",
       "    <tr>\n",
       "      <th>...</th>\n",
       "      <td>...</td>\n",
       "      <td>...</td>\n",
       "    </tr>\n",
       "    <tr>\n",
       "      <th>5001</th>\n",
       "      <td>এদের কে মাটি চাপা দেয়া দরকার</td>\n",
       "      <td>Eder ke mati chapa deya dorkar</td>\n",
       "    </tr>\n",
       "    <tr>\n",
       "      <th>5002</th>\n",
       "      <td>ওদের একদিন বিচার হবে ভাই</td>\n",
       "      <td>Oder ekdin bichar hobe vai</td>\n",
       "    </tr>\n",
       "    <tr>\n",
       "      <th>5003</th>\n",
       "      <td>অপেক্ষা করেন</td>\n",
       "      <td>Opekkha koren</td>\n",
       "    </tr>\n",
       "    <tr>\n",
       "      <th>5004</th>\n",
       "      <td>সময় আসবে</td>\n",
       "      <td>Shomoy ashbe</td>\n",
       "    </tr>\n",
       "    <tr>\n",
       "      <th>5005</th>\n",
       "      <td>আমাদেরও সময় আসবে</td>\n",
       "      <td>Amadero somoy ashbe</td>\n",
       "    </tr>\n",
       "  </tbody>\n",
       "</table>\n",
       "<p>5006 rows × 2 columns</p>\n",
       "</div>"
      ],
      "text/plain": [
       "                                                     bn  \\\n",
       "0         স্ক্রোল করে ২০/৩০ সেকেন্ড এর ভিডিও পান নাই???   \n",
       "1                            ও গুলা টরেন্ট সাইট এ পাবেন   \n",
       "2     ভক্কর চক্কর পোস্ট একটা করলেই এপ্রুভড.… নিশ্চই ...   \n",
       "3                              আমি টেস্ট করেই কোড দিছি…   \n",
       "4     এতো কষ্টের কি আছে সাকিবওয়াপ.টক,সাকিবওয়াপ.মল&এআ...   \n",
       "...                                                 ...   \n",
       "5001                      এদের কে মাটি চাপা দেয়া দরকার    \n",
       "5002                          ওদের একদিন বিচার হবে ভাই    \n",
       "5003                                      অপেক্ষা করেন    \n",
       "5004                                           সময় আসবে   \n",
       "5005                                   আমাদেরও সময় আসবে   \n",
       "\n",
       "                                                     rm  \n",
       "0         scroll kore 20/30 second er video pann nai???  \n",
       "1                           o gula Torrent site e paben  \n",
       "2     vokkor chokkor post akta korlei approved…. nis...  \n",
       "3                            ami test koreii code disi…  \n",
       "4     eto koster ki ache shakibwap.tk,shakibwap.ml&a...  \n",
       "...                                                 ...  \n",
       "5001                     Eder ke mati chapa deya dorkar  \n",
       "5002                         Oder ekdin bichar hobe vai  \n",
       "5003                                      Opekkha koren  \n",
       "5004                                       Shomoy ashbe  \n",
       "5005                                Amadero somoy ashbe  \n",
       "\n",
       "[5006 rows x 2 columns]"
      ]
     },
     "execution_count": 39,
     "metadata": {},
     "output_type": "execute_result"
    }
   ],
   "source": [
    "df = pd.read_parquet('/kaggle/input/transliteration-en-bn/transliteration.parquet')\n",
    "df # bn is bengali font, rm is "
   ]
  },
  {
   "cell_type": "code",
   "execution_count": 40,
   "metadata": {
    "execution": {
     "iopub.execute_input": "2025-05-09T14:14:04.771097Z",
     "iopub.status.busy": "2025-05-09T14:14:04.770820Z",
     "iopub.status.idle": "2025-05-09T14:14:04.776509Z",
     "shell.execute_reply": "2025-05-09T14:14:04.775969Z",
     "shell.execute_reply.started": "2025-05-09T14:14:04.771075Z"
    },
    "trusted": true
   },
   "outputs": [],
   "source": [
    "df.rm = df.rm.str.lower()"
   ]
  },
  {
   "cell_type": "code",
   "execution_count": 41,
   "metadata": {
    "execution": {
     "iopub.execute_input": "2025-05-09T14:14:04.777307Z",
     "iopub.status.busy": "2025-05-09T14:14:04.777129Z",
     "iopub.status.idle": "2025-05-09T14:14:04.789546Z",
     "shell.execute_reply": "2025-05-09T14:14:04.788976Z",
     "shell.execute_reply.started": "2025-05-09T14:14:04.777294Z"
    },
    "trusted": true
   },
   "outputs": [],
   "source": [
    "bn_nums = [chr(i) for i in range(2534, 2544)]\n",
    "rm_nums = [str(i) for i in range(10)]\n",
    "regex = rf\"\"\"(\\W)|({'|'.join(bn_nums)})|({'|'.join(rm_nums)})\"\"\"\n",
    "# regex = rf\"\"\".\"\"\"\n",
    "\n",
    "def split_to_tokens(text):\n",
    "    # splits = re.split(regex, text)\n",
    "    splits = list(text)\n",
    "    return [t for t in splits]\n",
    "\n",
    "def build_vocab(data_list):\n",
    "    words = []\n",
    "    for data in data_list:\n",
    "        splits = split_to_tokens(data)\n",
    "        words.extend(splits)\n",
    "    vocab = list(map(lambda x: x.lower() , list(set(words))))\n",
    "    return vocab"
   ]
  },
  {
   "cell_type": "code",
   "execution_count": 42,
   "metadata": {
    "execution": {
     "iopub.execute_input": "2025-05-09T14:14:04.790966Z",
     "iopub.status.busy": "2025-05-09T14:14:04.790255Z",
     "iopub.status.idle": "2025-05-09T14:14:04.835319Z",
     "shell.execute_reply": "2025-05-09T14:14:04.834773Z",
     "shell.execute_reply.started": "2025-05-09T14:14:04.790926Z"
    },
    "trusted": true
   },
   "outputs": [
    {
     "data": {
      "text/plain": [
       "(108, 97)"
      ]
     },
     "execution_count": 42,
     "metadata": {},
     "output_type": "execute_result"
    }
   ],
   "source": [
    "bn_vocab = build_vocab(df.bn.tolist())\n",
    "rm_vocab = build_vocab(df.rm.tolist())\n",
    "len(bn_vocab), len(rm_vocab)"
   ]
  },
  {
   "cell_type": "code",
   "execution_count": 43,
   "metadata": {
    "execution": {
     "iopub.execute_input": "2025-05-09T14:14:04.836448Z",
     "iopub.status.busy": "2025-05-09T14:14:04.836049Z",
     "iopub.status.idle": "2025-05-09T14:14:04.840853Z",
     "shell.execute_reply": "2025-05-09T14:14:04.840278Z",
     "shell.execute_reply.started": "2025-05-09T14:14:04.836427Z"
    },
    "trusted": true
   },
   "outputs": [],
   "source": [
    "# register special characters at 0, 1, 2, 3\n",
    "specials = ['<PAD>', '<UNK>', '<BOS>', '<EOS>']\n",
    "ln_special = len(specials)\n",
    "bn_lookup = {}\n",
    "rm_lookup = {}\n",
    "bn_idx2chr = {}\n",
    "rm_idx2chr = {}\n",
    "\n",
    "for i,c in enumerate(specials):\n",
    "    bn_lookup[c]=i\n",
    "    rm_lookup[c]=i\n",
    "    bn_idx2chr[i]=c\n",
    "    rm_idx2chr[i]=c\n",
    "\n",
    "for i,c in enumerate(bn_vocab):\n",
    "    bn_lookup[c] = i+ln_special\n",
    "    bn_idx2chr[i+ln_special]=c\n",
    "\n",
    "for i,c in enumerate(rm_vocab):\n",
    "    rm_lookup[c] = i+len(specials)\n",
    "    rm_idx2chr[i+ln_special]=c\n"
   ]
  },
  {
   "cell_type": "code",
   "execution_count": 44,
   "metadata": {
    "execution": {
     "iopub.execute_input": "2025-05-09T14:14:04.843082Z",
     "iopub.status.busy": "2025-05-09T14:14:04.842652Z",
     "iopub.status.idle": "2025-05-09T14:14:04.857553Z",
     "shell.execute_reply": "2025-05-09T14:14:04.856985Z",
     "shell.execute_reply.started": "2025-05-09T14:14:04.843066Z"
    },
    "trusted": true
   },
   "outputs": [],
   "source": [
    "def tokens2idx(tokens : list, lookup2idx : dict)->list:\n",
    "    return [lookup2idx[t] for t in tokens]\n",
    "\n",
    "def idx2tokens(idxs : list, idx2tokens : dict):\n",
    "    return [idx2tokens[int(t)] for t in idxs]\n",
    "\n",
    "def prepare_data(texts, lookup2idx):\n",
    "    data = []\n",
    "    for text in texts:\n",
    "        splits = split_to_tokens(text)\n",
    "        data.append(tokens2idx(splits, lookup2idx))\n",
    "    return data"
   ]
  },
  {
   "cell_type": "code",
   "execution_count": 45,
   "metadata": {
    "execution": {
     "iopub.execute_input": "2025-05-09T14:14:04.858394Z",
     "iopub.status.busy": "2025-05-09T14:14:04.858210Z",
     "iopub.status.idle": "2025-05-09T14:14:04.912800Z",
     "shell.execute_reply": "2025-05-09T14:14:04.912328Z",
     "shell.execute_reply.started": "2025-05-09T14:14:04.858380Z"
    },
    "trusted": true
   },
   "outputs": [],
   "source": [
    "bn_data = prepare_data(df.bn.tolist(), bn_lookup)\n",
    "rm_data = prepare_data(df.rm.tolist(), rm_lookup)\n",
    "data = list(zip(bn_data, rm_data))"
   ]
  },
  {
   "cell_type": "code",
   "execution_count": 46,
   "metadata": {
    "execution": {
     "iopub.execute_input": "2025-05-09T14:14:04.913559Z",
     "iopub.status.busy": "2025-05-09T14:14:04.913399Z",
     "iopub.status.idle": "2025-05-09T14:14:04.918585Z",
     "shell.execute_reply": "2025-05-09T14:14:04.918140Z",
     "shell.execute_reply.started": "2025-05-09T14:14:04.913546Z"
    },
    "trusted": true
   },
   "outputs": [
    {
     "data": {
      "text/plain": [
       "(246, 253)"
      ]
     },
     "execution_count": 46,
     "metadata": {},
     "output_type": "execute_result"
    }
   ],
   "source": [
    "max(len(t) for t in bn_data),max(len(t) for t in rm_data)"
   ]
  },
  {
   "cell_type": "code",
   "execution_count": 47,
   "metadata": {
    "execution": {
     "iopub.execute_input": "2025-05-09T14:14:04.919701Z",
     "iopub.status.busy": "2025-05-09T14:14:04.919474Z",
     "iopub.status.idle": "2025-05-09T14:14:04.931340Z",
     "shell.execute_reply": "2025-05-09T14:14:04.930806Z",
     "shell.execute_reply.started": "2025-05-09T14:14:04.919683Z"
    },
    "trusted": true
   },
   "outputs": [
    {
     "name": "stdout",
     "output_type": "stream",
     "text": [
      "['স', '্', 'ক', '্', 'র', 'ো', 'ল', ' ', 'ক', 'র', 'ে', ' ', '২', '০', '/', '৩', '০', ' ', 'স', 'ে', 'ক', 'ে', 'ন', '্', 'ড', ' ', 'এ', 'র', ' ', 'ভ', 'ি', 'ড', 'ি', 'ও', ' ', 'প', 'া', 'ন', ' ', 'ন', 'া', 'ই', '?', '?', '?']\n",
      "['s', 'c', 'r', 'o', 'l', 'l', ' ', 'k', 'o', 'r', 'e', ' ', '2', '0', '/', '3', '0', ' ', 's', 'e', 'c', 'o', 'n', 'd', ' ', 'e', 'r', ' ', 'v', 'i', 'd', 'e', 'o', ' ', 'p', 'a', 'n', 'n', ' ', 'n', 'a', 'i', '?', '?', '?']\n"
     ]
    }
   ],
   "source": [
    "for bn, rm in data:\n",
    "    print(idx2tokens(bn, bn_idx2chr))\n",
    "    print(idx2tokens(rm, rm_idx2chr))\n",
    "    break"
   ]
  },
  {
   "cell_type": "code",
   "execution_count": 48,
   "metadata": {
    "execution": {
     "iopub.execute_input": "2025-05-09T14:14:04.932705Z",
     "iopub.status.busy": "2025-05-09T14:14:04.932046Z",
     "iopub.status.idle": "2025-05-09T14:14:04.946610Z",
     "shell.execute_reply": "2025-05-09T14:14:04.946113Z",
     "shell.execute_reply.started": "2025-05-09T14:14:04.932682Z"
    },
    "trusted": true
   },
   "outputs": [
    {
     "data": {
      "text/plain": [
       "45"
      ]
     },
     "execution_count": 48,
     "metadata": {},
     "output_type": "execute_result"
    }
   ],
   "source": [
    "len(list(df.bn[0]))"
   ]
  },
  {
   "cell_type": "code",
   "execution_count": 49,
   "metadata": {
    "execution": {
     "iopub.execute_input": "2025-05-09T14:14:04.947517Z",
     "iopub.status.busy": "2025-05-09T14:14:04.947285Z",
     "iopub.status.idle": "2025-05-09T14:14:04.958540Z",
     "shell.execute_reply": "2025-05-09T14:14:04.957996Z",
     "shell.execute_reply.started": "2025-05-09T14:14:04.947503Z"
    },
    "trusted": true
   },
   "outputs": [],
   "source": [
    "# hyper params\n",
    "max_seq_len = 256 # considering the decoder input and output would be sliced from it by one step\n",
    "batch_size = 128\n",
    "train_size = 0.8\n",
    "d_model = 128"
   ]
  },
  {
   "cell_type": "code",
   "execution_count": 50,
   "metadata": {
    "execution": {
     "iopub.execute_input": "2025-05-09T14:14:04.959561Z",
     "iopub.status.busy": "2025-05-09T14:14:04.959358Z",
     "iopub.status.idle": "2025-05-09T14:14:04.973234Z",
     "shell.execute_reply": "2025-05-09T14:14:04.972678Z",
     "shell.execute_reply.started": "2025-05-09T14:14:04.959531Z"
    },
    "trusted": true
   },
   "outputs": [],
   "source": [
    "train_data, test_data = train_test_split(data, train_size=train_size, random_state=42)"
   ]
  },
  {
   "cell_type": "code",
   "execution_count": 51,
   "metadata": {
    "execution": {
     "iopub.execute_input": "2025-05-09T14:14:04.974140Z",
     "iopub.status.busy": "2025-05-09T14:14:04.973938Z",
     "iopub.status.idle": "2025-05-09T14:14:04.987831Z",
     "shell.execute_reply": "2025-05-09T14:14:04.987287Z",
     "shell.execute_reply.started": "2025-05-09T14:14:04.974127Z"
    },
    "trusted": true
   },
   "outputs": [],
   "source": [
    "def add_BOS_EOS(tokens : torch.LongTensor):\n",
    "    return torch.tensor([torch.tensor(bn_lookup['<BOS>']), *tokens, torch.tensor(bn_lookup['<EOS>'])])\n",
    "\n",
    "def pad_or_trunc(tokens : torch.LongTensor, max_seq_len : int):\n",
    "    len_ = tokens.shape[0]\n",
    "    if len_>max_seq_len:\n",
    "        return tokens[:max_seq_len]\n",
    "    else:\n",
    "        pad_len = max_seq_len-len_\n",
    "        return torch.cat([tokens, torch.zeros(pad_len)], dim=0)\n",
    "\n",
    "def pad_and_generate_mask(batch):\n",
    "    bn_batch, rm_batch, bn_mask_batch, rm_mask_batch = [], [], [], []\n",
    "    for bn_elem, rm_elem in batch:\n",
    "        bn_elem = add_BOS_EOS(bn_elem)\n",
    "        rm_elem = add_BOS_EOS(rm_elem)\n",
    "\n",
    "        bn_elem = pad_or_trunc(bn_elem, max_seq_len=max_seq_len+1).type(torch.long)\n",
    "        rm_elem = pad_or_trunc(rm_elem, max_seq_len=max_seq_len).type(torch.long)\n",
    "\n",
    "        bn_mask = (bn_elem!=bn_lookup['<PAD>']).type(torch.long) # anything not padding will be 1\n",
    "        rm_mask = (rm_elem!=rm_lookup['<PAD>']).type(torch.long) # anything not padding will be 1\n",
    "\n",
    "        bn_batch.append(bn_elem)\n",
    "        rm_batch.append(rm_elem)\n",
    "        bn_mask_batch.append(bn_mask)\n",
    "        rm_mask_batch.append(rm_mask)\n",
    "    \n",
    "    bn_batch = torch.stack(bn_batch, dim=0)\n",
    "    rm_batch = torch.stack(rm_batch, dim=0)\n",
    "\n",
    "    bn_mask_batch = torch.stack(bn_mask_batch, dim=0)\n",
    "    rm_mask_batch = torch.stack(rm_mask_batch, dim=0)\n",
    "\n",
    "    return rm_batch, bn_batch, rm_mask_batch, bn_mask_batch\n"
   ]
  },
  {
   "cell_type": "code",
   "execution_count": 52,
   "metadata": {
    "execution": {
     "iopub.execute_input": "2025-05-09T14:14:04.988615Z",
     "iopub.status.busy": "2025-05-09T14:14:04.988433Z",
     "iopub.status.idle": "2025-05-09T14:14:05.007062Z",
     "shell.execute_reply": "2025-05-09T14:14:05.006479Z",
     "shell.execute_reply.started": "2025-05-09T14:14:04.988601Z"
    },
    "trusted": true
   },
   "outputs": [],
   "source": [
    "train_data_loader = DataLoader(train_data, batch_size=batch_size, collate_fn=pad_and_generate_mask)\n",
    "test_data_loader = DataLoader(test_data, batch_size=batch_size, collate_fn=pad_and_generate_mask)"
   ]
  },
  {
   "cell_type": "code",
   "execution_count": 53,
   "metadata": {
    "execution": {
     "iopub.execute_input": "2025-05-09T14:14:05.007895Z",
     "iopub.status.busy": "2025-05-09T14:14:05.007676Z",
     "iopub.status.idle": "2025-05-09T14:14:05.037502Z",
     "shell.execute_reply": "2025-05-09T14:14:05.037003Z",
     "shell.execute_reply.started": "2025-05-09T14:14:05.007874Z"
    },
    "trusted": true
   },
   "outputs": [
    {
     "data": {
      "text/plain": [
       "(torch.Size([128, 256]),\n",
       " torch.Size([128, 256]),\n",
       " torch.Size([128, 257]),\n",
       " torch.Size([128, 257]))"
      ]
     },
     "execution_count": 53,
     "metadata": {},
     "output_type": "execute_result"
    }
   ],
   "source": [
    "for rm_batch, bn_batch, rm_mask_padding, bn_mask_batch in train_data_loader:\n",
    "    break\n",
    "# rm_batch = rm_batch.to(device)\n",
    "# rm_mask_padding = rm_mask_padding.to(device)\n",
    "# bn_batch = bn_batch.to(device)\n",
    "# bn_mask_batch = bn_mask_batch.to(device)\n",
    "rm_batch.shape, rm_mask_padding.shape, bn_batch.shape, bn_mask_batch.shape"
   ]
  },
  {
   "cell_type": "markdown",
   "metadata": {},
   "source": [
    "# 3. Core Components of Transformer"
   ]
  },
  {
   "cell_type": "code",
   "execution_count": 54,
   "metadata": {
    "execution": {
     "iopub.execute_input": "2025-05-09T14:14:05.040425Z",
     "iopub.status.busy": "2025-05-09T14:14:05.040243Z",
     "iopub.status.idle": "2025-05-09T14:14:05.055119Z",
     "shell.execute_reply": "2025-05-09T14:14:05.054453Z",
     "shell.execute_reply.started": "2025-05-09T14:14:05.040411Z"
    },
    "trusted": true
   },
   "outputs": [],
   "source": [
    "class RMEmbedding(nn.Module):\n",
    "    def __init__(self, vocab_size, embedding_dim):\n",
    "        super(RMEmbedding, self).__init__()\n",
    "        self.embedding_table = nn.Embedding(num_embeddings=vocab_size, embedding_dim=embedding_dim)\n",
    "    \n",
    "    def forward(self, x):\n",
    "        return self.embedding_table(x)\n",
    "    \n",
    "class BenEmbedding(nn.Module):\n",
    "    def __init__(self, vocab_size, embedding_dim):\n",
    "        super(BenEmbedding, self).__init__()\n",
    "        self.embedding_table = nn.Embedding(num_embeddings=vocab_size, embedding_dim=embedding_dim)\n",
    "    \n",
    "    def forward(self, x):\n",
    "        return self.embedding_table(x)\n",
    "    \n",
    "class PositionalEmbedding(nn.Module):\n",
    "    def __init__(self, max_seq_len, embedding_dim):\n",
    "        super(PositionalEmbedding, self).__init__()\n",
    "        self.max_seq_len = max_seq_len\n",
    "        self.embedding_dim = embedding_dim\n",
    "\n",
    "        self.PE = self.get_pos_emb()\n",
    "\n",
    "        self.register_buffer('pe', self.PE)\n",
    "\n",
    "    def get_pos_emb(self):\n",
    "        T = self.max_seq_len\n",
    "        D = self.embedding_dim\n",
    "\n",
    "        PE = torch.zeros(1, T, D) # generating for one example and will be broadcasted for batch dimension\n",
    "        pos = torch.arange(0, T, 1).view(T, 1)\n",
    "        dim = torch.arange(0, D, 1).view(1, D)\n",
    "\n",
    "        division_term = 100**(2*dim/D)\n",
    "\n",
    "        PE[:, 0::2] = torch.sin(pos[0::2]/division_term)\n",
    "        PE[:, 1::2] = torch.cos(pos[1::2]/division_term)\n",
    "\n",
    "        return PE.to(device)\n",
    "\n",
    "\n",
    "    def forward(self, x):\n",
    "        seq_len = x.shape[1]\n",
    "        return x + self.PE[:, :seq_len, :] # add till the seq length available\n",
    "\n",
    "class PositionWiseFeedForward(nn.Module):\n",
    "    def __init__(self, d_model, dff):\n",
    "        super(PositionWiseFeedForward, self).__init__()\n",
    "        self.ff = nn.Sequential(\n",
    "            nn.Linear(in_features=d_model, out_features=dff),\n",
    "            nn.ReLU(inplace=True),\n",
    "            nn.Linear(in_features=dff, out_features=d_model)\n",
    "        )\n",
    "    \n",
    "    def forward(self, x):\n",
    "        return self.ff(x)\n",
    "\n",
    "class ScaledDotProductAttention(nn.Module):\n",
    "    def __init__(self, d_k):\n",
    "        super(ScaledDotProductAttention, self).__init__()\n",
    "        self.d_k = d_k\n",
    "    \n",
    "    def forward(self, Q, K, V, mask=None):\n",
    "        # used -2, -1 for transpose as this can be used for both multihead splits or without splits\n",
    "        scores = torch.matmul(Q, K.transpose(-2, -1))/math.sqrt(self.d_k) \n",
    "        if mask is not None:\n",
    "            scores = scores.masked_fill(mask=(mask==0), value=-1e9)\n",
    "        \n",
    "        attention_probs = F.softmax(scores, dim=-1)\n",
    "        output = torch.matmul(attention_probs, V)\n",
    "\n",
    "        return output\n",
    "\n",
    "class MultiHeadAttention(nn.Module):\n",
    "    def __init__(self, n_heads, d_model, d_k):\n",
    "        super(MultiHeadAttention, self).__init__()\n",
    "        self.n_heads = n_heads\n",
    "        self.d_model = d_model\n",
    "        self.d_k = d_k\n",
    "        self.d_v = d_model//n_heads\n",
    "\n",
    "        # no bias as only weights are multiplied to the QKV and Output metrix\n",
    "        self.W_q = nn.Linear(in_features=d_model, out_features=d_k*n_heads, bias=False)\n",
    "        self.W_k = nn.Linear(in_features=d_model, out_features=d_k*n_heads, bias=False)\n",
    "        self.W_v = nn.Linear(in_features=d_model, out_features=self.d_v*n_heads, bias=False)\n",
    "        self.W_o = nn.Linear(in_features=self.d_v*n_heads, out_features=d_model, bias=False)\n",
    "\n",
    "        self.attn = ScaledDotProductAttention(self.d_k)\n",
    "    \n",
    "    def split_heads(self, x):\n",
    "        \"\"\"Expects input in shape of B,T,d_k*heads\"\"\"\n",
    "        batch, seq_len, dim = x.shape\n",
    "        # first view as to break the features in to n_heads then separate the heads as transpose\n",
    "        x = x.view(batch, seq_len, self.n_heads, self.d_k).transpose(1, 2)\n",
    "        return x\n",
    "    def combine_heads(self, x):\n",
    "        \"\"\"Expects input in shape of B,T,heads,d_v\"\"\"\n",
    "        B, n_heads, T, d_v = x.shape\n",
    "        return x.transpose(1,2).contiguous().view(B, T, d_v*self.n_heads) # getting the shape of B, T, d_model\n",
    "    def forward(self, Q, K, V, mask=None):\n",
    "        Q = self.split_heads(self.W_q(Q))\n",
    "        K = self.split_heads(self.W_k(K))\n",
    "        V = self.split_heads(self.W_v(V))\n",
    "\n",
    "        attented_output = self.attn(Q, K, V, mask)\n",
    "        output = self.W_o(self.combine_heads(attented_output))\n",
    "        return output\n",
    "\n",
    "class AddAndLayerNorm(nn.Module):\n",
    "    def __init__(self, d_model):\n",
    "        super(AddAndLayerNorm, self).__init__()\n",
    "        self.d_model = d_model\n",
    "        self.lmn = nn.LayerNorm(d_model)\n",
    "\n",
    "    def forward(self, x, sublayer_x):\n",
    "        return self.lmn(x+sublayer_x)"
   ]
  },
  {
   "cell_type": "code",
   "execution_count": 55,
   "metadata": {
    "execution": {
     "iopub.execute_input": "2025-05-09T14:14:05.055932Z",
     "iopub.status.busy": "2025-05-09T14:14:05.055728Z",
     "iopub.status.idle": "2025-05-09T14:14:05.070264Z",
     "shell.execute_reply": "2025-05-09T14:14:05.069581Z",
     "shell.execute_reply.started": "2025-05-09T14:14:05.055913Z"
    },
    "trusted": true
   },
   "outputs": [],
   "source": [
    "class EncoderBlock(nn.Module):\n",
    "    def __init__(self, d_model, d_k, n_heads, dropout):\n",
    "        super(EncoderBlock, self).__init__()\n",
    "        self.d_model = d_model\n",
    "        self.d_k = d_k\n",
    "        self.n_heads = n_heads\n",
    "        self.dropout = dropout\n",
    "\n",
    "        self.self_attn = MultiHeadAttention(n_heads=n_heads, d_model=d_model, d_k=d_k)\n",
    "        self.add_n_norm1 = AddAndLayerNorm(d_model=d_model)\n",
    "        self.add_n_norm2 = AddAndLayerNorm(d_model=d_model)\n",
    "        self.ff = PositionWiseFeedForward(d_model=d_model, dff=d_model*4) # as per section 3.3 of base paper\n",
    "        self.dropout1 = nn.Dropout(dropout)\n",
    "        self.dropout2 = nn.Dropout(dropout)\n",
    "\n",
    "    def forward(self, x, mask):\n",
    "        attented = self.self_attn(x, x, x, mask)\n",
    "        norm1 = self.add_n_norm1(x, self.dropout1(attented))\n",
    "\n",
    "        ff = self.ff(norm1)\n",
    "        norm2 = self.add_n_norm2(norm1, self.dropout2(ff))\n",
    "\n",
    "        return norm2"
   ]
  },
  {
   "cell_type": "code",
   "execution_count": 56,
   "metadata": {
    "execution": {
     "iopub.execute_input": "2025-05-09T14:14:05.071264Z",
     "iopub.status.busy": "2025-05-09T14:14:05.070965Z",
     "iopub.status.idle": "2025-05-09T14:14:05.083819Z",
     "shell.execute_reply": "2025-05-09T14:14:05.083306Z",
     "shell.execute_reply.started": "2025-05-09T14:14:05.071247Z"
    },
    "trusted": true
   },
   "outputs": [],
   "source": [
    "class DecoderBlock(nn.Module):\n",
    "    def __init__(self, d_model, d_k, n_heads, dropout):\n",
    "        super(DecoderBlock, self).__init__()\n",
    "        self.d_model = d_model\n",
    "        self.d_k = d_k\n",
    "        self.n_heads = n_heads\n",
    "        self.dropout = dropout\n",
    "\n",
    "        self.self_attn = MultiHeadAttention(n_heads=n_heads, d_model=d_model, d_k=d_k)\n",
    "        self.add_n_norm1 = AddAndLayerNorm(d_model=d_model)\n",
    "        self.cross_attn = MultiHeadAttention(n_heads=n_heads, d_model=d_model, d_k=d_k)\n",
    "        self.add_n_norm2 = AddAndLayerNorm(d_model=d_model)\n",
    "        self.ff = PositionWiseFeedForward(d_model=d_model, dff=d_model*4)\n",
    "        self.add_n_norm3 = AddAndLayerNorm(d_model=d_model)\n",
    "        self.dropout = nn.Dropout(dropout)\n",
    "    \n",
    "    def forward(self, x, enc_output, src_mask, tgt_mask):\n",
    "        self_attented = self.self_attn(x, x, x, tgt_mask)\n",
    "        x = self.add_n_norm1(x, self.dropout(self_attented))\n",
    "\n",
    "        cross_attented = self.cross_attn(x, enc_output, enc_output, src_mask)\n",
    "        x = self.add_n_norm2(x, self.dropout(cross_attented))\n",
    "\n",
    "        projected = self.ff(x)\n",
    "        x = self.add_n_norm3(x, self.dropout(projected))\n",
    "\n",
    "        return x"
   ]
  },
  {
   "cell_type": "markdown",
   "metadata": {},
   "source": [
    "# 4. Building Transformer"
   ]
  },
  {
   "cell_type": "code",
   "execution_count": 57,
   "metadata": {
    "execution": {
     "iopub.execute_input": "2025-05-09T14:14:05.084612Z",
     "iopub.status.busy": "2025-05-09T14:14:05.084430Z",
     "iopub.status.idle": "2025-05-09T14:14:05.103042Z",
     "shell.execute_reply": "2025-05-09T14:14:05.102343Z",
     "shell.execute_reply.started": "2025-05-09T14:14:05.084598Z"
    },
    "trusted": true
   },
   "outputs": [],
   "source": [
    "class Transformer(nn.Module):\n",
    "    def __init__(self, rm_vocab_size, bn_vocab_size, d_model, max_seq_len, n_enc_layer=6, n_dec_layer=6, d_k=512, n_heads=8, dropout=0.5):\n",
    "        super(Transformer, self).__init__()\n",
    "        self.rm_embedding = RMEmbedding(rm_vocab_size, d_model)\n",
    "        self.bn_embedding = BenEmbedding(bn_vocab_size, d_model)\n",
    "        self.positional_embedding = PositionalEmbedding(max_seq_len=max_seq_len, embedding_dim=d_model)\n",
    "        self.dropout1 = nn.Dropout(dropout)\n",
    "        self.dropout2 = nn.Dropout(dropout)\n",
    "\n",
    "        self.encoder_layers = nn.ModuleList([EncoderBlock(d_model=d_model, d_k=d_k, n_heads=n_heads, dropout=dropout) for _ in range(n_enc_layer)])\n",
    "        self.decoder_layers = nn.ModuleList([DecoderBlock(d_model=d_model, d_k=d_k, n_heads=n_heads, dropout=dropout) for _ in range(n_dec_layer)])\n",
    "\n",
    "        self.final_project = nn.Sequential(\n",
    "            nn.Linear(in_features=d_model, out_features=bn_vocab_size),\n",
    "            # nn.Softmax(dim=-1) # as we are using CrossEntropyLoss which considers logsoftmax by default\n",
    "        )\n",
    "    \n",
    "    def gen_attn_mask(self, rm_mask_batch, bn_mask_batch):\n",
    "        B,T = bn_mask_batch.shape\n",
    "\n",
    "        rm_mask_batch = rm_mask_batch.unsqueeze(1)\n",
    "        bn_mask_batch = bn_mask_batch.unsqueeze(1)\n",
    "\n",
    "        no_peak_future_mask = torch.tril(torch.ones(B, T, T), diagonal=0).type(torch.long).to(device)\n",
    "\n",
    "        # .unsqueeze(1) at the end of the lines would add n_heads dimension in the masks as 1 and broadcasted later\n",
    "        bn_mask = (bn_mask_batch & no_peak_future_mask).unsqueeze(1)\n",
    "\n",
    "        rm_mask = (rm_mask_batch.unsqueeze(-1)&rm_mask_batch.unsqueeze(-2)) # create dimension in 1 and 2 separately and do a broadcasting and operation\n",
    "        return rm_mask.to(device), bn_mask.to(device)\n",
    "    \n",
    "    def forward(self, rm_batch, bn_batch, rm_mask_batch, bn_mask_batch):\n",
    "        rm_mask_padding, bn_mask_causal = self.gen_attn_mask(rm_mask_batch=rm_mask_batch, bn_mask_batch=bn_mask_batch)\n",
    "        rm_embedding = self.dropout1(self.positional_embedding(self.rm_embedding(rm_batch)))\n",
    "        bn_embedding = self.dropout2(self.positional_embedding(self.bn_embedding(bn_batch)))\n",
    "\n",
    "        enc_output = rm_embedding\n",
    "        for enc_block in self.encoder_layers:\n",
    "            enc_output = enc_block(enc_output, mask=rm_mask_padding)\n",
    "        \n",
    "        dec_output = bn_embedding\n",
    "        for dec_layer in self.decoder_layers:\n",
    "            dec_output = dec_layer(dec_output, enc_output, src_mask=rm_mask_padding, tgt_mask = bn_mask_causal)\n",
    "        \n",
    "        output = self.final_project(dec_output)\n",
    "\n",
    "        return output\n",
    "    \n",
    "    def transliterate(self, rm_text, max_output_len=max_seq_len, stop_idx = 3):\n",
    "        \"\"\"Can be used for one sentence\"\"\"\n",
    "        self.eval()\n",
    "        with torch.no_grad():\n",
    "            rm_tokens = [[rm_lookup['<BOS>'], *tokens] for tokens in prepare_data([rm_text.lower()], rm_lookup)]\n",
    "            \n",
    "            tokens = torch.tensor(rm_tokens, dtype=torch.long, device=device)\n",
    "            rm_mask = None # one sentence, no padding mask needed to ignore\n",
    "\n",
    "            enc_out = self.positional_embedding(self.rm_embedding(tokens))\n",
    "            for enc_block in self.encoder_layers:\n",
    "                enc_out = enc_block(enc_out, mask=rm_mask)\n",
    "            \n",
    "            bn_tokens = [bn_lookup['<BOS>']]\n",
    "            for i in range(max_output_len):\n",
    "                # print(bn_tokens)\n",
    "                bn_token_tensor = torch.tensor([bn_tokens[-256:]], dtype=torch.long, device=device) # convert to 2D tensor\n",
    "                bn_out = self.positional_embedding(self.bn_embedding(bn_token_tensor))\n",
    "                \n",
    "                B, T = bn_token_tensor.shape\n",
    "                bn_causal_mask = torch.tril(torch.ones(B, T, T)).type(torch.long).to(device)\n",
    "\n",
    "                for dec_block in self.decoder_layers:\n",
    "                    bn_out = dec_block(bn_out, enc_out, src_mask = None, tgt_mask = bn_causal_mask)\n",
    "                output = self.final_project(bn_out[:, -1:, :]) # only project the last generated token\n",
    "                idxs = output.argmax(dim=-1) # B, T\n",
    "                last_predicted_idx = idxs[0,-1].item()\n",
    "                bn_tokens.append(last_predicted_idx)\n",
    "                if last_predicted_idx==bn_lookup['<EOS>']:\n",
    "                    break\n",
    "        \n",
    "        text_gen = idx2tokens(bn_tokens, bn_idx2chr)\n",
    "        return \"\".join(text_gen)\n"
   ]
  },
  {
   "cell_type": "markdown",
   "metadata": {},
   "source": [
    "# 5. Defining Hyper Parameters and Model Instance"
   ]
  },
  {
   "cell_type": "code",
   "execution_count": 79,
   "metadata": {
    "execution": {
     "iopub.execute_input": "2025-05-09T15:49:30.769151Z",
     "iopub.status.busy": "2025-05-09T15:49:30.768883Z",
     "iopub.status.idle": "2025-05-09T15:49:30.773444Z",
     "shell.execute_reply": "2025-05-09T15:49:30.772534Z",
     "shell.execute_reply.started": "2025-05-09T15:49:30.769133Z"
    },
    "trusted": true
   },
   "outputs": [],
   "source": [
    "rm_vocab_size = len(rm_lookup)\n",
    "bn_vocab_size = len(bn_lookup)\n",
    "num_heads=8\n",
    "d_k = d_model//num_heads\n",
    "dropout = 0.3\n",
    "lr = 0.001 # for now ignoring the LR Scheduler\n",
    "betas = (0.9, 0.98)\n",
    "eps = 1e-9\n",
    "epochs = 20"
   ]
  },
  {
   "cell_type": "code",
   "execution_count": 59,
   "metadata": {
    "execution": {
     "iopub.execute_input": "2025-05-09T14:14:05.119316Z",
     "iopub.status.busy": "2025-05-09T14:14:05.119086Z",
     "iopub.status.idle": "2025-05-09T14:14:05.176164Z",
     "shell.execute_reply": "2025-05-09T14:14:05.175681Z",
     "shell.execute_reply.started": "2025-05-09T14:14:05.119293Z"
    },
    "trusted": true
   },
   "outputs": [],
   "source": [
    "transformer = Transformer(rm_vocab_size=rm_vocab_size, bn_vocab_size=bn_vocab_size, d_model=d_model, \n",
    "                          max_seq_len=max_seq_len, n_enc_layer=6, n_dec_layer=6, d_k=d_k, n_heads=num_heads, dropout=dropout).to(device)"
   ]
  },
  {
   "cell_type": "code",
   "execution_count": 60,
   "metadata": {
    "execution": {
     "iopub.execute_input": "2025-05-09T14:14:05.176924Z",
     "iopub.status.busy": "2025-05-09T14:14:05.176741Z",
     "iopub.status.idle": "2025-05-09T14:14:05.182426Z",
     "shell.execute_reply": "2025-05-09T14:14:05.181768Z",
     "shell.execute_reply.started": "2025-05-09T14:14:05.176910Z"
    },
    "trusted": true
   },
   "outputs": [
    {
     "data": {
      "text/plain": [
       "Transformer(\n",
       "  (rm_embedding): RMEmbedding(\n",
       "    (embedding_table): Embedding(101, 128)\n",
       "  )\n",
       "  (bn_embedding): BenEmbedding(\n",
       "    (embedding_table): Embedding(112, 128)\n",
       "  )\n",
       "  (positional_embedding): PositionalEmbedding()\n",
       "  (dropout1): Dropout(p=0.3, inplace=False)\n",
       "  (dropout2): Dropout(p=0.3, inplace=False)\n",
       "  (encoder_layers): ModuleList(\n",
       "    (0-5): 6 x EncoderBlock(\n",
       "      (self_attn): MultiHeadAttention(\n",
       "        (W_q): Linear(in_features=128, out_features=128, bias=False)\n",
       "        (W_k): Linear(in_features=128, out_features=128, bias=False)\n",
       "        (W_v): Linear(in_features=128, out_features=128, bias=False)\n",
       "        (W_o): Linear(in_features=128, out_features=128, bias=False)\n",
       "        (attn): ScaledDotProductAttention()\n",
       "      )\n",
       "      (add_n_norm1): AddAndLayerNorm(\n",
       "        (lmn): LayerNorm((128,), eps=1e-05, elementwise_affine=True)\n",
       "      )\n",
       "      (add_n_norm2): AddAndLayerNorm(\n",
       "        (lmn): LayerNorm((128,), eps=1e-05, elementwise_affine=True)\n",
       "      )\n",
       "      (ff): PositionWiseFeedForward(\n",
       "        (ff): Sequential(\n",
       "          (0): Linear(in_features=128, out_features=512, bias=True)\n",
       "          (1): ReLU(inplace=True)\n",
       "          (2): Linear(in_features=512, out_features=128, bias=True)\n",
       "        )\n",
       "      )\n",
       "      (dropout1): Dropout(p=0.3, inplace=False)\n",
       "      (dropout2): Dropout(p=0.3, inplace=False)\n",
       "    )\n",
       "  )\n",
       "  (decoder_layers): ModuleList(\n",
       "    (0-5): 6 x DecoderBlock(\n",
       "      (self_attn): MultiHeadAttention(\n",
       "        (W_q): Linear(in_features=128, out_features=128, bias=False)\n",
       "        (W_k): Linear(in_features=128, out_features=128, bias=False)\n",
       "        (W_v): Linear(in_features=128, out_features=128, bias=False)\n",
       "        (W_o): Linear(in_features=128, out_features=128, bias=False)\n",
       "        (attn): ScaledDotProductAttention()\n",
       "      )\n",
       "      (add_n_norm1): AddAndLayerNorm(\n",
       "        (lmn): LayerNorm((128,), eps=1e-05, elementwise_affine=True)\n",
       "      )\n",
       "      (cross_attn): MultiHeadAttention(\n",
       "        (W_q): Linear(in_features=128, out_features=128, bias=False)\n",
       "        (W_k): Linear(in_features=128, out_features=128, bias=False)\n",
       "        (W_v): Linear(in_features=128, out_features=128, bias=False)\n",
       "        (W_o): Linear(in_features=128, out_features=128, bias=False)\n",
       "        (attn): ScaledDotProductAttention()\n",
       "      )\n",
       "      (add_n_norm2): AddAndLayerNorm(\n",
       "        (lmn): LayerNorm((128,), eps=1e-05, elementwise_affine=True)\n",
       "      )\n",
       "      (ff): PositionWiseFeedForward(\n",
       "        (ff): Sequential(\n",
       "          (0): Linear(in_features=128, out_features=512, bias=True)\n",
       "          (1): ReLU(inplace=True)\n",
       "          (2): Linear(in_features=512, out_features=128, bias=True)\n",
       "        )\n",
       "      )\n",
       "      (add_n_norm3): AddAndLayerNorm(\n",
       "        (lmn): LayerNorm((128,), eps=1e-05, elementwise_affine=True)\n",
       "      )\n",
       "      (dropout): Dropout(p=0.3, inplace=False)\n",
       "    )\n",
       "  )\n",
       "  (final_project): Sequential(\n",
       "    (0): Linear(in_features=128, out_features=112, bias=True)\n",
       "  )\n",
       ")"
      ]
     },
     "execution_count": 60,
     "metadata": {},
     "output_type": "execute_result"
    }
   ],
   "source": [
    "transformer"
   ]
  },
  {
   "cell_type": "code",
   "execution_count": 61,
   "metadata": {
    "execution": {
     "iopub.execute_input": "2025-05-09T14:14:05.183463Z",
     "iopub.status.busy": "2025-05-09T14:14:05.183279Z",
     "iopub.status.idle": "2025-05-09T14:14:05.193798Z",
     "shell.execute_reply": "2025-05-09T14:14:05.193138Z",
     "shell.execute_reply.started": "2025-05-09T14:14:05.183444Z"
    },
    "trusted": true
   },
   "outputs": [],
   "source": [
    "# rm_batch.device"
   ]
  },
  {
   "cell_type": "code",
   "execution_count": 62,
   "metadata": {
    "execution": {
     "iopub.execute_input": "2025-05-09T14:14:05.194720Z",
     "iopub.status.busy": "2025-05-09T14:14:05.194492Z",
     "iopub.status.idle": "2025-05-09T14:14:05.205749Z",
     "shell.execute_reply": "2025-05-09T14:14:05.205150Z",
     "shell.execute_reply.started": "2025-05-09T14:14:05.194700Z"
    },
    "trusted": true
   },
   "outputs": [],
   "source": [
    "# y = transformer(rm_batch, bn_batch[:, :256], rm_mask_padding, bn_mask_batch[:, :256])"
   ]
  },
  {
   "cell_type": "code",
   "execution_count": 63,
   "metadata": {
    "execution": {
     "iopub.execute_input": "2025-05-09T14:14:05.206974Z",
     "iopub.status.busy": "2025-05-09T14:14:05.206761Z",
     "iopub.status.idle": "2025-05-09T14:14:05.219227Z",
     "shell.execute_reply": "2025-05-09T14:14:05.218569Z",
     "shell.execute_reply.started": "2025-05-09T14:14:05.206934Z"
    },
    "trusted": true
   },
   "outputs": [],
   "source": [
    "# y.shape"
   ]
  },
  {
   "cell_type": "code",
   "execution_count": 64,
   "metadata": {
    "execution": {
     "iopub.execute_input": "2025-05-09T14:14:05.220321Z",
     "iopub.status.busy": "2025-05-09T14:14:05.219933Z",
     "iopub.status.idle": "2025-05-09T14:14:06.709513Z",
     "shell.execute_reply": "2025-05-09T14:14:06.708789Z",
     "shell.execute_reply.started": "2025-05-09T14:14:05.220305Z"
    },
    "trusted": true
   },
   "outputs": [
    {
     "data": {
      "text/plain": [
       "'<BOS>৭থ<PAD>ধ?রঐজ।–গততততততততততততততততততততততততততততততততততততততততততততততততততততততততততততততততততততততততততততততততততততততততততততততততততততততততততততততততততততততততততততততততততততততততততততততততততততততততততততততততততততততততততততততততততততততততততততততততততততততততততততততততততততততততততততততততততততততততততততততততততততত'"
      ]
     },
     "execution_count": 64,
     "metadata": {},
     "output_type": "execute_result"
    }
   ],
   "source": [
    "transformer.transliterate('Ami tomake valobasi na!!', max_output_len=256, stop_idx=3)"
   ]
  },
  {
   "cell_type": "markdown",
   "metadata": {},
   "source": [
    "# 6. Loss Function and Optimizer Definition"
   ]
  },
  {
   "cell_type": "code",
   "execution_count": 65,
   "metadata": {
    "execution": {
     "iopub.execute_input": "2025-05-09T14:14:06.710690Z",
     "iopub.status.busy": "2025-05-09T14:14:06.710368Z",
     "iopub.status.idle": "2025-05-09T14:14:08.913995Z",
     "shell.execute_reply": "2025-05-09T14:14:08.913261Z",
     "shell.execute_reply.started": "2025-05-09T14:14:06.710670Z"
    },
    "trusted": true
   },
   "outputs": [],
   "source": [
    "optimizer = torch.optim.Adam(transformer.parameters(), lr=lr, betas=betas, eps=eps)\n",
    "loss_fn = nn.CrossEntropyLoss(ignore_index=0) # ignore padding index for calculating the loss"
   ]
  },
  {
   "cell_type": "code",
   "execution_count": 66,
   "metadata": {
    "execution": {
     "iopub.execute_input": "2025-05-09T14:14:08.915430Z",
     "iopub.status.busy": "2025-05-09T14:14:08.915026Z",
     "iopub.status.idle": "2025-05-09T14:14:08.918662Z",
     "shell.execute_reply": "2025-05-09T14:14:08.917920Z",
     "shell.execute_reply.started": "2025-05-09T14:14:08.915405Z"
    },
    "trusted": true
   },
   "outputs": [],
   "source": [
    "# bn_batch.type()"
   ]
  },
  {
   "cell_type": "code",
   "execution_count": 67,
   "metadata": {
    "execution": {
     "iopub.execute_input": "2025-05-09T14:14:08.919814Z",
     "iopub.status.busy": "2025-05-09T14:14:08.919563Z",
     "iopub.status.idle": "2025-05-09T14:14:08.935875Z",
     "shell.execute_reply": "2025-05-09T14:14:08.935314Z",
     "shell.execute_reply.started": "2025-05-09T14:14:08.919797Z"
    },
    "trusted": true
   },
   "outputs": [],
   "source": [
    "# loss_fn(y.view(-1, bn_vocab_size), (bn_batch[:, 1:]).flatten().type(torch.long))"
   ]
  },
  {
   "cell_type": "code",
   "execution_count": 68,
   "metadata": {
    "execution": {
     "iopub.execute_input": "2025-05-09T14:14:08.936968Z",
     "iopub.status.busy": "2025-05-09T14:14:08.936489Z",
     "iopub.status.idle": "2025-05-09T14:14:08.948215Z",
     "shell.execute_reply": "2025-05-09T14:14:08.947551Z",
     "shell.execute_reply.started": "2025-05-09T14:14:08.936917Z"
    },
    "trusted": true
   },
   "outputs": [],
   "source": [
    "# (bn_batch[:, 1:]).flatten()"
   ]
  },
  {
   "cell_type": "code",
   "execution_count": 69,
   "metadata": {
    "execution": {
     "iopub.execute_input": "2025-05-09T14:14:08.949335Z",
     "iopub.status.busy": "2025-05-09T14:14:08.948928Z",
     "iopub.status.idle": "2025-05-09T14:14:08.960935Z",
     "shell.execute_reply": "2025-05-09T14:14:08.960229Z",
     "shell.execute_reply.started": "2025-05-09T14:14:08.949314Z"
    },
    "trusted": true
   },
   "outputs": [],
   "source": [
    "def accuracy(y_true, y_pred):\n",
    "    \"\"\"use argmax to the logits from model before passing it.\n",
    "    y_true : (B, T), y_pred : (B, T)\"\"\"\n",
    "    equality = (y_true==y_pred).float()\n",
    "    mean = torch.mean(equality, dim=1)\n",
    "    mean = mean.mean(dim=0)\n",
    "    return mean"
   ]
  },
  {
   "cell_type": "code",
   "execution_count": 78,
   "metadata": {
    "execution": {
     "iopub.execute_input": "2025-05-09T15:49:23.117623Z",
     "iopub.status.busy": "2025-05-09T15:49:23.117077Z",
     "iopub.status.idle": "2025-05-09T15:49:23.121205Z",
     "shell.execute_reply": "2025-05-09T15:49:23.120562Z",
     "shell.execute_reply.started": "2025-05-09T15:49:23.117600Z"
    },
    "trusted": true
   },
   "outputs": [],
   "source": [
    "texts = [\n",
    "    \"Tumi amake rokto dao, ami tomake swadhinota debo.\",\n",
    "    \"Makhon kumar onke 100 te 98 peyeche.\",\n",
    "    \"Ami tomar bhalobasha chai, kichu beshi na.\",\n",
    "    \"Ei poth cholte cholte raat hoye gelo.\",\n",
    "    \"Shobuj paharer gobhire ekta golpo lukiye ache.\",\n",
    "    \"Kalke amar porikkha, kintu ami ekhono pori nai.\",\n",
    "    \"Ma bollo barite deri kore ashte hobe na.\"\n",
    "]"
   ]
  },
  {
   "cell_type": "markdown",
   "metadata": {},
   "source": [
    "# 7. Training Loop and Training Time Example Evaluation"
   ]
  },
  {
   "cell_type": "code",
   "execution_count": 80,
   "metadata": {
    "execution": {
     "iopub.execute_input": "2025-05-09T15:49:36.262311Z",
     "iopub.status.busy": "2025-05-09T15:49:36.262041Z",
     "iopub.status.idle": "2025-05-09T15:57:27.305504Z",
     "shell.execute_reply": "2025-05-09T15:57:27.304745Z",
     "shell.execute_reply.started": "2025-05-09T15:49:36.262292Z"
    },
    "trusted": true
   },
   "outputs": [
    {
     "name": "stdout",
     "output_type": "stream",
     "text": [
      "Epoch: 1/20\n"
     ]
    },
    {
     "name": "stderr",
     "output_type": "stream",
     "text": [
      "100%|██████████| 32/32 [00:19<00:00,  1.63it/s]\n"
     ]
    },
    {
     "name": "stdout",
     "output_type": "stream",
     "text": [
      "TRAIN: Mean loss: 0.1429974644851464, Mean Accuracy: 0.13554999691533756\n"
     ]
    },
    {
     "name": "stderr",
     "output_type": "stream",
     "text": [
      "100%|██████████| 8/8 [00:02<00:00,  3.61it/s]\n"
     ]
    },
    {
     "name": "stdout",
     "output_type": "stream",
     "text": [
      "TEST: Mean loss: 0.5132602936850337, Mean Accuracy: 0.12622021662141986\n",
      "<BOS>তুমি আমাকে রুট দেও, আমি তোকমাধা সাইনা দেবো। <EOS>\n",
      "<BOS>মাখন কমার অনেক ১০০ টি৩ ৯৮ পেয়েছে।<EOS>\n",
      "<BOS>আমি তোমার ভালোবাসা চাই, কিছু বেশি না। <EOS>\n",
      "<BOS>এই পোট চলতে চলতে রাহাতে গেলে গেলো।<EOS>\n",
      "<BOS>সবুঝাও পারের গবীর একটা গুল্প লিখে আছে।<EOS>\n",
      "<BOS>কালকে আমার পরিখা, কিন্তু আমি এখনো পরি নাই।<EOS>\n",
      "<BOS>মা বললি বাড়িট দেরি করে আসতে হবে না।<EOS>\n",
      "Epoch: 2/20\n"
     ]
    },
    {
     "name": "stderr",
     "output_type": "stream",
     "text": [
      "100%|██████████| 32/32 [00:19<00:00,  1.67it/s]\n"
     ]
    },
    {
     "name": "stdout",
     "output_type": "stream",
     "text": [
      "TRAIN: Mean loss: 0.13863072418919453, Mean Accuracy: 0.13573340720289595\n"
     ]
    },
    {
     "name": "stderr",
     "output_type": "stream",
     "text": [
      "100%|██████████| 8/8 [00:02<00:00,  3.57it/s]\n"
     ]
    },
    {
     "name": "stdout",
     "output_type": "stream",
     "text": [
      "TEST: Mean loss: 0.5121532365114627, Mean Accuracy: 0.1262046215003598\n",
      "<BOS>টুমি আমাকে রুট দাও, আমি তোকে সোয়াধানো ডেশনস্ট দেবো।<EOS>\n",
      "<BOS>মাখন কোমার অনেক ১০০ টে ৯৮ পেয়েছে।<EOS>\n",
      "<BOS>আমি তোমার ভালোবাসা চাই, কিছু বেশি না।<EOS>\n",
      "<BOS>এই পোস্ট চলতে চলতে রাহাতে গেলে গেলো।<EOS>\n",
      "<BOS>সবুঝুজ পারের গবীর একটা গত গুলপ লিখে আছে।<EOS>\n",
      "<BOS>কালকে আমার পরিখা, কিন্তু আমি এখনও পরি নাই।<EOS>\n",
      "<BOS>মা বললো বারিট দেরি করে আসতে হবে না।<EOS>\n",
      "Epoch: 3/20\n"
     ]
    },
    {
     "name": "stderr",
     "output_type": "stream",
     "text": [
      "100%|██████████| 32/32 [00:19<00:00,  1.64it/s]\n"
     ]
    },
    {
     "name": "stdout",
     "output_type": "stream",
     "text": [
      "TRAIN: Mean loss: 0.14465937164279966, Mean Accuracy: 0.1354699987586919\n"
     ]
    },
    {
     "name": "stderr",
     "output_type": "stream",
     "text": [
      "100%|██████████| 8/8 [00:02<00:00,  3.56it/s]\n"
     ]
    },
    {
     "name": "stdout",
     "output_type": "stream",
     "text": [
      "TEST: Mean loss: 0.5340103692637233, Mean Accuracy: 0.12544832225450261\n",
      "<BOS>তুমি আমাকে রুট দাও, আমি তোকাম সাধাওয়না দেন।বো <EOS>\n",
      "<BOS>মাখন কুমার অনেক ১০০ টে ৯৮ পেয়েছে।<EOS>\n",
      "<BOS>আমি তোমার ভালোবাসা চাই, কিছু বেশি না। <EOS>\n",
      "<BOS>এই পোট চলতে চলতে রাহাতে গেল গেলো।<EOS>\n",
      "<BOS>সবুঝুজ পারের গবীর একটা গেল্প কি আছে।<EOS>\n",
      "<BOS>কালকে আমার পরিকা, কিন্তু আমি এখনো পরি নাই।<EOS>\n",
      "<BOS>মা বললো ভারিট দেরি করে আসতে হবে না।<EOS>\n",
      "Epoch: 4/20\n"
     ]
    },
    {
     "name": "stderr",
     "output_type": "stream",
     "text": [
      "100%|██████████| 32/32 [00:19<00:00,  1.63it/s]\n"
     ]
    },
    {
     "name": "stdout",
     "output_type": "stream",
     "text": [
      "TRAIN: Mean loss: 0.13953478565880587, Mean Accuracy: 0.13560755653576656\n"
     ]
    },
    {
     "name": "stderr",
     "output_type": "stream",
     "text": [
      "100%|██████████| 8/8 [00:02<00:00,  3.63it/s]\n"
     ]
    },
    {
     "name": "stdout",
     "output_type": "stream",
     "text": [
      "TEST: Mean loss: 0.5704283447798617, Mean Accuracy: 0.1251247504097735\n",
      "<BOS>টুমি আমাকে রুট দেও, আমি তোকামা সহাধানো দেন। <EOS>\n",
      "<BOS>মাখন কমুরার অনেক ১০০০ টে পেয়েছে।<EOS>\n",
      "<BOS>আমি তোমার ভালোবাসা চাই, কিছু বেশি না।<EOS>\n",
      "<BOS>এই পোট চলতে চলতে রাহাতে গেল গেল<EOS>\n",
      "<BOS>সবুঝাজ পাড়ের গবেরী একটা গুলো লিখে আছে।<EOS>\n",
      "<BOS>কালকে আমার পরিকা, কিন্তু আমি এখনো পরি নাই।<EOS>\n",
      "<BOS>মা বললো ভারিটে ডেরি করে আসতে হবে না।<EOS>\n",
      "Epoch: 5/20\n"
     ]
    },
    {
     "name": "stderr",
     "output_type": "stream",
     "text": [
      "100%|██████████| 32/32 [00:19<00:00,  1.64it/s]\n"
     ]
    },
    {
     "name": "stdout",
     "output_type": "stream",
     "text": [
      "TRAIN: Mean loss: 0.13933224709226297, Mean Accuracy: 0.1357051152196321\n"
     ]
    },
    {
     "name": "stderr",
     "output_type": "stream",
     "text": [
      "100%|██████████| 8/8 [00:02<00:00,  3.63it/s]\n"
     ]
    },
    {
     "name": "stdout",
     "output_type": "stream",
     "text": [
      "TEST: Mean loss: 0.5541692711635978, Mean Accuracy: 0.12540543885407096\n",
      "<BOS>টিমি আমাকে রুট দাও, আমি তোকামা সাধাইনো ডেবো।<EOS>\n",
      "<BOS>মাখন কুমার অনেক ১০০ তে ৯৮ পেয়েছে।<EOS>\n",
      "<BOS>আমি তোমার ভালোবাসা চাই, কিছু বেশি না।<EOS>\n",
      "<BOS>এই পোথ ছলতে চলতে রাহাতে গেল <EOS>\n",
      "<BOS>সবুঝে পাড়ার গবীরে একটা গুলো লিখে আছে।<EOS>\n",
      "<BOS>কালকে আমার পরিকা, কিন্তু আমি এখনো পরি নাই।<EOS>\n",
      "<BOS>মে বললো বারিট দেরি করে আসতে হবে না। <EOS>\n",
      "Epoch: 6/20\n"
     ]
    },
    {
     "name": "stderr",
     "output_type": "stream",
     "text": [
      "100%|██████████| 32/32 [00:19<00:00,  1.64it/s]\n"
     ]
    },
    {
     "name": "stdout",
     "output_type": "stream",
     "text": [
      "TRAIN: Mean loss: 0.13916340807674232, Mean Accuracy: 0.1356817010890592\n"
     ]
    },
    {
     "name": "stderr",
     "output_type": "stream",
     "text": [
      "100%|██████████| 8/8 [00:02<00:00,  3.59it/s]\n"
     ]
    },
    {
     "name": "stdout",
     "output_type": "stream",
     "text": [
      "TEST: Mean loss: 0.6134970348752188, Mean Accuracy: 0.12365503311752084\n",
      "<BOS>তুমি আমাকে রুট দাও, আমি তোকামাধানো দেখতা দেই। <EOS>\n",
      "<BOS>মাখন কমার অনেক ১০০ টা ৯$ পেয়েছে।<EOS>\n",
      "<BOS>আমি তোমার ভালোবাসা চাই, কিছু বেশি না।<EOS>\n",
      "<BOS>এই পোস্ট ছলতে চলতে রাহাতে গেল <EOS>\n",
      "<BOS>সবুঝু পারের গবেরী একটা গুলো লাইয়ে আছে।<EOS>\n",
      "<BOS>কালকে আমার পরিখা, কিন্তু আমি এখনো পরি নাই।<EOS>\n",
      "<BOS>মা বললো বারিট দেরি করে আসতে হবে না।<EOS>\n",
      "Epoch: 7/20\n"
     ]
    },
    {
     "name": "stderr",
     "output_type": "stream",
     "text": [
      "100%|██████████| 32/32 [00:19<00:00,  1.64it/s]\n"
     ]
    },
    {
     "name": "stdout",
     "output_type": "stream",
     "text": [
      "TRAIN: Mean loss: 0.15300039280872127, Mean Accuracy: 0.1350504964009508\n"
     ]
    },
    {
     "name": "stderr",
     "output_type": "stream",
     "text": [
      "100%|██████████| 8/8 [00:02<00:00,  3.61it/s]\n"
     ]
    },
    {
     "name": "stdout",
     "output_type": "stream",
     "text": [
      "TEST: Mean loss: 0.5705899715185642, Mean Accuracy: 0.12416183219817346\n",
      "<BOS>টিউমি আমাকে রুট দেও, আমি তোকা সহাধাইন ডাবন। <EOS>\n",
      "<BOS>মাখন কমার ওনেকে ১০০০ টে পেয়েছে।<EOS>\n",
      "<BOS>আমি তোমার ভালোবাসা চাই, কিছু বেশি না। <EOS>\n",
      "<BOS>এই পোস্ট ছলতে চলতে রেই হয়ে গেল ।<EOS>\n",
      "<BOS>সবুঝাওয়ার পারের ঘবিরে একটা গুল্প লিখে আছে।<EOS>\n",
      "<BOS>কালকে আমার পরিখা, কিন্তু আমি এখনো পরি নাই।<EOS>\n",
      "<BOS>মা বললো বারিট দেরি করে আসতে হবে না।<EOS>\n",
      "Epoch: 8/20\n"
     ]
    },
    {
     "name": "stderr",
     "output_type": "stream",
     "text": [
      "100%|██████████| 32/32 [00:19<00:00,  1.64it/s]\n"
     ]
    },
    {
     "name": "stdout",
     "output_type": "stream",
     "text": [
      "TRAIN: Mean loss: 0.16005148667168545, Mean Accuracy: 0.1347500156466063\n"
     ]
    },
    {
     "name": "stderr",
     "output_type": "stream",
     "text": [
      "100%|██████████| 8/8 [00:02<00:00,  3.55it/s]\n"
     ]
    },
    {
     "name": "stdout",
     "output_type": "stream",
     "text": [
      "TEST: Mean loss: 0.5062519711648633, Mean Accuracy: 0.12602919114088107\n",
      "<BOS>তুমি আমাকে রুট দেও, আমি তোকাম সাধানো তা দেখবো।<EOS>\n",
      "<BOS>মাখন কোমার অনেক ১০০০ টা ৯৮ পেয়েছে।<EOS>\n",
      "<BOS>আমি তোমার ভালোবাসা চাই, কিছু বেশি না।<EOS>\n",
      "<BOS>এই পোস্ট চলতে চলতে রাহয়ে গেলো।<EOS>\n",
      "<BOS>সবুঝু পাহারের গবৈরে একটা গুলো লিখেই আছে।<EOS>\n",
      "<BOS>কালকে আমার পরিখা, কিন্তু আমি এখনো পরি নাই।<EOS>\n",
      "<BOS>মা বললো বাড়িটে দেরি করে আসতে হবে না।<EOS>\n",
      "Epoch: 9/20\n"
     ]
    },
    {
     "name": "stderr",
     "output_type": "stream",
     "text": [
      "100%|██████████| 32/32 [00:19<00:00,  1.63it/s]\n"
     ]
    },
    {
     "name": "stdout",
     "output_type": "stream",
     "text": [
      "TRAIN: Mean loss: 0.17156900516473925, Mean Accuracy: 0.1343188061938062\n"
     ]
    },
    {
     "name": "stderr",
     "output_type": "stream",
     "text": [
      "100%|██████████| 8/8 [00:02<00:00,  3.61it/s]\n"
     ]
    },
    {
     "name": "stdout",
     "output_type": "stream",
     "text": [
      "TEST: Mean loss: 0.5217707125607602, Mean Accuracy: 0.12558476855892858\n",
      "<BOS>তুমি আমাকে রুট দেও, আমি তোকমা সাধানো স্দিতা দেবো। <EOS>\n",
      "<BOS>মাখন কমার অনেক ১০০০ টে ৯জিপি পেয়েছে।<EOS>\n",
      "<BOS>আমি তোমার ভালোবাসা চাই, কিছু বেশি না। <EOS>\n",
      "<BOS>এই পোস্ট ছলতে চলতে রাহয়ে গেল গেলো। <EOS>\n",
      "<BOS>সবুঝু পাহারের গবেরে একটা গুল্প লিখে আছে।<EOS>\n",
      "<BOS>কালকে আমার পরিকা, কিন্তু আমি এখনো পরি নাই।<EOS>\n",
      "<BOS>মা বললু বাড়িট দেরি করে আসতে হবে না।<EOS>\n",
      "Epoch: 10/20\n"
     ]
    },
    {
     "name": "stderr",
     "output_type": "stream",
     "text": [
      "100%|██████████| 32/32 [00:19<00:00,  1.64it/s]\n"
     ]
    },
    {
     "name": "stdout",
     "output_type": "stream",
     "text": [
      "TRAIN: Mean loss: 0.1502629106977841, Mean Accuracy: 0.13518902975749542\n"
     ]
    },
    {
     "name": "stderr",
     "output_type": "stream",
     "text": [
      "100%|██████████| 8/8 [00:02<00:00,  3.60it/s]\n"
     ]
    },
    {
     "name": "stdout",
     "output_type": "stream",
     "text": [
      "TEST: Mean loss: 0.4958675510274198, Mean Accuracy: 0.12637225590542167\n",
      "<BOS>তুমি আমাকে রুট দেও, আমি তোকমা সাধানোইন ডাটা দেবো।<EOS>\n",
      "<BOS>মাখন কমার অনেক ১০০ টে ৯৮ পেয়েছে।<EOS>\n",
      "<BOS>আমি তোমার ভালোবাসা চাই, কিছু বেশি না। <EOS>\n",
      "<BOS>এই পোস্ট চলতে চলতে রাহাতে হয়ে গেলো। <EOS>\n",
      "<BOS>সবুঝু পাহারের গবীর একটা গুলো লিখে আছে।<EOS>\n",
      "<BOS>কালকে আমার পরিখা, কিন্তু আমি এখনো পরি নাই।<EOS>\n",
      "<BOS>মা বললে বারিট দেরি করে আসতে হবে না। <EOS>\n",
      "Epoch: 11/20\n"
     ]
    },
    {
     "name": "stderr",
     "output_type": "stream",
     "text": [
      "100%|██████████| 32/32 [00:19<00:00,  1.64it/s]\n"
     ]
    },
    {
     "name": "stdout",
     "output_type": "stream",
     "text": [
      "TRAIN: Mean loss: 0.13468278733107236, Mean Accuracy: 0.13592462223786098\n"
     ]
    },
    {
     "name": "stderr",
     "output_type": "stream",
     "text": [
      "100%|██████████| 8/8 [00:02<00:00,  3.62it/s]\n"
     ]
    },
    {
     "name": "stdout",
     "output_type": "stream",
     "text": [
      "TEST: Mean loss: 0.49117265733892096, Mean Accuracy: 0.12672701540464412\n",
      "<BOS>তুমি আমাকে রুট দেও, আমি তোকাম সাধানো ডাউনলোড দেবো।<EOS>\n",
      "<BOS>মাখন কমার অনেক ১০০০ টে ৯৮ পেয়েছে।<EOS>\n",
      "<BOS>আমি তোমার ভালোবাসা চাই, কিছু বেশি না।<EOS>\n",
      "<BOS>এই পোথ চলতে চলতে রাহাতে হয়ে গেলো। <EOS>\n",
      "<BOS>সবুঝা পারের গবীর একটা গুলো লোক লিয়ে আছে।<EOS>\n",
      "<BOS>কালকে আমার পরিকা, কিন্তু আমি এখনো পরি নাই।<EOS>\n",
      "<BOS>মা বললো বারিট দেরি করে আসতে হবে না। <EOS>\n",
      "Epoch: 12/20\n"
     ]
    },
    {
     "name": "stderr",
     "output_type": "stream",
     "text": [
      "100%|██████████| 32/32 [00:19<00:00,  1.64it/s]\n"
     ]
    },
    {
     "name": "stdout",
     "output_type": "stream",
     "text": [
      "TRAIN: Mean loss: 0.12161939122437776, Mean Accuracy: 0.13644265891848267\n"
     ]
    },
    {
     "name": "stderr",
     "output_type": "stream",
     "text": [
      "100%|██████████| 8/8 [00:02<00:00,  3.59it/s]\n"
     ]
    },
    {
     "name": "stdout",
     "output_type": "stream",
     "text": [
      "TEST: Mean loss: 0.4817134655283359, Mean Accuracy: 0.12687125846654354\n",
      "<BOS>তুমি আমাকে রুট দোকাও, আমি তোকামাধানো সাধাতে দেবো।<EOS>\n",
      "<BOS>মাখন কুমার অনেক ১০০ টে ৯৮ পেয়ে   পেয়েছে।<EOS>\n",
      "<BOS>আমি তোমার ভালোবাসা চাই, কিছু বেশি না।<EOS>\n",
      "<BOS>এই পোট চলতে চলতে রাহাতে গেয়েল গেলো।<EOS>\n",
      "<BOS>সবুজের পাহারের গবের একটা গুল্প লিখেয়া আছে।<EOS>\n",
      "<BOS>কালকে আমার পরিকা, কিন্তু আমি এখনো পরি নাই।<EOS>\n",
      "<BOS>মা বললো বারিট দেরি করে আসতে হবে না। <EOS>\n",
      "Epoch: 13/20\n"
     ]
    },
    {
     "name": "stderr",
     "output_type": "stream",
     "text": [
      "100%|██████████| 32/32 [00:19<00:00,  1.64it/s]\n"
     ]
    },
    {
     "name": "stdout",
     "output_type": "stream",
     "text": [
      "TRAIN: Mean loss: 0.11734993955293498, Mean Accuracy: 0.1366563124301193\n"
     ]
    },
    {
     "name": "stderr",
     "output_type": "stream",
     "text": [
      "100%|██████████| 8/8 [00:02<00:00,  3.61it/s]\n"
     ]
    },
    {
     "name": "stdout",
     "output_type": "stream",
     "text": [
      "TEST: Mean loss: 0.49020862014231803, Mean Accuracy: 0.12682057830863847\n",
      "<BOS>তুমি আমাকে রুট দেও, আমি তোকামা সাধানো ডাউনলোড। <EOS>\n",
      "<BOS>মাখন কমার অনেক ১০০ টে ৯$ পেয়েছে।<EOS>\n",
      "<BOS>আমি তোমার ভালোবাসা চাই, কিছু বেশি না।<EOS>\n",
      "<BOS>এই পোথা চলতে চলতে রাহতে হয়ে গেলো।<EOS>\n",
      "<BOS>সবুঝুজ পারের গবীর একটা গত গুল্প লিখেইয়া আছে।<EOS>\n",
      "<BOS>কালকে আমার পরিকা, কিন্তু আমি এখনো পরি নাই।<EOS>\n",
      "<BOS>মা বললে বাড়িট দেরি করে আসতে হবে না।<EOS>\n",
      "Epoch: 14/20\n"
     ]
    },
    {
     "name": "stderr",
     "output_type": "stream",
     "text": [
      "100%|██████████| 32/32 [00:19<00:00,  1.64it/s]\n"
     ]
    },
    {
     "name": "stdout",
     "output_type": "stream",
     "text": [
      "TRAIN: Mean loss: 0.12002832065899294, Mean Accuracy: 0.13662216688816126\n"
     ]
    },
    {
     "name": "stderr",
     "output_type": "stream",
     "text": [
      "100%|██████████| 8/8 [00:02<00:00,  3.58it/s]\n"
     ]
    },
    {
     "name": "stdout",
     "output_type": "stream",
     "text": [
      "TEST: Mean loss: 0.49598790946120985, Mean Accuracy: 0.1266412483360953\n",
      "<BOS>তুমি আমাকে রুট দেও, আমি তোকমা সুধানো দেখতা দিবো।<EOS>\n",
      "<BOS>মাখন কুমার অনেক ১০০০ টে ৯$ পেয়েছে।<EOS>\n",
      "<BOS>আমি তোমার ভালোবাসা চাই, কিছু বেশি না।<EOS>\n",
      "<BOS>এই পোথ ছলতে চলতে রাথায়ে গেল <EOS>\n",
      "<BOS>সবুঝে পাহারের গবীর একটা গুলো লাকি আছে।<EOS>\n",
      "<BOS>কালকে আমার পরিকা, কিন্তু আমি এখনো পরি নাই।<EOS>\n",
      "<BOS>মা বলললো বারিট দেরি করে আসতে হবে না।<EOS>\n",
      "Epoch: 15/20\n"
     ]
    },
    {
     "name": "stderr",
     "output_type": "stream",
     "text": [
      "100%|██████████| 32/32 [00:19<00:00,  1.64it/s]\n"
     ]
    },
    {
     "name": "stdout",
     "output_type": "stream",
     "text": [
      "TRAIN: Mean loss: 0.12191124085697916, Mean Accuracy: 0.13655777815934067\n"
     ]
    },
    {
     "name": "stderr",
     "output_type": "stream",
     "text": [
      "100%|██████████| 8/8 [00:02<00:00,  3.59it/s]\n"
     ]
    },
    {
     "name": "stdout",
     "output_type": "stream",
     "text": [
      "TEST: Mean loss: 0.508048101516065, Mean Accuracy: 0.12654768638387173\n",
      "<BOS>তুমি আমাকে রুট দেও, আমি তোকে সামাধানো ডাবডিটেবো।<EOS>\n",
      "<BOS>মাখন কুমার অনেক ১০০০ টা ৯$ পেয়েছে।<EOS>\n",
      "<BOS>আমি তোমার ভালোবাসা চাই, কিছু বেশি না।<EOS>\n",
      "<BOS>এই পোথ চলতে চলতে রেটাহয়ে গেলো।<EOS>\n",
      "<BOS>সবুঝুজ পাহারের গৈবের একটা গুলো লিখেইয়া আছে।<EOS>\n",
      "<BOS>কালকে আমার পরিকা,খানতু আমি এখনো পরি নাই।<EOS>\n",
      "<BOS>মা বললো ভারিতে ডেরি করে আসতাই হবে না।<EOS>\n",
      "Epoch: 16/20\n"
     ]
    },
    {
     "name": "stderr",
     "output_type": "stream",
     "text": [
      "100%|██████████| 32/32 [00:19<00:00,  1.63it/s]\n"
     ]
    },
    {
     "name": "stdout",
     "output_type": "stream",
     "text": [
      "TRAIN: Mean loss: 0.1225015051015369, Mean Accuracy: 0.13650509650324966\n"
     ]
    },
    {
     "name": "stderr",
     "output_type": "stream",
     "text": [
      "100%|██████████| 8/8 [00:02<00:00,  3.56it/s]\n"
     ]
    },
    {
     "name": "stdout",
     "output_type": "stream",
     "text": [
      "TEST: Mean loss: 0.513953025469523, Mean Accuracy: 0.12643463109543698\n",
      "<BOS>টুমি আমাকে রুট দাও, আমি তোকাম সওয়াধান তো দেবো।<EOS>\n",
      "<BOS>মাখন কমুমার অনেক ১০০ টি৩৯ পেয়ে পেছে।<EOS>\n",
      "<BOS>আমি তোমার ভালোবাসা চাই, কিছু বেশি না।<EOS>\n",
      "<BOS>এই পোথ চলতে চলতে রেআদা হয়ে গেল <EOS>\n",
      "<BOS>সবুঝের পাহার গবেরে একটা গুল্প লিখিয়ে আছে।<EOS>\n",
      "<BOS>কালকে আমার পরিকা, কিন্তু আমি এখনো পরি নাই।<EOS>\n",
      "<BOS>মা বললো বাড়িট দেরি করে আসতে হবে না।<EOS>\n",
      "Epoch: 17/20\n"
     ]
    },
    {
     "name": "stderr",
     "output_type": "stream",
     "text": [
      "100%|██████████| 32/32 [00:19<00:00,  1.63it/s]\n"
     ]
    },
    {
     "name": "stdout",
     "output_type": "stream",
     "text": [
      "TRAIN: Mean loss: 0.12374042055302567, Mean Accuracy: 0.1364153424551437\n"
     ]
    },
    {
     "name": "stderr",
     "output_type": "stream",
     "text": [
      "100%|██████████| 8/8 [00:02<00:00,  3.61it/s]\n"
     ]
    },
    {
     "name": "stdout",
     "output_type": "stream",
     "text": [
      "TEST: Mean loss: 0.5264070022129965, Mean Accuracy: 0.1259473237746252\n",
      "<BOS>তুমি আমাকে রুট দেও, আমি তোকাম সাধাও সহয়না দেবো দেবো।<EOS>\n",
      "<BOS>মাখন কমুরার অনেক ১০০ তে ৯$ পেয়ে পেয়েছে।<EOS>\n",
      "<BOS>আমি তোমার ভালোবাসা চাই, কিছু বেশি না। <EOS>\n",
      "<BOS>এই পোথ চলতে চলতে রেয়েট হয়ে গেলো। <EOS>\n",
      "<BOS>সবুজ পাহারের গবের একটা গত গুল্প লিখিয়ে আছে।<EOS>\n",
      "<BOS>কালকে আমার পরিকা, কিন্তু আমি এখনো পরি নাই।<EOS>\n",
      "<BOS>মা বললো বারিট দেরি করে আসতে হবে না।<EOS>\n",
      "Epoch: 18/20\n"
     ]
    },
    {
     "name": "stderr",
     "output_type": "stream",
     "text": [
      "100%|██████████| 32/32 [00:19<00:00,  1.64it/s]\n"
     ]
    },
    {
     "name": "stdout",
     "output_type": "stream",
     "text": [
      "TRAIN: Mean loss: 0.126429122614932, Mean Accuracy: 0.13629339413566666\n"
     ]
    },
    {
     "name": "stderr",
     "output_type": "stream",
     "text": [
      "100%|██████████| 8/8 [00:02<00:00,  3.62it/s]\n"
     ]
    },
    {
     "name": "stdout",
     "output_type": "stream",
     "text": [
      "TEST: Mean loss: 0.4962277119150181, Mean Accuracy: 0.1269141408854616\n",
      "<BOS>তুমি আমাকে রুট দেও, আমি তোকে সাধাওয়ারণ ডাটা দেবো।<EOS>\n",
      "<BOS>মাখন কমার অনেক ১০০০ টে ৯জিপি পেয়েছে।<EOS>\n",
      "<BOS>আমি তোমার ভালোবাসা চাই, কিছু বেশি না। <EOS>\n",
      "<BOS>এই পোথ চলতে চলতে রাহ হয়ে গেল ..<EOS>\n",
      "<BOS>সবুজ পাহারের গবেরে একটা গুল্প লাইক আছে।<EOS>\n",
      "<BOS>কালকে আমার পড়িকা, কিন্তু আমি এখনও পরি নাই।<EOS>\n",
      "<BOS>মা বলললো বারিট দেরি করে আসতে হবে না।<EOS>\n",
      "Epoch: 19/20\n"
     ]
    },
    {
     "name": "stderr",
     "output_type": "stream",
     "text": [
      "100%|██████████| 32/32 [00:19<00:00,  1.63it/s]\n"
     ]
    },
    {
     "name": "stdout",
     "output_type": "stream",
     "text": [
      "TRAIN: Mean loss: 0.11885340285155323, Mean Accuracy: 0.13673338378881003\n"
     ]
    },
    {
     "name": "stderr",
     "output_type": "stream",
     "text": [
      "100%|██████████| 8/8 [00:02<00:00,  3.61it/s]\n"
     ]
    },
    {
     "name": "stdout",
     "output_type": "stream",
     "text": [
      "TEST: Mean loss: 0.5066667565566575, Mean Accuracy: 0.12681667914171657\n",
      "<BOS>টিউমি আমাকে রুট দেও, আমি তোকামা সুধা নিতা দেবো।<EOS>\n",
      "<BOS>মাখন কমার অনেক ১০০ টে ৯জিপি পেয়েছে।<EOS>\n",
      "<BOS>আমি তোমার ভালোবাসা চাই, কিছু বেশি না। <EOS>\n",
      "<BOS>এই পোট চলতে চলতে রাহ হয়ে গেলো। <EOS>\n",
      "<BOS>সবুঝে পারের গবহইরে একটা গত গুল্প লিখে আছে।<EOS>\n",
      "<BOS>কালকে আমার পরিক্ষা, কিন্তু আমি এখনো পরি নাই।<EOS>\n",
      "<BOS>মা বললো বারিট দেরি করে আসতে হবে না। <EOS>\n",
      "Epoch: 20/20\n"
     ]
    },
    {
     "name": "stderr",
     "output_type": "stream",
     "text": [
      "100%|██████████| 32/32 [00:19<00:00,  1.63it/s]\n"
     ]
    },
    {
     "name": "stdout",
     "output_type": "stream",
     "text": [
      "TRAIN: Mean loss: 0.12005669479216491, Mean Accuracy: 0.13657533873121935\n"
     ]
    },
    {
     "name": "stderr",
     "output_type": "stream",
     "text": [
      "100%|██████████| 8/8 [00:02<00:00,  3.60it/s]\n"
     ]
    },
    {
     "name": "stdout",
     "output_type": "stream",
     "text": [
      "TEST: Mean loss: 0.53924678471274, Mean Accuracy: 0.1257913854724157\n",
      "<BOS>টামি আমাকে রুট দেও, আমি তোকাম সাধা নিত দে তবো।<EOS>\n",
      "<BOS>মাখন কমার অনেক ১০০০ টে ৯৮ পেয়েছে।<EOS>\n",
      "<BOS>আমি তোমার ভালোবাসা চাই, কিছু বেশি না। <EOS>\n",
      "<BOS>এই পোথ চলতে চলতে রাহ হয়ে গেলো। গেলো।<EOS>\n",
      "<BOS>সবুঝুজ পাহারের গবেরে একটা গুলো লাকিয়ে আছে।<EOS>\n",
      "<BOS>কালকে আমার পরিকা, কিন্তু আমি এখনো পরি নাই।<EOS>\n",
      "<BOS>মা বলললে বারিট দেরি করে আসতে হবে না।<EOS>\n"
     ]
    }
   ],
   "source": [
    "for i in range(epochs):\n",
    "    print(f\"Epoch: {i+1}/{epochs}\")\n",
    "    mean_loss = 0\n",
    "    mean_accuracy = 0\n",
    "    total_b = 0\n",
    "    transformer.train()\n",
    "    torch.cuda.empty_cache()\n",
    "    torch.cuda.ipc_collect()  # Releases inter-process memory (for multiprocessing)\n",
    "    for rm_batch, bn_batch, rm_mask_padding, bn_mask_batch in tqdm(train_data_loader):\n",
    "        rm_batch=rm_batch.to(device, non_blocking=True)\n",
    "        bn_batch=bn_batch.to(device, non_blocking=True)\n",
    "        rm_mask_padding=rm_mask_padding.to(device, non_blocking=True)\n",
    "        bn_mask_batch=bn_mask_batch.to(device, non_blocking=True)\n",
    "\n",
    "        # print(total_b)\n",
    "        B = rm_batch.shape[0]\n",
    "        optimizer.zero_grad()\n",
    "\n",
    "        bn_batch_in = bn_batch[:, :-1] # except the last step\n",
    "        bn_mask_batch_in = bn_mask_batch[:, :-1] # except the last step\n",
    "        bn_batch_out = bn_batch[:, 1:] # everything excep the first tokens\n",
    "        # bn_mask_batch_out = bn_mask_batch[:, 1:] # everything except the first step\n",
    "        bn_batch_out_pred = transformer(rm_batch, bn_batch_in, rm_mask_padding, bn_mask_batch_in)\n",
    "\n",
    "        loss_ = loss_fn(bn_batch_out_pred.view(-1, bn_vocab_size), bn_batch_out.flatten().type(torch.long))\n",
    "        accuracy_ = accuracy(bn_batch_out_pred.argmax(dim=-1), bn_batch_out).item()\n",
    "        \n",
    "        mean_loss += loss_.item()*B\n",
    "        mean_accuracy += accuracy_*B\n",
    "\n",
    "        loss_.backward()\n",
    "        optimizer.step()\n",
    "\n",
    "        total_b += B\n",
    "\n",
    "    print(f\"TRAIN: Mean loss: {mean_loss/total_b}, Mean Accuracy: {mean_accuracy/total_b}\")\n",
    "    mean_loss = 0\n",
    "    mean_accuracy = 0\n",
    "    total_b = 0\n",
    "    transformer.eval()\n",
    "    with torch.no_grad():\n",
    "        for rm_batch, bn_batch, rm_mask_padding, bn_mask_batch in tqdm(test_data_loader):\n",
    "            rm_batch=rm_batch.to(device, non_blocking=True)\n",
    "            bn_batch=bn_batch.to(device, non_blocking=True)\n",
    "            rm_mask_padding=rm_mask_padding.to(device, non_blocking=True)\n",
    "            bn_mask_batch=bn_mask_batch.to(device, non_blocking=True)\n",
    "\n",
    "            # print(total_b)\n",
    "            B = rm_batch.shape[0]\n",
    "\n",
    "            bn_batch_in = bn_batch[:, :-1] # except the last step\n",
    "            bn_mask_batch_in = bn_mask_batch[:, :-1] # except the last step\n",
    "            bn_batch_out = bn_batch[:, 1:] # everything excep the first tokens\n",
    "            # bn_mask_batch_out = bn_mask_batch[:, 1:] # everything except the first step\n",
    "            bn_batch_out_pred = transformer(rm_batch, bn_batch_in, rm_mask_padding, bn_mask_batch_in)\n",
    "\n",
    "            loss_ = loss_fn(bn_batch_out_pred.view(-1, bn_vocab_size), bn_batch_out.flatten().type(torch.long))\n",
    "            accuracy_ = accuracy(bn_batch_out_pred.argmax(dim=-1), bn_batch_out).item()\n",
    "            \n",
    "            mean_loss += loss_.item()*B\n",
    "            mean_accuracy += accuracy_*B\n",
    "\n",
    "            total_b += B\n",
    "    print(f\"TEST: Mean loss: {mean_loss/total_b}, Mean Accuracy: {mean_accuracy/total_b}\")\n",
    "    for text in texts:\n",
    "        print(transformer.transliterate(text, max_output_len=128, stop_idx=3))\n",
    "    # print(transformer.transliterate('Tumi ki bokachoda?', max_output_len=256, stop_idx=3))"
   ]
  },
  {
   "cell_type": "markdown",
   "metadata": {},
   "source": [
    "# 8. Test Time Example Tests"
   ]
  },
  {
   "cell_type": "code",
   "execution_count": 90,
   "metadata": {
    "execution": {
     "iopub.execute_input": "2025-05-09T16:03:22.463329Z",
     "iopub.status.busy": "2025-05-09T16:03:22.462914Z",
     "iopub.status.idle": "2025-05-09T16:03:28.879185Z",
     "shell.execute_reply": "2025-05-09T16:03:28.878437Z",
     "shell.execute_reply.started": "2025-05-09T16:03:22.463306Z"
    },
    "trusted": true
   },
   "outputs": [
    {
     "name": "stdout",
     "output_type": "stream",
     "text": [
      "===================================================================================================================================\n",
      "BANGLISH:=>> Utho, jago, ebong lokkho arjon na kora porjonto themo na.\n",
      "BANGLA:=>> <BOS>উঠ, যাগো, এবং লক আরো এর জন্য করা পর্যন্ত থেকে তামন না।<EOS>\n",
      "===================================================================================================================================\n",
      "===================================================================================================================================\n",
      "BANGLISH:=>> Shokti holo jibon, durbolota holo mrityu.\n",
      "BANGLA:=>> <BOS>সক্ষতি হলো জীবন, ডার্বলতা হলো মরিটিউব <EOS>\n",
      "===================================================================================================================================\n",
      "===================================================================================================================================\n",
      "BANGLISH:=>> Tumi ja bhabo, tai tumi hoye jao.\n",
      "BANGLA:=>> <BOS>টুমি যা ভাবো, তাই তোমি হয়ে যাও যাও।<EOS>\n",
      "===================================================================================================================================\n",
      "===================================================================================================================================\n",
      "BANGLISH:=>> Ekti dharona grohon koro, seta niye shopno dekho, seta niye bacho.\n",
      "BANGLA:=>> <BOS>একটি ধারনা গ্রহন করো, সেটা নিয়ে সহপন্য দেখো সে টা নিয়ে ভাই হবে।<EOS>\n",
      "===================================================================================================================================\n",
      "===================================================================================================================================\n",
      "BANGLISH:=>> Jodi ekta din kono samoshyar mukhomukhi na hao, tahole bujhte hobe tumi bhul pothe cholcho.\n",
      "BANGLA:=>> <BOS>যদি একটা দিন কোনো সাময়ার মুষয় কুমি না হা হা, তাহলে বুঝলে হতে হবে বুঝলে মো টা হল্প হতো। চালে চলে ছি। <EOS>\n",
      "===================================================================================================================================\n",
      "===================================================================================================================================\n",
      "BANGLISH:=>> Shob shokti tomari moddhe ache, etar upor bishwas rakho.\n",
      "BANGLA:=>> <BOS>সব ষ্ক্কি তোমারি মধ্যে আছে, এটার উপর বিশ হওয়ার কার কাছে। <EOS>\n",
      "===================================================================================================================================\n",
      "===================================================================================================================================\n",
      "BANGLISH:=>> Jodi tumi eksho bar byartho hao, tobu chesta chaliye jao.\n",
      "BANGLA:=>> <BOS>যদি টামি একস বার বাড়ত হা , তবু চেষ্টা চালিয়ে যালি যাও হয়। <EOS>\n",
      "===================================================================================================================================\n",
      "===================================================================================================================================\n",
      "BANGLISH:=>> Jibon holo songram, ebong songram chara kono agragoti nei.\n",
      "BANGLA:=>> <BOS>জীবন হলো সংরাম, এবং সংগ্রাম চেঞ্জ করা আগে করারো নেই।<EOS>\n",
      "===================================================================================================================================\n",
      "===================================================================================================================================\n",
      "BANGLISH:=>> Tumi ja bhabo, tai tumi hoye jao.\n",
      "BANGLA:=>> <BOS>টুমি যা ভাবো, তাই তোমি হয়ে যাও যাও।<EOS>\n",
      "===================================================================================================================================\n",
      "===================================================================================================================================\n",
      "BANGLISH:=>> Shokti holo jibon, durbolota holo mrityu.\n",
      "BANGLA:=>> <BOS>সক্ষতি হলো জীবন, ডার্বলতা হলো মরিটিউব <EOS>\n",
      "===================================================================================================================================\n",
      "===================================================================================================================================\n",
      "BANGLISH:=>> Jodi tumi surjo hariye kande, tahole chokher jol tomake tara dekhte dibe na.\n",
      "BANGLA:=>> <BOS>যদি টিউমি সুর্য হারিয়ে কান, তাহলে চে কাজ করলে যখলাম টা টাকা দেখতে হবে। দেখতে না দিবে ।<EOS>\n",
      "===================================================================================================================================\n",
      "===================================================================================================================================\n",
      "BANGLISH:=>> Jodi tor daak shune keu na ashe, tobe ekla cholo re.\n",
      "BANGLA:=>> <BOS>যদি তর দাক শুনে কেউ না আসে, তবে এক লা চলে রে।<EOS>\n",
      "===================================================================================================================================\n",
      "===================================================================================================================================\n",
      "BANGLISH:=>> Tumi jodi shob bhul er dorja bondho koro, tahole shotti o probesh korte parbe na.\n",
      "BANGLA:=>> <BOS>টিউমি যদি সব বুঝলার এর ডোর্যান্ড বো করো, তাহলে স্টোর ও প্রব হইছে এর কষ্ট এর পরে থাকে দিবেন। <EOS>\n",
      "===================================================================================================================================\n",
      "===================================================================================================================================\n",
      "BANGLISH:=>> Tumi shudhu jol er dike takiye thakle, samudra par korte parbe na.\n",
      "BANGLA:=>> <BOS>টিউমি শুধু যদূ এর দিকে তাকি থাকলে, শিম দার পার কারতে পারবে না। <EOS>\n",
      "===================================================================================================================================\n",
      "===================================================================================================================================\n",
      "BANGLISH:=>> Manush ekta shishu, tar shokti holo briddhi.\n",
      "BANGLA:=>> <BOS>মানুস একটা শিয়স, তার শক্তি হলো ব্রড দিহি। <EOS>\n",
      "===================================================================================================================================\n",
      "===================================================================================================================================\n",
      "BANGLISH:=>> Bristi poreche, ami chatri niye beriyechi!\n",
      "BANGLA:=>> <BOS>ব্রাইস্টি পরছে, আমি চার্ট্রি নিয়ে বেরি!<EOS>\n",
      "===================================================================================================================================\n",
      "===================================================================================================================================\n",
      "BANGLISH:=>> Ei poth cholte cholte raat hoye gelo.\n",
      "BANGLA:=>> <BOS>এই পোথ চলতে চলতে রাহ হয়ে গেলো। গেলো।<EOS>\n",
      "===================================================================================================================================\n",
      "===================================================================================================================================\n",
      "BANGLISH:=>> Tumi amake rokto dao, ami tomake swadhinota debo.\n",
      "BANGLA:=>> <BOS>টামি আমাকে রুট দেও, আমি তোকাম সাধা নিত দে তবো।<EOS>\n",
      "===================================================================================================================================\n",
      "===================================================================================================================================\n",
      "BANGLISH:=>> Ami tomar bhalobasha chai, kichu beshi na.\n",
      "BANGLA:=>> <BOS>আমি তোমার ভালোবাসা চাই, কিছু বেশি না। <EOS>\n",
      "===================================================================================================================================\n",
      "===================================================================================================================================\n",
      "BANGLISH:=>> Kalke amar porikkha, kintu ami ekhono pori nai.\n",
      "BANGLA:=>> <BOS>কালকে আমার পরিকা, কিন্তু আমি এখনো পরি নাই।<EOS>\n",
      "===================================================================================================================================\n"
     ]
    }
   ],
   "source": [
    "texts = [\n",
    "    # Swami Vivekananda\n",
    "    \"Utho, jago, ebong lokkho arjon na kora porjonto themo na.\",\n",
    "    \"Shokti holo jibon, durbolota holo mrityu.\",\n",
    "    \"Tumi ja bhabo, tai tumi hoye jao.\",\n",
    "    \"Ekti dharona grohon koro, seta niye shopno dekho, seta niye bacho.\",\n",
    "    \"Jodi ekta din kono samoshyar mukhomukhi na hao, tahole bujhte hobe tumi bhul pothe cholcho.\",\n",
    "    \"Shob shokti tomari moddhe ache, etar upor bishwas rakho.\",\n",
    "    \"Jodi tumi eksho bar byartho hao, tobu chesta chaliye jao.\",\n",
    "    \"Jibon holo songram, ebong songram chara kono agragoti nei.\",\n",
    "    \"Tumi ja bhabo, tai tumi hoye jao.\",\n",
    "    \"Shokti holo jibon, durbolota holo mrityu.\",\n",
    "\n",
    "    # Rabindranath Tagore\n",
    "    \"Jodi tumi surjo hariye kande, tahole chokher jol tomake tara dekhte dibe na.\",\n",
    "    \"Jodi tor daak shune keu na ashe, tobe ekla cholo re.\",\n",
    "    \"Tumi jodi shob bhul er dorja bondho koro, tahole shotti o probesh korte parbe na.\",\n",
    "    \"Tumi shudhu jol er dike takiye thakle, samudra par korte parbe na.\",\n",
    "    \"Manush ekta shishu, tar shokti holo briddhi.\",\n",
    "    \"Bristi poreche, ami chatri niye beriyechi!\",\n",
    "    \"Ei poth cholte cholte raat hoye gelo.\",\n",
    "    \"Tumi amake rokto dao, ami tomake swadhinota debo.\",\n",
    "    \"Ami tomar bhalobasha chai, kichu beshi na.\",\n",
    "    \"Kalke amar porikkha, kintu ami ekhono pori nai.\"\n",
    "]\n",
    "for text in texts:\n",
    "    print('===================================================================================================================================')\n",
    "    print(\"BANGLISH:=>>\", text)\n",
    "    print(\"BANGLA:=>>\",transformer.transliterate(text, max_output_len=256, stop_idx=3))\n",
    "    print('===================================================================================================================================')"
   ]
  },
  {
   "cell_type": "code",
   "execution_count": 81,
   "metadata": {
    "execution": {
     "iopub.execute_input": "2025-05-09T15:58:45.879930Z",
     "iopub.status.busy": "2025-05-09T15:58:45.879264Z",
     "iopub.status.idle": "2025-05-09T15:58:59.308585Z",
     "shell.execute_reply": "2025-05-09T15:58:59.307991Z",
     "shell.execute_reply.started": "2025-05-09T15:58:45.879900Z"
    },
    "trusted": true
   },
   "outputs": [
    {
     "name": "stdout",
     "output_type": "stream",
     "text": [
      "===================================================================================================================================\n",
      "BANGLISH:=>> O baba! Ei toh amar purono diary.\n",
      "BANGLA:=>> <BOS>ও বাবা! এই তোহ আমার পুর্ণ দিয়ার।<EOS>\n",
      "===================================================================================================================================\n",
      "===================================================================================================================================\n",
      "BANGLISH:=>> Bus ta chole gelo, ami ekhono rastay dariye.\n",
      "BANGLA:=>> <BOS>বাস টা চলে গেলো, আমি এখনো রাস্টায় দারিয়ে।<EOS>\n",
      "===================================================================================================================================\n",
      "===================================================================================================================================\n",
      "BANGLISH:=>> Shondhya bela, meghla akash, aar ek cup cha.\n",
      "BANGLA:=>> <BOS>সন্দেখা বেলা, মেগা একসা আশা এর এক পুর চাচ্ছা। <EOS>\n",
      "===================================================================================================================================\n",
      "===================================================================================================================================\n",
      "BANGLISH:=>> Tomar haashi ta aj onno rokom lagchhe.\n",
      "BANGLA:=>> <BOS>তোমার হাসি টা আজ অন্য রমোক লাগছে। <EOS>\n",
      "===================================================================================================================================\n",
      "===================================================================================================================================\n",
      "BANGLISH:=>> Ei golpota shotti na mittha, ke jane!\n",
      "BANGLA:=>> <BOS>এই গল্পটা সহত্তি না মিথ্যা, কে জানে!!<EOS>\n",
      "===================================================================================================================================\n",
      "===================================================================================================================================\n",
      "BANGLISH:=>> Shey abar asbe na, bujhte parini ami.\n",
      "BANGLA:=>> <BOS>সেই আবার আসবে না, বুঝতে পারিনি আমি। <EOS>\n",
      "===================================================================================================================================\n",
      "===================================================================================================================================\n",
      "BANGLISH:=>> Chor palie gelo, kintu police ekdom ready chhilo.\n",
      "BANGLA:=>> <BOS>চোর পালি গেলো, কিন্তু পলাইস একদম দের এ চালি ছিল।<EOS>\n",
      "===================================================================================================================================\n",
      "===================================================================================================================================\n",
      "BANGLISH:=>> Ami jani na keno, kintu mone hoy bhul korechhi.\n",
      "BANGLA:=>> <BOS>আমি জানি না কেন, কিন্তু মনে হয় ভাল করেছি। <EOS>\n",
      "===================================================================================================================================\n",
      "===================================================================================================================================\n",
      "BANGLISH:=>> Bristi porchhe, aar ami chatri niye beriyechi!\n",
      "BANGLA:=>> <BOS>ব্রাইস্টি পরচে, আর আমি চাত্রি নিয়ে বেরি!<EOS>\n",
      "===================================================================================================================================\n",
      "===================================================================================================================================\n",
      "BANGLISH:=>> Kichu kichu kotha thake mone, jodio somoy chole jay.\n",
      "BANGLA:=>> <BOS>কিছু কিছু কথা থাকে মনে, যদিও সময় চোলে চালে যায়।<EOS>\n",
      "===================================================================================================================================\n",
      "===================================================================================================================================\n",
      "BANGLISH:=>> Chhuti diner shokal, bed theke uthte iccha kore na.\n",
      "BANGLA:=>> <BOS>চুহিটি দিনের শোকাল, বেড থেকে উঠিক আছে করে না।<EOS>\n",
      "===================================================================================================================================\n",
      "===================================================================================================================================\n",
      "BANGLISH:=>> Laptop ta abar hang korlo, ekhono kaj sesh hoyni.\n",
      "BANGLA:=>> <BOS>লাপটপ টা আবার হ্যান্গ করলে, এখনও কাজ সে হয়নি।<EOS>\n",
      "===================================================================================================================================\n",
      "===================================================================================================================================\n",
      "BANGLISH:=>> Misti kheye khub moja holo, kintu choker jol thamlo na.\n",
      "BANGLA:=>> <BOS>মিইউজি খেয়ে খুব মজা হলো, কিন্তু চেক করে যদি তাহলো নাম না। <EOS>\n",
      "===================================================================================================================================\n",
      "===================================================================================================================================\n",
      "BANGLISH:=>> Shey bollo, 'Ami chole jabo', ar ami kichu bolte parlam na.\n",
      "BANGLA:=>> <BOS>সেই বলল, মেই চলে যাবো,, আর আমি কিছু বলতে পারলে না।<EOS>\n",
      "===================================================================================================================================\n",
      "===================================================================================================================================\n",
      "BANGLISH:=>> Ghore pashbalish nei, raat ta ki bhabe katbo!\n",
      "BANGLA:=>> <BOS>ঘরে পাসবালিশ নেই, রাত টা কি ভাবে কাটে কাটবো!<EOS>\n",
      "===================================================================================================================================\n",
      "===================================================================================================================================\n",
      "BANGLISH:=>> Tomar chokher ei bhasha ami bujhte shikhechi.\n",
      "BANGLA:=>> <BOS>তোমার চোখের এই ভাসা আমি বুঝতে শেখেছি।<EOS>\n",
      "===================================================================================================================================\n",
      "===================================================================================================================================\n",
      "BANGLISH:=>> Ei notun gaan ta khub touching!\n",
      "BANGLA:=>> <BOS>এই নতুন গান টা খুব টুকাছিং! <EOS>\n",
      "===================================================================================================================================\n",
      "===================================================================================================================================\n",
      "BANGLISH:=>> Train ta 10 minute deri te chilo, tai bus niyechilam.\n",
      "BANGLA:=>> <BOS>ট্রায়ন টা ১০ মিনিট দেরি তে চাইল , তাই বুস নিয়েছিলাম।<EOS>\n",
      "===================================================================================================================================\n",
      "===================================================================================================================================\n",
      "BANGLISH:=>> Pet kharap, doctor bollo kichu khawa jabe na.\n",
      "BANGLA:=>> <BOS>পেত খারাপ, ডক্তার বলছি কিছু খাওয়া যাবে না।<EOS>\n",
      "===================================================================================================================================\n",
      "===================================================================================================================================\n",
      "BANGLISH:=>> Aj tar birthday, kintu shey shobai theke dure.\n",
      "BANGLA:=>> <BOS>আজ টার বির্থড, কিন্তু শেয় সবাই থেকে দূরেক দূরে। <EOS>\n",
      "===================================================================================================================================\n",
      "===================================================================================================================================\n",
      "BANGLISH:=>> Chhoto belar golpo gulo mone pore, chokhe jol eshe jay.\n",
      "BANGLA:=>> <BOS>চলত বেলার গুলপ গুলো মনে পরে, চোখে যে এসে হলে যায়।<EOS>\n",
      "===================================================================================================================================\n",
      "===================================================================================================================================\n",
      "BANGLISH:=>> Tumi chilo amar shopner modhye ekta sundor golpo.\n",
      "BANGLA:=>> <BOS>টামিউই ছিলো আমার সপ্নার মধীয়ে একটা সুন্দর গুল পর্লো। <EOS>\n",
      "===================================================================================================================================\n",
      "===================================================================================================================================\n",
      "BANGLISH:=>> Ghum bhenge gelo, kintu shopno ta mone nei.\n",
      "BANGLA:=>> <BOS>ঘুম ভেঞ্জ গেলো, কিন্তু সপ্ন্য টা মনে নেই।<EOS>\n",
      "===================================================================================================================================\n",
      "===================================================================================================================================\n",
      "BANGLISH:=>> Kichu din ghure ashi? Mon ta khub bhore ache.\n",
      "BANGLA:=>> <BOS>কিছু দিন গ্রে আশা আসি? মান টা খুব আবারে আছে। <EOS>\n",
      "===================================================================================================================================\n",
      "===================================================================================================================================\n",
      "BANGLISH:=>> Rickshaw wala bollo, 'Babu, ekhane jam achhe!'\n",
      "BANGLA:=>> <BOS>রিকসাও ওয়ালা বলছ, এবাট, এখাবে এখানে যাম আছে!<EOS>\n",
      "===================================================================================================================================\n",
      "===================================================================================================================================\n",
      "BANGLISH:=>> Cinema ta khub boring chhilo, ami majhe beriye elam.\n",
      "BANGLA:=>> <BOS>কাইনমা টা খুব বরিং চাইলো, আমি মাঝে বারিয়ে বারলাম। ইলাম। <EOS>\n",
      "===================================================================================================================================\n",
      "===================================================================================================================================\n",
      "BANGLISH:=>> Chhele ta chocolate kheye hath bhenge felllo!\n",
      "BANGLA:=>> <BOS>চেলে তা চোলাটে খেয়ে হাতে হাবেন ফেললা !<EOS>\n",
      "===================================================================================================================================\n",
      "===================================================================================================================================\n",
      "BANGLISH:=>> Shey amar dike takiye bollo, 'Bhalo thako'.\n",
      "BANGLA:=>> <BOS>সেই আমার দিকে টাকিয়ে বলছি, এবালো থাকে । <EOS>\n",
      "===================================================================================================================================\n",
      "===================================================================================================================================\n",
      "BANGLISH:=>> Aj school e teacher aseni, sobai khushi!\n",
      "BANGLA:=>> <BOS>আজ সচলো এ তেছেড়ার আসেনি, সবাই খুসি! <EOS>\n",
      "===================================================================================================================================\n",
      "===================================================================================================================================\n",
      "BANGLISH:=>> Chand uthechhe, brishti porchhe, raat khub romantic.\n",
      "BANGLA:=>> <BOS>চ্যান্দ উঠেছে, ব্রাইস্ট পরচে, আর কাটু খুব রমান্টায়ান্টিক। <EOS>\n",
      "===================================================================================================================================\n",
      "===================================================================================================================================\n",
      "BANGLISH:=>> Taka ta kothay gelo? Ami to ektu aagei rekhechhilam!\n",
      "BANGLA:=>> <BOS>টাকা তা কোথায় গেলো? আমি তো একটু আগেই রেখেছিলাম! কাছিলাম!<EOS>\n",
      "===================================================================================================================================\n",
      "===================================================================================================================================\n",
      "BANGLISH:=>> Ei notun mobile ta khub smart, kintu battery khub kom chole.\n",
      "BANGLA:=>> <BOS>এই নতুন মোবাইল টা খুব স্মার্ট, কিন্তু বাটারী খুব কম খেলে। চলে। <EOS>\n",
      "===================================================================================================================================\n",
      "===================================================================================================================================\n",
      "BANGLISH:=>> Tumi je amar chhobi ta tulchho, eta boloni toh!\n",
      "BANGLA:=>> <BOS>টামিউ যে আমার ছবি তা তুলছি, এটা বলোনি তো হয়!<EOS>\n",
      "===================================================================================================================================\n",
      "===================================================================================================================================\n",
      "BANGLISH:=>> Jam chhilo na, kintu ami deri korei beriyechilam.\n",
      "BANGLA:=>> <BOS>যাম ছিলো না, কিন্তু আমি দেরি করেই বেশিয়েছিলাম।আর <EOS>\n",
      "===================================================================================================================================\n",
      "===================================================================================================================================\n",
      "BANGLISH:=>> Kichu kichu gaan mone boro ekta gopon kotha mone koray.\n",
      "BANGLA:=>> <BOS>কিছু কিছু গান মনে বড়ো একটা গতো গতক কোন মো মোনে করা হয়।<EOS>\n",
      "===================================================================================================================================\n",
      "===================================================================================================================================\n",
      "BANGLISH:=>> Shey chhilo amar pasher barir meye, ekhon tar kono khobor nei.\n",
      "BANGLA:=>> <BOS>সেই চাইলো আমার পাসের বাড়ি, মেয়ে এখন টার কোনো কারণ কেই ব্রো নেই।<EOS>\n",
      "===================================================================================================================================\n",
      "===================================================================================================================================\n",
      "BANGLISH:=>> Coffee ta thanda hoye gelo, kintu tumi toh asle na!\n",
      "BANGLA:=>> <BOS>কফি টা থ্যান্ডা হয়ে গেল কিন্তু টা মিয় তো আসল না!<EOS>\n",
      "===================================================================================================================================\n",
      "===================================================================================================================================\n",
      "BANGLISH:=>> Akasher oi megh gulo dekhle mone hoy ami urte pari.\n",
      "BANGLA:=>> <BOS>একাশের ওই মেগ গুলো দেখলে মনে হয় আমি আর ইটা পারি।<EOS>\n",
      "===================================================================================================================================\n",
      "===================================================================================================================================\n",
      "BANGLISH:=>> Kalke raat e brishti chhilo, tar sathe chhilo golpo.\n",
      "BANGLA:=>> <BOS>কালে রাট এ ব্রিস্তি ছিল তার সাথে চাইল গুল হল্প।<EOS>\n",
      "===================================================================================================================================\n",
      "===================================================================================================================================\n",
      "BANGLISH:=>> Nijer sathe nijer loraai chhilo sobcheye kothin.\n",
      "BANGLA:=>> <BOS>নিজের সাথে নিজের লোরাই চালছি সব কথে কইন।<EOS>\n",
      "===================================================================================================================================\n",
      "===================================================================================================================================\n",
      "BANGLISH:=>> Bari phire dekhlam, sob kichu othe jemon chhilo.\n",
      "BANGLA:=>> <BOS>বারি ফায়ার দেখলাম, সব কিছু ওটে হেমন চ্ছিল। <EOS>\n",
      "===================================================================================================================================\n",
      "===================================================================================================================================\n",
      "BANGLISH:=>> Ajke tomar mukh dekhe din ta valo lagchhe!\n",
      "BANGLA:=>> <BOS>আজকে তোমার মুখ দেখে দিন তা ভালো লাগছে!<EOS>\n",
      "===================================================================================================================================\n",
      "===================================================================================================================================\n",
      "BANGLISH:=>> Shohor ta porichito, kintu manush gulo noy.\n",
      "BANGLA:=>> <BOS>সহ তার পরিচিট, কিন্তু মানুষ গুলো নয়।<EOS>\n",
      "===================================================================================================================================\n",
      "===================================================================================================================================\n",
      "BANGLISH:=>> Tui abar hath ketechhis? Ar koto bar bolbo?\n",
      "BANGLA:=>> <BOS>টুই আবার হাথা কেতেছি? আর কত বার বলবো?<EOS>\n",
      "===================================================================================================================================\n",
      "===================================================================================================================================\n",
      "BANGLISH:=>> Ekbar mathaye jodi kichu dhuke, ber hoy na!\n",
      "BANGLA:=>> <BOS>একবার মাথায়ে যদি কিছু ঢুকে, বের হয় না!<EOS>\n",
      "===================================================================================================================================\n",
      "===================================================================================================================================\n",
      "BANGLISH:=>> Tumi ki ekhono bhabcho amar kotha?\n",
      "BANGLA:=>> <BOS>টামিউই কি এখনো ভাবেও আমার কথা?<EOS>\n",
      "===================================================================================================================================\n",
      "===================================================================================================================================\n",
      "BANGLISH:=>> Aj ami nijeke ekta chhoto boyosh er chhele mone korchi.\n",
      "BANGLA:=>> <BOS>আজ আমি নিজেকে একটা চতো বুট হয়ে আর চেলে মনে কোনো করছি।<EOS>\n",
      "===================================================================================================================================\n",
      "===================================================================================================================================\n",
      "BANGLISH:=>> Tui chhere gechhis, kintu mone toh achhis!\n",
      "BANGLA:=>> <BOS>টুই চেয়ার গেছি, কিন্তু মনে তো আছে! <EOS>\n",
      "===================================================================================================================================\n",
      "===================================================================================================================================\n",
      "BANGLISH:=>> Ei poth ta je kothay je niye jabe, ami jani na.\n",
      "BANGLA:=>> <BOS>এই পোথ টা যে কোথায় যে নিয়ে যাবে, আমি জানি না।<EOS>\n",
      "===================================================================================================================================\n",
      "===================================================================================================================================\n",
      "BANGLISH:=>> Ami tomar naam ta ekbar shunei bhalobeshechhilam.\n",
      "BANGLA:=>> <BOS>আমি তোমার নাম টা একবার শুনেই ভালোবেশি<EOS>\n",
      "===================================================================================================================================\n",
      "===================================================================================================================================\n",
      "BANGLISH:=>> Paharer opor theke surjo dube jawa dekhte bhalo lage.\n",
      "BANGLA:=>> <BOS>পাহারের অপর থেকে সুর্য ডাবে যাওয়া দেখতে  ভালো লাগে। <EOS>\n",
      "===================================================================================================================================\n"
     ]
    }
   ],
   "source": [
    "texts = [\n",
    "    \"O baba! Ei toh amar purono diary.\",\n",
    "    \"Bus ta chole gelo, ami ekhono rastay dariye.\",\n",
    "    \"Shondhya bela, meghla akash, aar ek cup cha.\",\n",
    "    \"Tomar haashi ta aj onno rokom lagchhe.\",\n",
    "    \"Ei golpota shotti na mittha, ke jane!\",\n",
    "    \"Shey abar asbe na, bujhte parini ami.\",\n",
    "    \"Chor palie gelo, kintu police ekdom ready chhilo.\",\n",
    "    \"Ami jani na keno, kintu mone hoy bhul korechhi.\",\n",
    "    \"Bristi porchhe, aar ami chatri niye beriyechi!\",\n",
    "    \"Kichu kichu kotha thake mone, jodio somoy chole jay.\",\n",
    "    \"Chhuti diner shokal, bed theke uthte iccha kore na.\",\n",
    "    \"Laptop ta abar hang korlo, ekhono kaj sesh hoyni.\",\n",
    "    \"Misti kheye khub moja holo, kintu choker jol thamlo na.\",\n",
    "    \"Shey bollo, 'Ami chole jabo', ar ami kichu bolte parlam na.\",\n",
    "    \"Ghore pashbalish nei, raat ta ki bhabe katbo!\",\n",
    "    \"Tomar chokher ei bhasha ami bujhte shikhechi.\",\n",
    "    \"Ei notun gaan ta khub touching!\",\n",
    "    \"Train ta 10 minute deri te chilo, tai bus niyechilam.\",\n",
    "    \"Pet kharap, doctor bollo kichu khawa jabe na.\",\n",
    "    \"Aj tar birthday, kintu shey shobai theke dure.\",\n",
    "    \"Chhoto belar golpo gulo mone pore, chokhe jol eshe jay.\",\n",
    "    \"Tumi chilo amar shopner modhye ekta sundor golpo.\",\n",
    "    \"Ghum bhenge gelo, kintu shopno ta mone nei.\",\n",
    "    \"Kichu din ghure ashi? Mon ta khub bhore ache.\",\n",
    "    \"Rickshaw wala bollo, 'Babu, ekhane jam achhe!'\",\n",
    "    \"Cinema ta khub boring chhilo, ami majhe beriye elam.\",\n",
    "    \"Chhele ta chocolate kheye hath bhenge felllo!\",\n",
    "    \"Shey amar dike takiye bollo, 'Bhalo thako'.\",\n",
    "    \"Aj school e teacher aseni, sobai khushi!\",\n",
    "    \"Chand uthechhe, brishti porchhe, raat khub romantic.\",\n",
    "    \"Taka ta kothay gelo? Ami to ektu aagei rekhechhilam!\",\n",
    "    \"Ei notun mobile ta khub smart, kintu battery khub kom chole.\",\n",
    "    \"Tumi je amar chhobi ta tulchho, eta boloni toh!\",\n",
    "    \"Jam chhilo na, kintu ami deri korei beriyechilam.\",\n",
    "    \"Kichu kichu gaan mone boro ekta gopon kotha mone koray.\",\n",
    "    \"Shey chhilo amar pasher barir meye, ekhon tar kono khobor nei.\",\n",
    "    \"Coffee ta thanda hoye gelo, kintu tumi toh asle na!\",\n",
    "    \"Akasher oi megh gulo dekhle mone hoy ami urte pari.\",\n",
    "    \"Kalke raat e brishti chhilo, tar sathe chhilo golpo.\",\n",
    "    \"Nijer sathe nijer loraai chhilo sobcheye kothin.\",\n",
    "    \"Bari phire dekhlam, sob kichu othe jemon chhilo.\",\n",
    "    \"Ajke tomar mukh dekhe din ta valo lagchhe!\",\n",
    "    \"Shohor ta porichito, kintu manush gulo noy.\",\n",
    "    \"Tui abar hath ketechhis? Ar koto bar bolbo?\",\n",
    "    \"Ekbar mathaye jodi kichu dhuke, ber hoy na!\",\n",
    "    \"Tumi ki ekhono bhabcho amar kotha?\",\n",
    "    \"Aj ami nijeke ekta chhoto boyosh er chhele mone korchi.\",\n",
    "    \"Tui chhere gechhis, kintu mone toh achhis!\",\n",
    "    \"Ei poth ta je kothay je niye jabe, ami jani na.\",\n",
    "    \"Ami tomar naam ta ekbar shunei bhalobeshechhilam.\",\n",
    "    \"Paharer opor theke surjo dube jawa dekhte bhalo lage.\"\n",
    "]\n",
    "for text in texts:\n",
    "    print('===================================================================================================================================')\n",
    "    print(\"BANGLISH:=>>\", text)\n",
    "    print(\"BANGLA:=>>\",transformer.transliterate(text, max_output_len=256, stop_idx=3))\n",
    "    print('===================================================================================================================================')"
   ]
  },
  {
   "cell_type": "code",
   "execution_count": 107,
   "metadata": {
    "execution": {
     "iopub.execute_input": "2025-05-09T16:12:28.166638Z",
     "iopub.status.busy": "2025-05-09T16:12:28.166129Z",
     "iopub.status.idle": "2025-05-09T16:12:28.528753Z",
     "shell.execute_reply": "2025-05-09T16:12:28.528135Z",
     "shell.execute_reply.started": "2025-05-09T16:12:28.166619Z"
    },
    "trusted": true
   },
   "outputs": [
    {
     "name": "stdout",
     "output_type": "stream",
     "text": [
      "===================================================================================================================================\n",
      "BANGLISH:=>> amar pood e kathhi korle amio dekhiye debo\n",
      "BANGLA:=>> <BOS>আমার পদ এ কাটি করলে আমিও দেখিয়ে দেবো<EOS>\n",
      "===================================================================================================================================\n",
      "===================================================================================================================================\n",
      "BANGLISH:=>> bes Harami manush to!!\n",
      "BANGLA:=>> <BOS>বেশ হারামি মানুষি তো!!!!<EOS>\n",
      "===================================================================================================================================\n"
     ]
    }
   ],
   "source": [
    "# Tried some bengali slangs. Kindly ignore\n",
    "texts = [\n",
    "    'amar pood e kathhi korle amio dekhiye debo',\n",
    "    'bes Harami manush to!!'\n",
    "]\n",
    "for text in texts:\n",
    "    print('===================================================================================================================================')\n",
    "    print(\"BANGLISH:=>>\", text)\n",
    "    print(\"BANGLA:=>>\",transformer.transliterate(text, max_output_len=256, stop_idx=3))\n",
    "    print('===================================================================================================================================')"
   ]
  },
  {
   "cell_type": "code",
   "execution_count": null,
   "metadata": {
    "trusted": true
   },
   "outputs": [],
   "source": []
  }
 ],
 "metadata": {
  "kaggle": {
   "accelerator": "gpu",
   "dataSources": [
    {
     "datasetId": 7370464,
     "sourceId": 11740910,
     "sourceType": "datasetVersion"
    }
   ],
   "dockerImageVersionId": 31011,
   "isGpuEnabled": true,
   "isInternetEnabled": true,
   "language": "python",
   "sourceType": "notebook"
  },
  "kernelspec": {
   "display_name": "Python 3",
   "language": "python",
   "name": "python3"
  },
  "language_info": {
   "codemirror_mode": {
    "name": "ipython",
    "version": 3
   },
   "file_extension": ".py",
   "mimetype": "text/x-python",
   "name": "python",
   "nbconvert_exporter": "python",
   "pygments_lexer": "ipython3",
   "version": "3.11.11"
  }
 },
 "nbformat": 4,
 "nbformat_minor": 4
}
